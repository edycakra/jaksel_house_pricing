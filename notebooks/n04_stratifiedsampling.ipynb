{
 "cells": [
  {
   "cell_type": "markdown",
   "metadata": {},
   "source": [
    "# Stratified Random Sampling to Improve Machine Learning Algorithm in South Jakarta House Price Prediction\n",
    "## Author: Edycakra Immanuel Sinaga\n"
   ]
  },
  {
   "cell_type": "code",
   "execution_count": 13,
   "metadata": {},
   "outputs": [],
   "source": [
    "#import dependencies\n",
    "import pandas as pd\n",
    "import numpy as np\n",
    "import matplotlib.pyplot as plt\n",
    "%matplotlib inline"
   ]
  },
  {
   "attachments": {},
   "cell_type": "markdown",
   "metadata": {},
   "source": [
    "### Load Dataset"
   ]
  },
  {
   "cell_type": "code",
   "execution_count": 14,
   "metadata": {},
   "outputs": [],
   "source": [
    "# this is the previous machine learning dataset (clean)\n",
    "df = pd.read_csv('../data/processed/olx_house_processed_ENG.csv', encoding='latin-1')"
   ]
  },
  {
   "cell_type": "code",
   "execution_count": 15,
   "metadata": {},
   "outputs": [
    {
     "data": {
      "text/html": [
       "<div>\n",
       "<style scoped>\n",
       "    .dataframe tbody tr th:only-of-type {\n",
       "        vertical-align: middle;\n",
       "    }\n",
       "\n",
       "    .dataframe tbody tr th {\n",
       "        vertical-align: top;\n",
       "    }\n",
       "\n",
       "    .dataframe thead th {\n",
       "        text-align: right;\n",
       "    }\n",
       "</style>\n",
       "<table border=\"1\" class=\"dataframe\">\n",
       "  <thead>\n",
       "    <tr style=\"text-align: right;\">\n",
       "      <th></th>\n",
       "      <th>NBED</th>\n",
       "      <th>NBATH</th>\n",
       "      <th>NFLOOR</th>\n",
       "      <th>BLDAR</th>\n",
       "      <th>LNDAR</th>\n",
       "      <th>CERT</th>\n",
       "      <th>LOC</th>\n",
       "      <th>Price</th>\n",
       "    </tr>\n",
       "  </thead>\n",
       "  <tbody>\n",
       "    <tr>\n",
       "      <th>0</th>\n",
       "      <td>5</td>\n",
       "      <td>5</td>\n",
       "      <td>2</td>\n",
       "      <td>133</td>\n",
       "      <td>200</td>\n",
       "      <td>SHM</td>\n",
       "      <td>Jagakarsa</td>\n",
       "      <td>2460000000</td>\n",
       "    </tr>\n",
       "    <tr>\n",
       "      <th>1</th>\n",
       "      <td>6</td>\n",
       "      <td>1</td>\n",
       "      <td>1</td>\n",
       "      <td>148</td>\n",
       "      <td>148</td>\n",
       "      <td>SHM</td>\n",
       "      <td>Setia Budi</td>\n",
       "      <td>1100000000</td>\n",
       "    </tr>\n",
       "    <tr>\n",
       "      <th>2</th>\n",
       "      <td>5</td>\n",
       "      <td>4</td>\n",
       "      <td>3</td>\n",
       "      <td>84</td>\n",
       "      <td>200</td>\n",
       "      <td>SHM</td>\n",
       "      <td>Tebet</td>\n",
       "      <td>2100000000</td>\n",
       "    </tr>\n",
       "    <tr>\n",
       "      <th>3</th>\n",
       "      <td>4</td>\n",
       "      <td>3</td>\n",
       "      <td>2</td>\n",
       "      <td>160</td>\n",
       "      <td>190</td>\n",
       "      <td>SHM</td>\n",
       "      <td>Cilandak</td>\n",
       "      <td>3600000000</td>\n",
       "    </tr>\n",
       "    <tr>\n",
       "      <th>4</th>\n",
       "      <td>3</td>\n",
       "      <td>3</td>\n",
       "      <td>1</td>\n",
       "      <td>303</td>\n",
       "      <td>250</td>\n",
       "      <td>SHM</td>\n",
       "      <td>Kebayoran Lama</td>\n",
       "      <td>10500000000</td>\n",
       "    </tr>\n",
       "  </tbody>\n",
       "</table>\n",
       "</div>"
      ],
      "text/plain": [
       "   NBED  NBATH  NFLOOR  BLDAR  LNDAR CERT             LOC        Price\n",
       "0     5      5       2    133    200  SHM       Jagakarsa   2460000000\n",
       "1     6      1       1    148    148  SHM      Setia Budi   1100000000\n",
       "2     5      4       3     84    200  SHM           Tebet   2100000000\n",
       "3     4      3       2    160    190  SHM        Cilandak   3600000000\n",
       "4     3      3       1    303    250  SHM  Kebayoran Lama  10500000000"
      ]
     },
     "execution_count": 15,
     "metadata": {},
     "output_type": "execute_result"
    }
   ],
   "source": [
    "df.head()\n"
   ]
  },
  {
   "cell_type": "code",
   "execution_count": 16,
   "metadata": {},
   "outputs": [
    {
     "data": {
      "text/html": [
       "<div>\n",
       "<style scoped>\n",
       "    .dataframe tbody tr th:only-of-type {\n",
       "        vertical-align: middle;\n",
       "    }\n",
       "\n",
       "    .dataframe tbody tr th {\n",
       "        vertical-align: top;\n",
       "    }\n",
       "\n",
       "    .dataframe thead th {\n",
       "        text-align: right;\n",
       "    }\n",
       "</style>\n",
       "<table border=\"1\" class=\"dataframe\">\n",
       "  <thead>\n",
       "    <tr style=\"text-align: right;\">\n",
       "      <th></th>\n",
       "      <th>Kecamatan</th>\n",
       "      <th>Populasi</th>\n",
       "    </tr>\n",
       "  </thead>\n",
       "  <tbody>\n",
       "    <tr>\n",
       "      <th>0</th>\n",
       "      <td>Tebet</td>\n",
       "      <td>221216</td>\n",
       "    </tr>\n",
       "    <tr>\n",
       "      <th>1</th>\n",
       "      <td>Pesanggrahan</td>\n",
       "      <td>246878</td>\n",
       "    </tr>\n",
       "    <tr>\n",
       "      <th>2</th>\n",
       "      <td>Cilandak</td>\n",
       "      <td>201588</td>\n",
       "    </tr>\n",
       "    <tr>\n",
       "      <th>3</th>\n",
       "      <td>Mampang Prapatan</td>\n",
       "      <td>145359</td>\n",
       "    </tr>\n",
       "    <tr>\n",
       "      <th>4</th>\n",
       "      <td>Setia Budi</td>\n",
       "      <td>107423</td>\n",
       "    </tr>\n",
       "    <tr>\n",
       "      <th>5</th>\n",
       "      <td>Kebayoran Lama</td>\n",
       "      <td>308542</td>\n",
       "    </tr>\n",
       "    <tr>\n",
       "      <th>6</th>\n",
       "      <td>Kebayoran Baru</td>\n",
       "      <td>139562</td>\n",
       "    </tr>\n",
       "    <tr>\n",
       "      <th>7</th>\n",
       "      <td>Pasar Minggu</td>\n",
       "      <td>304271</td>\n",
       "    </tr>\n",
       "    <tr>\n",
       "      <th>8</th>\n",
       "      <td>Pancoran</td>\n",
       "      <td>168583</td>\n",
       "    </tr>\n",
       "    <tr>\n",
       "      <th>9</th>\n",
       "      <td>Jagakarsa</td>\n",
       "      <td>383390</td>\n",
       "    </tr>\n",
       "  </tbody>\n",
       "</table>\n",
       "</div>"
      ],
      "text/plain": [
       "          Kecamatan  Populasi\n",
       "0             Tebet    221216\n",
       "1      Pesanggrahan    246878\n",
       "2          Cilandak    201588\n",
       "3  Mampang Prapatan    145359\n",
       "4        Setia Budi    107423\n",
       "5    Kebayoran Lama    308542\n",
       "6    Kebayoran Baru    139562\n",
       "7      Pasar Minggu    304271\n",
       "8          Pancoran    168583\n",
       "9         Jagakarsa    383390"
      ]
     },
     "execution_count": 16,
     "metadata": {},
     "output_type": "execute_result"
    }
   ],
   "source": [
    "# this is data of number of population in each kecamatan in south jakarta (gathered from jakarta.bps.go.id)\n",
    "population = [[\"Tebet\", 221216], [\"Pesanggrahan\", 246878 ], [\"Cilandak\", 201588 ], [\"Mampang Prapatan\", 145359], [\"Setia Budi\", 107423], [\"Kebayoran Lama\", 308542], [\"Kebayoran Baru\", 139562 ], [\"Pasar Minggu\", 304271], [\"Pancoran\", 168583], [\"Jagakarsa\", 383390 ]]\n",
    "\n",
    "df_pop = pd.DataFrame(population, columns=[\"Kecamatan\", \"Populasi\"])\n",
    "\n",
    "df_pop"
   ]
  },
  {
   "attachments": {},
   "cell_type": "markdown",
   "metadata": {},
   "source": [
    "### Count the Number of Kecamatan in ML Dataset"
   ]
  },
  {
   "cell_type": "code",
   "execution_count": 17,
   "metadata": {},
   "outputs": [],
   "source": [
    "df_init = df['LOC']. value_counts()"
   ]
  },
  {
   "cell_type": "code",
   "execution_count": 18,
   "metadata": {},
   "outputs": [
    {
     "data": {
      "text/plain": [
       "Cilandak            85\n",
       "Pesanggrahan        67\n",
       "Kebayoran Baru      63\n",
       "Pasar Minggu        58\n",
       "Mampang Prapatan    51\n",
       "Kebayoran Lama      35\n",
       "Pancoran            28\n",
       "Setia Budi           1\n",
       "Tebet                1\n",
       "Jagakarsa            1\n",
       "Name: LOC, dtype: int64"
      ]
     },
     "execution_count": 18,
     "metadata": {},
     "output_type": "execute_result"
    }
   ],
   "source": [
    "#number of house listed in each kecamatan\n",
    "df_init"
   ]
  },
  {
   "cell_type": "code",
   "execution_count": 19,
   "metadata": {},
   "outputs": [
    {
     "data": {
      "text/html": [
       "<div>\n",
       "<style scoped>\n",
       "    .dataframe tbody tr th:only-of-type {\n",
       "        vertical-align: middle;\n",
       "    }\n",
       "\n",
       "    .dataframe tbody tr th {\n",
       "        vertical-align: top;\n",
       "    }\n",
       "\n",
       "    .dataframe thead th {\n",
       "        text-align: right;\n",
       "    }\n",
       "</style>\n",
       "<table border=\"1\" class=\"dataframe\">\n",
       "  <thead>\n",
       "    <tr style=\"text-align: right;\">\n",
       "      <th></th>\n",
       "      <th>Kecamatan</th>\n",
       "      <th>Populasi</th>\n",
       "    </tr>\n",
       "  </thead>\n",
       "  <tbody>\n",
       "    <tr>\n",
       "      <th>0</th>\n",
       "      <td>Tebet</td>\n",
       "      <td>221216</td>\n",
       "    </tr>\n",
       "    <tr>\n",
       "      <th>1</th>\n",
       "      <td>Pesanggrahan</td>\n",
       "      <td>246878</td>\n",
       "    </tr>\n",
       "    <tr>\n",
       "      <th>2</th>\n",
       "      <td>Cilandak</td>\n",
       "      <td>201588</td>\n",
       "    </tr>\n",
       "    <tr>\n",
       "      <th>3</th>\n",
       "      <td>Mampang Prapatan</td>\n",
       "      <td>145359</td>\n",
       "    </tr>\n",
       "    <tr>\n",
       "      <th>4</th>\n",
       "      <td>Setia Budi</td>\n",
       "      <td>107423</td>\n",
       "    </tr>\n",
       "    <tr>\n",
       "      <th>5</th>\n",
       "      <td>Kebayoran Lama</td>\n",
       "      <td>308542</td>\n",
       "    </tr>\n",
       "    <tr>\n",
       "      <th>6</th>\n",
       "      <td>Kebayoran Baru</td>\n",
       "      <td>139562</td>\n",
       "    </tr>\n",
       "    <tr>\n",
       "      <th>7</th>\n",
       "      <td>Pasar Minggu</td>\n",
       "      <td>304271</td>\n",
       "    </tr>\n",
       "    <tr>\n",
       "      <th>8</th>\n",
       "      <td>Pancoran</td>\n",
       "      <td>168583</td>\n",
       "    </tr>\n",
       "    <tr>\n",
       "      <th>9</th>\n",
       "      <td>Jagakarsa</td>\n",
       "      <td>383390</td>\n",
       "    </tr>\n",
       "  </tbody>\n",
       "</table>\n",
       "</div>"
      ],
      "text/plain": [
       "          Kecamatan  Populasi\n",
       "0             Tebet    221216\n",
       "1      Pesanggrahan    246878\n",
       "2          Cilandak    201588\n",
       "3  Mampang Prapatan    145359\n",
       "4        Setia Budi    107423\n",
       "5    Kebayoran Lama    308542\n",
       "6    Kebayoran Baru    139562\n",
       "7      Pasar Minggu    304271\n",
       "8          Pancoran    168583\n",
       "9         Jagakarsa    383390"
      ]
     },
     "execution_count": 19,
     "metadata": {},
     "output_type": "execute_result"
    }
   ],
   "source": [
    "#number of population in each keacamatan\n",
    "df_pop"
   ]
  },
  {
   "attachments": {},
   "cell_type": "markdown",
   "metadata": {},
   "source": [
    "### Count the Proportion of Each Population in South Jakarta"
   ]
  },
  {
   "cell_type": "code",
   "execution_count": 20,
   "metadata": {},
   "outputs": [
    {
     "data": {
      "text/html": [
       "<div>\n",
       "<style scoped>\n",
       "    .dataframe tbody tr th:only-of-type {\n",
       "        vertical-align: middle;\n",
       "    }\n",
       "\n",
       "    .dataframe tbody tr th {\n",
       "        vertical-align: top;\n",
       "    }\n",
       "\n",
       "    .dataframe thead th {\n",
       "        text-align: right;\n",
       "    }\n",
       "</style>\n",
       "<table border=\"1\" class=\"dataframe\">\n",
       "  <thead>\n",
       "    <tr style=\"text-align: right;\">\n",
       "      <th></th>\n",
       "      <th>Kecamatan</th>\n",
       "      <th>ProporsiPopulasi</th>\n",
       "    </tr>\n",
       "  </thead>\n",
       "  <tbody>\n",
       "    <tr>\n",
       "      <th>0</th>\n",
       "      <td>Cilandak</td>\n",
       "      <td>0.0905</td>\n",
       "    </tr>\n",
       "    <tr>\n",
       "      <th>1</th>\n",
       "      <td>Jagakarsa</td>\n",
       "      <td>0.1722</td>\n",
       "    </tr>\n",
       "    <tr>\n",
       "      <th>2</th>\n",
       "      <td>Kebayoran Baru</td>\n",
       "      <td>0.0627</td>\n",
       "    </tr>\n",
       "    <tr>\n",
       "      <th>3</th>\n",
       "      <td>Kebayoran Lama</td>\n",
       "      <td>0.1386</td>\n",
       "    </tr>\n",
       "    <tr>\n",
       "      <th>4</th>\n",
       "      <td>Mampang Prapatan</td>\n",
       "      <td>0.0653</td>\n",
       "    </tr>\n",
       "    <tr>\n",
       "      <th>5</th>\n",
       "      <td>Pancoran</td>\n",
       "      <td>0.0757</td>\n",
       "    </tr>\n",
       "    <tr>\n",
       "      <th>6</th>\n",
       "      <td>Pasar Minggu</td>\n",
       "      <td>0.1366</td>\n",
       "    </tr>\n",
       "    <tr>\n",
       "      <th>7</th>\n",
       "      <td>Pesanggrahan</td>\n",
       "      <td>0.1109</td>\n",
       "    </tr>\n",
       "    <tr>\n",
       "      <th>8</th>\n",
       "      <td>Setia Budi</td>\n",
       "      <td>0.0482</td>\n",
       "    </tr>\n",
       "    <tr>\n",
       "      <th>9</th>\n",
       "      <td>Tebet</td>\n",
       "      <td>0.0993</td>\n",
       "    </tr>\n",
       "  </tbody>\n",
       "</table>\n",
       "</div>"
      ],
      "text/plain": [
       "          Kecamatan  ProporsiPopulasi\n",
       "0          Cilandak            0.0905\n",
       "1         Jagakarsa            0.1722\n",
       "2    Kebayoran Baru            0.0627\n",
       "3    Kebayoran Lama            0.1386\n",
       "4  Mampang Prapatan            0.0653\n",
       "5          Pancoran            0.0757\n",
       "6      Pasar Minggu            0.1366\n",
       "7      Pesanggrahan            0.1109\n",
       "8        Setia Budi            0.0482\n",
       "9             Tebet            0.0993"
      ]
     },
     "execution_count": 20,
     "metadata": {},
     "output_type": "execute_result"
    }
   ],
   "source": [
    "prop_population = []\n",
    "for index, kecamatan in enumerate(df_pop[\"Kecamatan\"], start=0):   \n",
    "    # print(kecamatan, df_pop[\"Populasi\"][index]/sum(df_pop[\"Populasi\"]))\n",
    "    prop_population.append([kecamatan, round(df_pop[\"Populasi\"][index]/sum(df_pop[\"Populasi\"]), 4)])\n",
    "# prop_population\n",
    "\n",
    "df_prop_population = pd.DataFrame(prop_population, columns=[\"Kecamatan\", \"ProporsiPopulasi\"])\n",
    "\n",
    "\n",
    "df_sortedName_population = df_prop_population.sort_values(\"Kecamatan\")\n",
    "\n",
    "df_sortedName_population.reset_index(drop=True)"
   ]
  },
  {
   "attachments": {},
   "cell_type": "markdown",
   "metadata": {},
   "source": [
    "### Count the Proportion of Each Sample in Listed House in South Jakarta"
   ]
  },
  {
   "cell_type": "code",
   "execution_count": 21,
   "metadata": {},
   "outputs": [
    {
     "data": {
      "text/html": [
       "<div>\n",
       "<style scoped>\n",
       "    .dataframe tbody tr th:only-of-type {\n",
       "        vertical-align: middle;\n",
       "    }\n",
       "\n",
       "    .dataframe tbody tr th {\n",
       "        vertical-align: top;\n",
       "    }\n",
       "\n",
       "    .dataframe thead th {\n",
       "        text-align: right;\n",
       "    }\n",
       "</style>\n",
       "<table border=\"1\" class=\"dataframe\">\n",
       "  <thead>\n",
       "    <tr style=\"text-align: right;\">\n",
       "      <th></th>\n",
       "      <th>Kecamatan</th>\n",
       "      <th>ProporsiRumah</th>\n",
       "    </tr>\n",
       "  </thead>\n",
       "  <tbody>\n",
       "    <tr>\n",
       "      <th>0</th>\n",
       "      <td>Cilandak</td>\n",
       "      <td>0.2179</td>\n",
       "    </tr>\n",
       "    <tr>\n",
       "      <th>1</th>\n",
       "      <td>Jagakarsa</td>\n",
       "      <td>0.0026</td>\n",
       "    </tr>\n",
       "    <tr>\n",
       "      <th>2</th>\n",
       "      <td>Kebayoran Baru</td>\n",
       "      <td>0.1615</td>\n",
       "    </tr>\n",
       "    <tr>\n",
       "      <th>3</th>\n",
       "      <td>Kebayoran Lama</td>\n",
       "      <td>0.0897</td>\n",
       "    </tr>\n",
       "    <tr>\n",
       "      <th>4</th>\n",
       "      <td>Mampang Prapatan</td>\n",
       "      <td>0.1308</td>\n",
       "    </tr>\n",
       "    <tr>\n",
       "      <th>5</th>\n",
       "      <td>Pancoran</td>\n",
       "      <td>0.0718</td>\n",
       "    </tr>\n",
       "    <tr>\n",
       "      <th>6</th>\n",
       "      <td>Pasar Minggu</td>\n",
       "      <td>0.1487</td>\n",
       "    </tr>\n",
       "    <tr>\n",
       "      <th>7</th>\n",
       "      <td>Pesanggrahan</td>\n",
       "      <td>0.1718</td>\n",
       "    </tr>\n",
       "    <tr>\n",
       "      <th>8</th>\n",
       "      <td>Setia Budi</td>\n",
       "      <td>0.0026</td>\n",
       "    </tr>\n",
       "    <tr>\n",
       "      <th>9</th>\n",
       "      <td>Tebet</td>\n",
       "      <td>0.0026</td>\n",
       "    </tr>\n",
       "  </tbody>\n",
       "</table>\n",
       "</div>"
      ],
      "text/plain": [
       "          Kecamatan  ProporsiRumah\n",
       "0          Cilandak         0.2179\n",
       "1         Jagakarsa         0.0026\n",
       "2    Kebayoran Baru         0.1615\n",
       "3    Kebayoran Lama         0.0897\n",
       "4  Mampang Prapatan         0.1308\n",
       "5          Pancoran         0.0718\n",
       "6      Pasar Minggu         0.1487\n",
       "7      Pesanggrahan         0.1718\n",
       "8        Setia Budi         0.0026\n",
       "9             Tebet         0.0026"
      ]
     },
     "execution_count": 21,
     "metadata": {},
     "output_type": "execute_result"
    }
   ],
   "source": [
    "prop_sample = []\n",
    "for index, kecamatan in enumerate(df_init, start=0):   \n",
    "    prop_sample.append([df_init.keys()[index], round(df_init[df_init.keys()[index]]/sum(df_init), 4)])\n",
    "prop_sample\n",
    "\n",
    "df_prop_sample = pd.DataFrame(prop_sample, columns=[\"Kecamatan\", \"ProporsiRumah\"])\n",
    "\n",
    "df_sortedName_sample = df_prop_sample.sort_values(\"Kecamatan\")\n",
    "\n",
    "df_sortedName_sample.reset_index(drop=True)"
   ]
  },
  {
   "attachments": {},
   "cell_type": "markdown",
   "metadata": {},
   "source": [
    "### Plot for Proportion Comparison"
   ]
  },
  {
   "cell_type": "code",
   "execution_count": 22,
   "metadata": {},
   "outputs": [
    {
     "data": {
      "image/png": "[encoded data removed]",
      "text/plain": [
       "<Figure size 432x288 with 1 Axes>"
      ]
     },
     "metadata": {
      "needs_background": "light"
     },
     "output_type": "display_data"
    }
   ],
   "source": [
    "ax1 = df_prop_population.plot(kind='bar')\n",
    "ax1.set_xlabel(\"Kecamatan\")\n",
    "ax1.set_ylabel(\"Proporsi Populasi\")\n",
    "\n",
    "plt.show()"
   ]
  },
  {
   "cell_type": "code",
   "execution_count": 23,
   "metadata": {},
   "outputs": [
    {
     "data": {
      "image/png": "[encoded data removed]",
      "text/plain": [
       "<Figure size 432x288 with 1 Axes>"
      ]
     },
     "metadata": {
      "needs_background": "light"
     },
     "output_type": "display_data"
    }
   ],
   "source": [
    "ax2 = df_prop_sample.plot(kind='bar')\n",
    "ax2.set_xlabel(\"Kecamatan\")\n",
    "ax2.set_ylabel(\"Proporsi Rumah\")\n",
    "\n",
    "plt.show()"
   ]
  },
  {
   "attachments": {},
   "cell_type": "markdown",
   "metadata": {},
   "source": [
    "### Resampling Data menurut Proporsi Populasi"
   ]
  },
  {
   "cell_type": "code",
   "execution_count": 26,
   "metadata": {},
   "outputs": [],
   "source": [
    "# Function to stratify data\n",
    "def stratify_data(df_data, stratify_column_name, stratify_values, stratify_proportions, random_state=None):\n",
    "    \"\"\"Stratifies data according to the values and proportions passed in\n",
    "    Args:\n",
    "        > df_data (DataFrame): data source\n",
    "        > stratify_column_name (str): The name of the single column in the dataframe that holds the data values that will be used to stratify the data\n",
    "        > stratify_values (list of str): A list of all of the potential values for stratifying e.g. \"Cilandak\", etc\n",
    "        > stratify_proportions (list of float): A list of numbers representing the desired propotions. The list values must add up to 1 and must match the number of values in stratify_values.\n",
    "        > random_state (int, optional): sets the random_state. Defaults to None.\n",
    "    Returns:\n",
    "        > New DataFrame: a new dataframe based on df_data that has the new proportions \n",
    "    \"\"\"\n",
    "    # Create an empty DataFrame with column names matching df_data\n",
    "    df_stratified = pd.DataFrame(columns = df_data.columns) \n",
    "    # print(df_stratified)\n",
    "    for index, item in enumerate(stratify_values, start=1):\n",
    "        # print(item, index)\n",
    "        # print(stratify_column_name, item)\n",
    "\n",
    "        df_filtered = df_data.loc[(df_data[stratify_column_name] == item)]\n",
    "\n",
    "        sample_amount = int(stratify_proportions[index-1] * len(df_data))\n",
    "        if sample_amount < 1:\n",
    "            sample_amount = 1 #this is important to keep the scarce data\n",
    "        if len(df_filtered) < sample_amount:\n",
    "            sample_amount = len(df_filtered) #this is important to keep the scarce data\n",
    "        # print(stratify_proportions[index-1], len(df_data), sample_amount, len(df_filtered))\n",
    "        df_temp = df_filtered.sample(n=sample_amount, random_state=random_state)\n",
    "        df_stratified = pd.concat([df_stratified, df_temp]) \n",
    "    \n",
    "        \n",
    "    return df_stratified    "
   ]
  },
  {
   "cell_type": "code",
   "execution_count": 27,
   "metadata": {},
   "outputs": [],
   "source": [
    "#array of name based of kecamatan\n",
    "stratify_values = df_sortedName_population[\"Kecamatan\"].to_numpy()\n",
    "\n",
    "#array of proportion from population\n",
    "stratify_proportions = df_sortedName_population[\"ProporsiPopulasi\"].to_numpy()\n",
    "df_stratified = stratify_data(df, 'LOC', stratify_values, stratify_proportions, )"
   ]
  },
  {
   "cell_type": "code",
   "execution_count": 28,
   "metadata": {},
   "outputs": [
    {
     "data": {
      "text/html": [
       "<div>\n",
       "<style scoped>\n",
       "    .dataframe tbody tr th:only-of-type {\n",
       "        vertical-align: middle;\n",
       "    }\n",
       "\n",
       "    .dataframe tbody tr th {\n",
       "        vertical-align: top;\n",
       "    }\n",
       "\n",
       "    .dataframe thead th {\n",
       "        text-align: right;\n",
       "    }\n",
       "</style>\n",
       "<table border=\"1\" class=\"dataframe\">\n",
       "  <thead>\n",
       "    <tr style=\"text-align: right;\">\n",
       "      <th></th>\n",
       "      <th>NBED</th>\n",
       "      <th>NBATH</th>\n",
       "      <th>NFLOOR</th>\n",
       "      <th>BLDAR</th>\n",
       "      <th>LNDAR</th>\n",
       "      <th>CERT</th>\n",
       "      <th>LOC</th>\n",
       "      <th>Price</th>\n",
       "    </tr>\n",
       "  </thead>\n",
       "  <tbody>\n",
       "    <tr>\n",
       "      <th>263</th>\n",
       "      <td>4</td>\n",
       "      <td>3</td>\n",
       "      <td>2</td>\n",
       "      <td>183</td>\n",
       "      <td>160</td>\n",
       "      <td>SHM</td>\n",
       "      <td>Cilandak</td>\n",
       "      <td>4650000000</td>\n",
       "    </tr>\n",
       "    <tr>\n",
       "      <th>28</th>\n",
       "      <td>9</td>\n",
       "      <td>7</td>\n",
       "      <td>2</td>\n",
       "      <td>729</td>\n",
       "      <td>700</td>\n",
       "      <td>SHM</td>\n",
       "      <td>Cilandak</td>\n",
       "      <td>15500000000</td>\n",
       "    </tr>\n",
       "    <tr>\n",
       "      <th>163</th>\n",
       "      <td>1</td>\n",
       "      <td>3</td>\n",
       "      <td>3</td>\n",
       "      <td>700</td>\n",
       "      <td>600</td>\n",
       "      <td>SHM</td>\n",
       "      <td>Cilandak</td>\n",
       "      <td>29900000000</td>\n",
       "    </tr>\n",
       "    <tr>\n",
       "      <th>244</th>\n",
       "      <td>4</td>\n",
       "      <td>3</td>\n",
       "      <td>2</td>\n",
       "      <td>136</td>\n",
       "      <td>183</td>\n",
       "      <td>SHM</td>\n",
       "      <td>Cilandak</td>\n",
       "      <td>4320000000</td>\n",
       "    </tr>\n",
       "    <tr>\n",
       "      <th>146</th>\n",
       "      <td>4</td>\n",
       "      <td>4</td>\n",
       "      <td>2</td>\n",
       "      <td>100</td>\n",
       "      <td>140</td>\n",
       "      <td>SHM</td>\n",
       "      <td>Cilandak</td>\n",
       "      <td>1299000000</td>\n",
       "    </tr>\n",
       "  </tbody>\n",
       "</table>\n",
       "</div>"
      ],
      "text/plain": [
       "    NBED NBATH NFLOOR BLDAR LNDAR CERT       LOC        Price\n",
       "263    4     3      2   183   160  SHM  Cilandak   4650000000\n",
       "28     9     7      2   729   700  SHM  Cilandak  15500000000\n",
       "163    1     3      3   700   600  SHM  Cilandak  29900000000\n",
       "244    4     3      2   136   183  SHM  Cilandak   4320000000\n",
       "146    4     4      2   100   140  SHM  Cilandak   1299000000"
      ]
     },
     "execution_count": 28,
     "metadata": {},
     "output_type": "execute_result"
    }
   ],
   "source": [
    "df_stratified.head()"
   ]
  },
  {
   "cell_type": "code",
   "execution_count": 29,
   "metadata": {},
   "outputs": [
    {
     "data": {
      "image/png": "[encoded data removed]",
      "text/plain": [
       "<Figure size 432x288 with 1 Axes>"
      ]
     },
     "metadata": {
      "needs_background": "light"
     },
     "output_type": "display_data"
    }
   ],
   "source": [
    "# Before Stratifed Random Sampling\n",
    "ax2 = df['LOC'].value_counts().plot(kind='bar')\n",
    "ax2.set_xlabel(\"Kecamatan\")\n",
    "ax2.set_ylabel(\"Proporsi Rumah\")\n",
    "\n",
    "plt.show()"
   ]
  },
  {
   "cell_type": "code",
   "execution_count": 30,
   "metadata": {},
   "outputs": [
    {
     "data": {
      "image/png": "[encoded data removed]",
      "text/plain": [
       "<Figure size 432x288 with 1 Axes>"
      ]
     },
     "metadata": {
      "needs_background": "light"
     },
     "output_type": "display_data"
    }
   ],
   "source": [
    "# After Stratified Random Sampling\n",
    "ax2 = df_stratified['LOC'].value_counts().plot(kind='bar')\n",
    "ax2.set_xlabel(\"Kecamatan\")\n",
    "ax2.set_ylabel(\"Proporsi Rumah\")\n",
    "\n",
    "plt.show()"
   ]
  },
  {
   "cell_type": "code",
   "execution_count": 31,
   "metadata": {},
   "outputs": [
    {
     "data": {
      "text/plain": [
       "(390, 8)"
      ]
     },
     "execution_count": 31,
     "metadata": {},
     "output_type": "execute_result"
    }
   ],
   "source": [
    "df.shape"
   ]
  },
  {
   "cell_type": "code",
   "execution_count": 32,
   "metadata": {},
   "outputs": [
    {
     "data": {
      "text/plain": [
       "(246, 8)"
      ]
     },
     "execution_count": 32,
     "metadata": {},
     "output_type": "execute_result"
    }
   ],
   "source": [
    "df_stratified.shape"
   ]
  },
  {
   "attachments": {},
   "cell_type": "markdown",
   "metadata": {},
   "source": [
    "### Observation and Conclusion"
   ]
  },
  {
   "attachments": {},
   "cell_type": "markdown",
   "metadata": {},
   "source": [
    "The stratified data shows better proportion compared with the initial data. Some Kecamatan have too low amount of data (Tebet, Setia Budi, Jagakarsa only have 1 house listed on OLX website). \n",
    "\n",
    "The next study will be about comparison of the ML accuracy between the initial sample data and the resampled data."
   ]
  },
  {
   "cell_type": "markdown",
   "metadata": {},
   "source": []
  }
 ],
 "metadata": {
  "kernelspec": {
   "display_name": "Python 3.8.3 ('base')",
   "language": "python",
   "name": "python3"
  },
  "language_info": {
   "codemirror_mode": {
    "name": "ipython",
    "version": 3
   },
   "file_extension": ".py",
   "mimetype": "text/x-python",
   "name": "python",
   "nbconvert_exporter": "python",
   "pygments_lexer": "ipython3",
   "version": "3.8.3"
  },
  "orig_nbformat": 4,
  "vscode": {
   "interpreter": {
    "hash": "621bf00a098913f0c314f6a8d4a328f3e8ca689b0729094c5162a6e8a6dd48e4"
   }
  }
 },
 "nbformat": 4,
 "nbformat_minor": 2
}
