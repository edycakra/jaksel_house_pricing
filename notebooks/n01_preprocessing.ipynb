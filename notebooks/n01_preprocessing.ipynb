{
 "cells": [
  {
   "cell_type": "markdown",
   "metadata": {},
   "source": [
    "## Linear Regression Machine Learning Implementation, Case: South Jakarta House Price\n",
    "## Part 1: Preprocessing and Cleaning Up Raw Data\n",
    "### Author: Edycakra Immanuel Sinaga"
   ]
  },
  {
   "cell_type": "code",
   "execution_count": 416,
   "metadata": {},
   "outputs": [],
   "source": [
    "#import dependencies\n",
    "import pandas as pd\n",
    "import numpy as np\n",
    "import matplotlib.pyplot as plt\n",
    "%matplotlib inline"
   ]
  },
  {
   "cell_type": "markdown",
   "metadata": {},
   "source": [
    "# Understanding the Raw Dataset\n",
    "This dataset is scraped from OLX website, contains house price data in Jakarta Selatan"
   ]
  },
  {
   "cell_type": "markdown",
   "metadata": {},
   "source": [
    "### 1. Read the raw dataset\n"
   ]
  },
  {
   "cell_type": "code",
   "execution_count": 417,
   "metadata": {},
   "outputs": [],
   "source": [
    "df = pd.read_csv('../data/raw/olx_house_scraped.csv', encoding='latin-1')"
   ]
  },
  {
   "cell_type": "code",
   "execution_count": 418,
   "metadata": {},
   "outputs": [
    {
     "data": {
      "text/html": [
       "<div>\n",
       "<style scoped>\n",
       "    .dataframe tbody tr th:only-of-type {\n",
       "        vertical-align: middle;\n",
       "    }\n",
       "\n",
       "    .dataframe tbody tr th {\n",
       "        vertical-align: top;\n",
       "    }\n",
       "\n",
       "    .dataframe thead th {\n",
       "        text-align: right;\n",
       "    }\n",
       "</style>\n",
       "<table border=\"1\" class=\"dataframe\">\n",
       "  <thead>\n",
       "    <tr style=\"text-align: right;\">\n",
       "      <th></th>\n",
       "      <th>ï»¿web-scraper-order</th>\n",
       "      <th>web-scraper-start-url</th>\n",
       "      <th>house</th>\n",
       "      <th>house-href</th>\n",
       "      <th>price</th>\n",
       "      <th>location</th>\n",
       "      <th>luas_bangunan</th>\n",
       "      <th>luas_tanah</th>\n",
       "      <th>sertifikasi</th>\n",
       "      <th>n_bedroom</th>\n",
       "      <th>n_bathroom</th>\n",
       "      <th>n_lantai</th>\n",
       "    </tr>\n",
       "  </thead>\n",
       "  <tbody>\n",
       "    <tr>\n",
       "      <th>0</th>\n",
       "      <td>1669844714-482</td>\n",
       "      <td>https://www.olx.co.id/jakarta-selatan_g4000030...</td>\n",
       "      <td>HighlightRp 2.460.000.0005 KT - 5 KM - 200 m2R...</td>\n",
       "      <td>https://www.olx.co.id/item/rumah-luas-strategi...</td>\n",
       "      <td>Rp 2.460.000.000</td>\n",
       "      <td>Jagakarsa, Jakarta Selatan, Jakarta D.K.I.</td>\n",
       "      <td>200.0</td>\n",
       "      <td>133.0</td>\n",
       "      <td>SHM - Sertifikat Hak Milik</td>\n",
       "      <td>5</td>\n",
       "      <td>5</td>\n",
       "      <td>2.0</td>\n",
       "    </tr>\n",
       "    <tr>\n",
       "      <th>1</th>\n",
       "      <td>1669844722-483</td>\n",
       "      <td>https://www.olx.co.id/jakarta-selatan_g4000030...</td>\n",
       "      <td>HighlightRp 875.000.0002 KT - 1 KM - 45 m2Jual...</td>\n",
       "      <td>https://www.olx.co.id/item/jual-rumah-ciputat-...</td>\n",
       "      <td>Rp 875.000.000</td>\n",
       "      <td>Ciputat, Tangerang Selatan Kota, Banten</td>\n",
       "      <td>45.0</td>\n",
       "      <td>140.0</td>\n",
       "      <td>SHM - Sertifikat Hak Milik</td>\n",
       "      <td>2</td>\n",
       "      <td>1</td>\n",
       "      <td>1.0</td>\n",
       "    </tr>\n",
       "    <tr>\n",
       "      <th>2</th>\n",
       "      <td>1669844729-484</td>\n",
       "      <td>https://www.olx.co.id/jakarta-selatan_g4000030...</td>\n",
       "      <td>HighlightRp 1.310.000.0003 KT - 2 KM - 75 m2Ru...</td>\n",
       "      <td>https://www.olx.co.id/item/rumah-minimalis-dek...</td>\n",
       "      <td>Rp 1.310.000.000</td>\n",
       "      <td>Ciledug, Tangerang Kota, Banten</td>\n",
       "      <td>75.0</td>\n",
       "      <td>100.0</td>\n",
       "      <td>SHM - Sertifikat Hak Milik</td>\n",
       "      <td>3</td>\n",
       "      <td>2</td>\n",
       "      <td>1.0</td>\n",
       "    </tr>\n",
       "    <tr>\n",
       "      <th>3</th>\n",
       "      <td>1669844736-485</td>\n",
       "      <td>https://www.olx.co.id/jakarta-selatan_g4000030...</td>\n",
       "      <td>HighlightRp 7.500.000.0005 KT - 4 KM - 350 m2L...</td>\n",
       "      <td>https://www.olx.co.id/item/langka-siap-huni-ru...</td>\n",
       "      <td>Rp 7.500.000.000</td>\n",
       "      <td>Palmerah, Jakarta Barat, Jakarta D.K.I.</td>\n",
       "      <td>350.0</td>\n",
       "      <td>235.0</td>\n",
       "      <td>SHM - Sertifikat Hak Milik</td>\n",
       "      <td>5</td>\n",
       "      <td>4</td>\n",
       "      <td>2.0</td>\n",
       "    </tr>\n",
       "    <tr>\n",
       "      <th>4</th>\n",
       "      <td>1669844747-486</td>\n",
       "      <td>https://www.olx.co.id/jakarta-selatan_g4000030...</td>\n",
       "      <td>HighlightRp 2.460.000.0005 KT - 5 KM - 200 m2R...</td>\n",
       "      <td>https://www.olx.co.id/item/rumah-siap-kpr-di-c...</td>\n",
       "      <td>Rp 2.460.000.000</td>\n",
       "      <td>Cinere, Depok Kota, Jawa Barat</td>\n",
       "      <td>200.0</td>\n",
       "      <td>133.0</td>\n",
       "      <td>SHM - Sertifikat Hak Milik</td>\n",
       "      <td>5</td>\n",
       "      <td>5</td>\n",
       "      <td>2.0</td>\n",
       "    </tr>\n",
       "  </tbody>\n",
       "</table>\n",
       "</div>"
      ],
      "text/plain": [
       "  ï»¿web-scraper-order                              web-scraper-start-url  \\\n",
       "0       1669844714-482  https://www.olx.co.id/jakarta-selatan_g4000030...   \n",
       "1       1669844722-483  https://www.olx.co.id/jakarta-selatan_g4000030...   \n",
       "2       1669844729-484  https://www.olx.co.id/jakarta-selatan_g4000030...   \n",
       "3       1669844736-485  https://www.olx.co.id/jakarta-selatan_g4000030...   \n",
       "4       1669844747-486  https://www.olx.co.id/jakarta-selatan_g4000030...   \n",
       "\n",
       "                                               house  \\\n",
       "0  HighlightRp 2.460.000.0005 KT - 5 KM - 200 m2R...   \n",
       "1  HighlightRp 875.000.0002 KT - 1 KM - 45 m2Jual...   \n",
       "2  HighlightRp 1.310.000.0003 KT - 2 KM - 75 m2Ru...   \n",
       "3  HighlightRp 7.500.000.0005 KT - 4 KM - 350 m2L...   \n",
       "4  HighlightRp 2.460.000.0005 KT - 5 KM - 200 m2R...   \n",
       "\n",
       "                                          house-href             price  \\\n",
       "0  https://www.olx.co.id/item/rumah-luas-strategi...  Rp 2.460.000.000   \n",
       "1  https://www.olx.co.id/item/jual-rumah-ciputat-...    Rp 875.000.000   \n",
       "2  https://www.olx.co.id/item/rumah-minimalis-dek...  Rp 1.310.000.000   \n",
       "3  https://www.olx.co.id/item/langka-siap-huni-ru...  Rp 7.500.000.000   \n",
       "4  https://www.olx.co.id/item/rumah-siap-kpr-di-c...  Rp 2.460.000.000   \n",
       "\n",
       "                                     location  luas_bangunan  luas_tanah  \\\n",
       "0  Jagakarsa, Jakarta Selatan, Jakarta D.K.I.          200.0       133.0   \n",
       "1     Ciputat, Tangerang Selatan Kota, Banten           45.0       140.0   \n",
       "2             Ciledug, Tangerang Kota, Banten           75.0       100.0   \n",
       "3     Palmerah, Jakarta Barat, Jakarta D.K.I.          350.0       235.0   \n",
       "4              Cinere, Depok Kota, Jawa Barat          200.0       133.0   \n",
       "\n",
       "                  sertifikasi n_bedroom n_bathroom  n_lantai  \n",
       "0  SHM - Sertifikat Hak Milik         5          5       2.0  \n",
       "1  SHM - Sertifikat Hak Milik         2          1       1.0  \n",
       "2  SHM - Sertifikat Hak Milik         3          2       1.0  \n",
       "3  SHM - Sertifikat Hak Milik         5          4       2.0  \n",
       "4  SHM - Sertifikat Hak Milik         5          5       2.0  "
      ]
     },
     "execution_count": 418,
     "metadata": {},
     "output_type": "execute_result"
    }
   ],
   "source": [
    "df.head()"
   ]
  },
  {
   "cell_type": "markdown",
   "metadata": {},
   "source": [
    "### 2. Preprocessing\n"
   ]
  },
  {
   "cell_type": "markdown",
   "metadata": {},
   "source": [
    "2a. Dropping unused columns: web-scraper-order, web-scraper-start-url, house, house-href"
   ]
  },
  {
   "cell_type": "code",
   "execution_count": 419,
   "metadata": {},
   "outputs": [
    {
     "data": {
      "text/html": [
       "<div>\n",
       "<style scoped>\n",
       "    .dataframe tbody tr th:only-of-type {\n",
       "        vertical-align: middle;\n",
       "    }\n",
       "\n",
       "    .dataframe tbody tr th {\n",
       "        vertical-align: top;\n",
       "    }\n",
       "\n",
       "    .dataframe thead th {\n",
       "        text-align: right;\n",
       "    }\n",
       "</style>\n",
       "<table border=\"1\" class=\"dataframe\">\n",
       "  <thead>\n",
       "    <tr style=\"text-align: right;\">\n",
       "      <th></th>\n",
       "      <th>price</th>\n",
       "      <th>location</th>\n",
       "      <th>luas_bangunan</th>\n",
       "      <th>luas_tanah</th>\n",
       "      <th>sertifikasi</th>\n",
       "      <th>n_bedroom</th>\n",
       "      <th>n_bathroom</th>\n",
       "      <th>n_lantai</th>\n",
       "    </tr>\n",
       "  </thead>\n",
       "  <tbody>\n",
       "    <tr>\n",
       "      <th>0</th>\n",
       "      <td>Rp 2.460.000.000</td>\n",
       "      <td>Jagakarsa, Jakarta Selatan, Jakarta D.K.I.</td>\n",
       "      <td>200.0</td>\n",
       "      <td>133.0</td>\n",
       "      <td>SHM - Sertifikat Hak Milik</td>\n",
       "      <td>5</td>\n",
       "      <td>5</td>\n",
       "      <td>2.0</td>\n",
       "    </tr>\n",
       "    <tr>\n",
       "      <th>1</th>\n",
       "      <td>Rp 875.000.000</td>\n",
       "      <td>Ciputat, Tangerang Selatan Kota, Banten</td>\n",
       "      <td>45.0</td>\n",
       "      <td>140.0</td>\n",
       "      <td>SHM - Sertifikat Hak Milik</td>\n",
       "      <td>2</td>\n",
       "      <td>1</td>\n",
       "      <td>1.0</td>\n",
       "    </tr>\n",
       "    <tr>\n",
       "      <th>2</th>\n",
       "      <td>Rp 1.310.000.000</td>\n",
       "      <td>Ciledug, Tangerang Kota, Banten</td>\n",
       "      <td>75.0</td>\n",
       "      <td>100.0</td>\n",
       "      <td>SHM - Sertifikat Hak Milik</td>\n",
       "      <td>3</td>\n",
       "      <td>2</td>\n",
       "      <td>1.0</td>\n",
       "    </tr>\n",
       "    <tr>\n",
       "      <th>3</th>\n",
       "      <td>Rp 7.500.000.000</td>\n",
       "      <td>Palmerah, Jakarta Barat, Jakarta D.K.I.</td>\n",
       "      <td>350.0</td>\n",
       "      <td>235.0</td>\n",
       "      <td>SHM - Sertifikat Hak Milik</td>\n",
       "      <td>5</td>\n",
       "      <td>4</td>\n",
       "      <td>2.0</td>\n",
       "    </tr>\n",
       "    <tr>\n",
       "      <th>4</th>\n",
       "      <td>Rp 2.460.000.000</td>\n",
       "      <td>Cinere, Depok Kota, Jawa Barat</td>\n",
       "      <td>200.0</td>\n",
       "      <td>133.0</td>\n",
       "      <td>SHM - Sertifikat Hak Milik</td>\n",
       "      <td>5</td>\n",
       "      <td>5</td>\n",
       "      <td>2.0</td>\n",
       "    </tr>\n",
       "  </tbody>\n",
       "</table>\n",
       "</div>"
      ],
      "text/plain": [
       "              price                                    location  \\\n",
       "0  Rp 2.460.000.000  Jagakarsa, Jakarta Selatan, Jakarta D.K.I.   \n",
       "1    Rp 875.000.000     Ciputat, Tangerang Selatan Kota, Banten   \n",
       "2  Rp 1.310.000.000             Ciledug, Tangerang Kota, Banten   \n",
       "3  Rp 7.500.000.000     Palmerah, Jakarta Barat, Jakarta D.K.I.   \n",
       "4  Rp 2.460.000.000              Cinere, Depok Kota, Jawa Barat   \n",
       "\n",
       "   luas_bangunan  luas_tanah                 sertifikasi n_bedroom n_bathroom  \\\n",
       "0          200.0       133.0  SHM - Sertifikat Hak Milik         5          5   \n",
       "1           45.0       140.0  SHM - Sertifikat Hak Milik         2          1   \n",
       "2           75.0       100.0  SHM - Sertifikat Hak Milik         3          2   \n",
       "3          350.0       235.0  SHM - Sertifikat Hak Milik         5          4   \n",
       "4          200.0       133.0  SHM - Sertifikat Hak Milik         5          5   \n",
       "\n",
       "   n_lantai  \n",
       "0       2.0  \n",
       "1       1.0  \n",
       "2       1.0  \n",
       "3       2.0  \n",
       "4       2.0  "
      ]
     },
     "execution_count": 419,
     "metadata": {},
     "output_type": "execute_result"
    }
   ],
   "source": [
    "df.drop(columns=['ï»¿web-scraper-order', 'web-scraper-start-url', 'house', 'house-href'], inplace=True)\n",
    "df.head()"
   ]
  },
  {
   "cell_type": "markdown",
   "metadata": {},
   "source": [
    "2b. Check the Data Info"
   ]
  },
  {
   "cell_type": "code",
   "execution_count": 420,
   "metadata": {},
   "outputs": [
    {
     "name": "stdout",
     "output_type": "stream",
     "text": [
      "<class 'pandas.core.frame.DataFrame'>\n",
      "RangeIndex: 520 entries, 0 to 519\n",
      "Data columns (total 8 columns):\n",
      " #   Column         Non-Null Count  Dtype  \n",
      "---  ------         --------------  -----  \n",
      " 0   price          519 non-null    object \n",
      " 1   location       519 non-null    object \n",
      " 2   luas_bangunan  519 non-null    float64\n",
      " 3   luas_tanah     519 non-null    float64\n",
      " 4   sertifikasi    505 non-null    object \n",
      " 5   n_bedroom      519 non-null    object \n",
      " 6   n_bathroom     519 non-null    object \n",
      " 7   n_lantai       487 non-null    float64\n",
      "dtypes: float64(3), object(5)\n",
      "memory usage: 32.6+ KB\n"
     ]
    }
   ],
   "source": [
    "df.info()"
   ]
  },
  {
   "cell_type": "markdown",
   "metadata": {},
   "source": [
    "Based on the above info we\n",
    "- Need to check the duplicates and the missing values because the amount of non-null are not similar\n",
    "- Need to convert the data type of columns: price, luas_bangunan, luas_tanah, n_bedroom, n_bathroom, n_lantai"
   ]
  },
  {
   "cell_type": "markdown",
   "metadata": {},
   "source": [
    "Check Duplicates"
   ]
  },
  {
   "cell_type": "code",
   "execution_count": 421,
   "metadata": {},
   "outputs": [
    {
     "data": {
      "text/plain": [
       "60"
      ]
     },
     "execution_count": 421,
     "metadata": {},
     "output_type": "execute_result"
    }
   ],
   "source": [
    "df.duplicated().sum()"
   ]
  },
  {
   "cell_type": "markdown",
   "metadata": {},
   "source": [
    "Remove duplicates"
   ]
  },
  {
   "cell_type": "code",
   "execution_count": 422,
   "metadata": {},
   "outputs": [
    {
     "data": {
      "text/plain": [
       "0"
      ]
     },
     "execution_count": 422,
     "metadata": {},
     "output_type": "execute_result"
    }
   ],
   "source": [
    "df= df.drop_duplicates()\n",
    "df.duplicated().sum()"
   ]
  },
  {
   "cell_type": "code",
   "execution_count": 423,
   "metadata": {},
   "outputs": [
    {
     "name": "stdout",
     "output_type": "stream",
     "text": [
      "<class 'pandas.core.frame.DataFrame'>\n",
      "Int64Index: 460 entries, 0 to 519\n",
      "Data columns (total 8 columns):\n",
      " #   Column         Non-Null Count  Dtype  \n",
      "---  ------         --------------  -----  \n",
      " 0   price          459 non-null    object \n",
      " 1   location       459 non-null    object \n",
      " 2   luas_bangunan  459 non-null    float64\n",
      " 3   luas_tanah     459 non-null    float64\n",
      " 4   sertifikasi    445 non-null    object \n",
      " 5   n_bedroom      459 non-null    object \n",
      " 6   n_bathroom     459 non-null    object \n",
      " 7   n_lantai       427 non-null    float64\n",
      "dtypes: float64(3), object(5)\n",
      "memory usage: 32.3+ KB\n"
     ]
    }
   ],
   "source": [
    "df.info()"
   ]
  },
  {
   "cell_type": "markdown",
   "metadata": {},
   "source": [
    "Check Missing Value"
   ]
  },
  {
   "cell_type": "code",
   "execution_count": 424,
   "metadata": {},
   "outputs": [
    {
     "data": {
      "text/plain": [
       "price             1\n",
       "location          1\n",
       "luas_bangunan     1\n",
       "luas_tanah        1\n",
       "sertifikasi      15\n",
       "n_bedroom         1\n",
       "n_bathroom        1\n",
       "n_lantai         33\n",
       "dtype: int64"
      ]
     },
     "execution_count": 424,
     "metadata": {},
     "output_type": "execute_result"
    }
   ],
   "source": [
    "df.isnull().sum()"
   ]
  },
  {
   "cell_type": "markdown",
   "metadata": {},
   "source": [
    "Remove Missing Value"
   ]
  },
  {
   "cell_type": "code",
   "execution_count": 425,
   "metadata": {},
   "outputs": [
    {
     "data": {
      "text/plain": [
       "price            0\n",
       "location         0\n",
       "luas_bangunan    0\n",
       "luas_tanah       0\n",
       "sertifikasi      0\n",
       "n_bedroom        0\n",
       "n_bathroom       0\n",
       "n_lantai         0\n",
       "dtype: int64"
      ]
     },
     "execution_count": 425,
     "metadata": {},
     "output_type": "execute_result"
    }
   ],
   "source": [
    "df= df.dropna()\n",
    "df.isnull().sum()"
   ]
  },
  {
   "cell_type": "code",
   "execution_count": 426,
   "metadata": {},
   "outputs": [
    {
     "name": "stdout",
     "output_type": "stream",
     "text": [
      "<class 'pandas.core.frame.DataFrame'>\n",
      "Int64Index: 414 entries, 0 to 519\n",
      "Data columns (total 8 columns):\n",
      " #   Column         Non-Null Count  Dtype  \n",
      "---  ------         --------------  -----  \n",
      " 0   price          414 non-null    object \n",
      " 1   location       414 non-null    object \n",
      " 2   luas_bangunan  414 non-null    float64\n",
      " 3   luas_tanah     414 non-null    float64\n",
      " 4   sertifikasi    414 non-null    object \n",
      " 5   n_bedroom      414 non-null    object \n",
      " 6   n_bathroom     414 non-null    object \n",
      " 7   n_lantai       414 non-null    float64\n",
      "dtypes: float64(3), object(5)\n",
      "memory usage: 29.1+ KB\n"
     ]
    }
   ],
   "source": [
    "df.info()"
   ]
  },
  {
   "cell_type": "markdown",
   "metadata": {},
   "source": [
    "Rearrange Columns"
   ]
  },
  {
   "cell_type": "code",
   "execution_count": 427,
   "metadata": {},
   "outputs": [
    {
     "data": {
      "text/html": [
       "<div>\n",
       "<style scoped>\n",
       "    .dataframe tbody tr th:only-of-type {\n",
       "        vertical-align: middle;\n",
       "    }\n",
       "\n",
       "    .dataframe tbody tr th {\n",
       "        vertical-align: top;\n",
       "    }\n",
       "\n",
       "    .dataframe thead th {\n",
       "        text-align: right;\n",
       "    }\n",
       "</style>\n",
       "<table border=\"1\" class=\"dataframe\">\n",
       "  <thead>\n",
       "    <tr style=\"text-align: right;\">\n",
       "      <th></th>\n",
       "      <th>n_bedroom</th>\n",
       "      <th>n_bathroom</th>\n",
       "      <th>n_lantai</th>\n",
       "      <th>luas_tanah</th>\n",
       "      <th>luas_bangunan</th>\n",
       "      <th>sertifikasi</th>\n",
       "      <th>location</th>\n",
       "      <th>price</th>\n",
       "    </tr>\n",
       "  </thead>\n",
       "  <tbody>\n",
       "    <tr>\n",
       "      <th>0</th>\n",
       "      <td>5</td>\n",
       "      <td>5</td>\n",
       "      <td>2.0</td>\n",
       "      <td>133.0</td>\n",
       "      <td>200.0</td>\n",
       "      <td>SHM - Sertifikat Hak Milik</td>\n",
       "      <td>Jagakarsa, Jakarta Selatan, Jakarta D.K.I.</td>\n",
       "      <td>Rp 2.460.000.000</td>\n",
       "    </tr>\n",
       "    <tr>\n",
       "      <th>1</th>\n",
       "      <td>2</td>\n",
       "      <td>1</td>\n",
       "      <td>1.0</td>\n",
       "      <td>140.0</td>\n",
       "      <td>45.0</td>\n",
       "      <td>SHM - Sertifikat Hak Milik</td>\n",
       "      <td>Ciputat, Tangerang Selatan Kota, Banten</td>\n",
       "      <td>Rp 875.000.000</td>\n",
       "    </tr>\n",
       "    <tr>\n",
       "      <th>2</th>\n",
       "      <td>3</td>\n",
       "      <td>2</td>\n",
       "      <td>1.0</td>\n",
       "      <td>100.0</td>\n",
       "      <td>75.0</td>\n",
       "      <td>SHM - Sertifikat Hak Milik</td>\n",
       "      <td>Ciledug, Tangerang Kota, Banten</td>\n",
       "      <td>Rp 1.310.000.000</td>\n",
       "    </tr>\n",
       "    <tr>\n",
       "      <th>3</th>\n",
       "      <td>5</td>\n",
       "      <td>4</td>\n",
       "      <td>2.0</td>\n",
       "      <td>235.0</td>\n",
       "      <td>350.0</td>\n",
       "      <td>SHM - Sertifikat Hak Milik</td>\n",
       "      <td>Palmerah, Jakarta Barat, Jakarta D.K.I.</td>\n",
       "      <td>Rp 7.500.000.000</td>\n",
       "    </tr>\n",
       "    <tr>\n",
       "      <th>4</th>\n",
       "      <td>5</td>\n",
       "      <td>5</td>\n",
       "      <td>2.0</td>\n",
       "      <td>133.0</td>\n",
       "      <td>200.0</td>\n",
       "      <td>SHM - Sertifikat Hak Milik</td>\n",
       "      <td>Cinere, Depok Kota, Jawa Barat</td>\n",
       "      <td>Rp 2.460.000.000</td>\n",
       "    </tr>\n",
       "  </tbody>\n",
       "</table>\n",
       "</div>"
      ],
      "text/plain": [
       "  n_bedroom n_bathroom  n_lantai  luas_tanah  luas_bangunan  \\\n",
       "0         5          5       2.0       133.0          200.0   \n",
       "1         2          1       1.0       140.0           45.0   \n",
       "2         3          2       1.0       100.0           75.0   \n",
       "3         5          4       2.0       235.0          350.0   \n",
       "4         5          5       2.0       133.0          200.0   \n",
       "\n",
       "                  sertifikasi                                    location  \\\n",
       "0  SHM - Sertifikat Hak Milik  Jagakarsa, Jakarta Selatan, Jakarta D.K.I.   \n",
       "1  SHM - Sertifikat Hak Milik     Ciputat, Tangerang Selatan Kota, Banten   \n",
       "2  SHM - Sertifikat Hak Milik             Ciledug, Tangerang Kota, Banten   \n",
       "3  SHM - Sertifikat Hak Milik     Palmerah, Jakarta Barat, Jakarta D.K.I.   \n",
       "4  SHM - Sertifikat Hak Milik              Cinere, Depok Kota, Jawa Barat   \n",
       "\n",
       "              price  \n",
       "0  Rp 2.460.000.000  \n",
       "1    Rp 875.000.000  \n",
       "2  Rp 1.310.000.000  \n",
       "3  Rp 7.500.000.000  \n",
       "4  Rp 2.460.000.000  "
      ]
     },
     "execution_count": 427,
     "metadata": {},
     "output_type": "execute_result"
    }
   ],
   "source": [
    "#Rearrange columns\n",
    "df= df[['n_bedroom', 'n_bathroom', 'n_lantai', 'luas_tanah', 'luas_bangunan', 'sertifikasi', 'location', 'price']]\n",
    "df.head()"
   ]
  },
  {
   "cell_type": "markdown",
   "metadata": {},
   "source": [
    "Checking Data Type in Each Columns"
   ]
  },
  {
   "cell_type": "code",
   "execution_count": 428,
   "metadata": {},
   "outputs": [
    {
     "data": {
      "text/plain": [
       "n_bedroom         object\n",
       "n_bathroom        object\n",
       "n_lantai         float64\n",
       "luas_tanah       float64\n",
       "luas_bangunan    float64\n",
       "sertifikasi       object\n",
       "location          object\n",
       "price             object\n",
       "dtype: object"
      ]
     },
     "execution_count": 428,
     "metadata": {},
     "output_type": "execute_result"
    }
   ],
   "source": [
    "df.dtypes"
   ]
  },
  {
   "cell_type": "code",
   "execution_count": 429,
   "metadata": {},
   "outputs": [
    {
     "ename": "ValueError",
     "evalue": "invalid literal for int() with base 10: '>10'",
     "output_type": "error",
     "traceback": [
      "\u001b[0;31m---------------------------------------------------------------------------\u001b[0m",
      "\u001b[0;31mValueError\u001b[0m                                Traceback (most recent call last)",
      "\u001b[1;32m/Users/edycakrasinaga/Documents/machinelearning/jaksel_house_pricing/notebooks/n01_preprocessing.ipynb Cell 27\u001b[0m in \u001b[0;36m<cell line: 4>\u001b[0;34m()\u001b[0m\n\u001b[1;32m      <a href='vscode-notebook-cell:/Users/edycakrasinaga/Documents/machinelearning/jaksel_house_pricing/notebooks/n01_preprocessing.ipynb#X43sZmlsZQ%3D%3D?line=0'>1</a>\u001b[0m \u001b[39m#converting data type object to integer for columns: n_bedroom, n_bathroom\u001b[39;00m\n\u001b[1;32m      <a href='vscode-notebook-cell:/Users/edycakrasinaga/Documents/machinelearning/jaksel_house_pricing/notebooks/n01_preprocessing.ipynb#X43sZmlsZQ%3D%3D?line=1'>2</a>\u001b[0m \n\u001b[1;32m      <a href='vscode-notebook-cell:/Users/edycakrasinaga/Documents/machinelearning/jaksel_house_pricing/notebooks/n01_preprocessing.ipynb#X43sZmlsZQ%3D%3D?line=2'>3</a>\u001b[0m \u001b[39m#for 'n_bedroom'\u001b[39;00m\n\u001b[0;32m----> <a href='vscode-notebook-cell:/Users/edycakrasinaga/Documents/machinelearning/jaksel_house_pricing/notebooks/n01_preprocessing.ipynb#X43sZmlsZQ%3D%3D?line=3'>4</a>\u001b[0m df[\u001b[39m'\u001b[39m\u001b[39mn_bedroom\u001b[39m\u001b[39m'\u001b[39m] \u001b[39m=\u001b[39m df[\u001b[39m'\u001b[39;49m\u001b[39mn_bedroom\u001b[39;49m\u001b[39m'\u001b[39;49m]\u001b[39m.\u001b[39;49mastype(\u001b[39mstr\u001b[39;49m)\u001b[39m.\u001b[39;49mastype(\u001b[39mint\u001b[39;49m)\n",
      "File \u001b[0;32m/Library/Frameworks/Python.framework/Versions/3.10/lib/python3.10/site-packages/pandas/core/generic.py:5912\u001b[0m, in \u001b[0;36mNDFrame.astype\u001b[0;34m(self, dtype, copy, errors)\u001b[0m\n\u001b[1;32m   5905\u001b[0m     results \u001b[39m=\u001b[39m [\n\u001b[1;32m   5906\u001b[0m         \u001b[39mself\u001b[39m\u001b[39m.\u001b[39miloc[:, i]\u001b[39m.\u001b[39mastype(dtype, copy\u001b[39m=\u001b[39mcopy)\n\u001b[1;32m   5907\u001b[0m         \u001b[39mfor\u001b[39;00m i \u001b[39min\u001b[39;00m \u001b[39mrange\u001b[39m(\u001b[39mlen\u001b[39m(\u001b[39mself\u001b[39m\u001b[39m.\u001b[39mcolumns))\n\u001b[1;32m   5908\u001b[0m     ]\n\u001b[1;32m   5910\u001b[0m \u001b[39melse\u001b[39;00m:\n\u001b[1;32m   5911\u001b[0m     \u001b[39m# else, only a single dtype is given\u001b[39;00m\n\u001b[0;32m-> 5912\u001b[0m     new_data \u001b[39m=\u001b[39m \u001b[39mself\u001b[39;49m\u001b[39m.\u001b[39;49m_mgr\u001b[39m.\u001b[39;49mastype(dtype\u001b[39m=\u001b[39;49mdtype, copy\u001b[39m=\u001b[39;49mcopy, errors\u001b[39m=\u001b[39;49merrors)\n\u001b[1;32m   5913\u001b[0m     \u001b[39mreturn\u001b[39;00m \u001b[39mself\u001b[39m\u001b[39m.\u001b[39m_constructor(new_data)\u001b[39m.\u001b[39m__finalize__(\u001b[39mself\u001b[39m, method\u001b[39m=\u001b[39m\u001b[39m\"\u001b[39m\u001b[39mastype\u001b[39m\u001b[39m\"\u001b[39m)\n\u001b[1;32m   5915\u001b[0m \u001b[39m# GH 33113: handle empty frame or series\u001b[39;00m\n",
      "File \u001b[0;32m/Library/Frameworks/Python.framework/Versions/3.10/lib/python3.10/site-packages/pandas/core/internals/managers.py:419\u001b[0m, in \u001b[0;36mBaseBlockManager.astype\u001b[0;34m(self, dtype, copy, errors)\u001b[0m\n\u001b[1;32m    418\u001b[0m \u001b[39mdef\u001b[39;00m \u001b[39mastype\u001b[39m(\u001b[39mself\u001b[39m: T, dtype, copy: \u001b[39mbool\u001b[39m \u001b[39m=\u001b[39m \u001b[39mFalse\u001b[39;00m, errors: \u001b[39mstr\u001b[39m \u001b[39m=\u001b[39m \u001b[39m\"\u001b[39m\u001b[39mraise\u001b[39m\u001b[39m\"\u001b[39m) \u001b[39m-\u001b[39m\u001b[39m>\u001b[39m T:\n\u001b[0;32m--> 419\u001b[0m     \u001b[39mreturn\u001b[39;00m \u001b[39mself\u001b[39;49m\u001b[39m.\u001b[39;49mapply(\u001b[39m\"\u001b[39;49m\u001b[39mastype\u001b[39;49m\u001b[39m\"\u001b[39;49m, dtype\u001b[39m=\u001b[39;49mdtype, copy\u001b[39m=\u001b[39;49mcopy, errors\u001b[39m=\u001b[39;49merrors)\n",
      "File \u001b[0;32m/Library/Frameworks/Python.framework/Versions/3.10/lib/python3.10/site-packages/pandas/core/internals/managers.py:304\u001b[0m, in \u001b[0;36mBaseBlockManager.apply\u001b[0;34m(self, f, align_keys, ignore_failures, **kwargs)\u001b[0m\n\u001b[1;32m    302\u001b[0m         applied \u001b[39m=\u001b[39m b\u001b[39m.\u001b[39mapply(f, \u001b[39m*\u001b[39m\u001b[39m*\u001b[39mkwargs)\n\u001b[1;32m    303\u001b[0m     \u001b[39melse\u001b[39;00m:\n\u001b[0;32m--> 304\u001b[0m         applied \u001b[39m=\u001b[39m \u001b[39mgetattr\u001b[39;49m(b, f)(\u001b[39m*\u001b[39;49m\u001b[39m*\u001b[39;49mkwargs)\n\u001b[1;32m    305\u001b[0m \u001b[39mexcept\u001b[39;00m (\u001b[39mTypeError\u001b[39;00m, \u001b[39mNotImplementedError\u001b[39;00m):\n\u001b[1;32m    306\u001b[0m     \u001b[39mif\u001b[39;00m \u001b[39mnot\u001b[39;00m ignore_failures:\n",
      "File \u001b[0;32m/Library/Frameworks/Python.framework/Versions/3.10/lib/python3.10/site-packages/pandas/core/internals/blocks.py:580\u001b[0m, in \u001b[0;36mBlock.astype\u001b[0;34m(self, dtype, copy, errors)\u001b[0m\n\u001b[1;32m    562\u001b[0m \u001b[39m\"\"\"\u001b[39;00m\n\u001b[1;32m    563\u001b[0m \u001b[39mCoerce to the new dtype.\u001b[39;00m\n\u001b[1;32m    564\u001b[0m \n\u001b[0;32m   (...)\u001b[0m\n\u001b[1;32m    576\u001b[0m \u001b[39mBlock\u001b[39;00m\n\u001b[1;32m    577\u001b[0m \u001b[39m\"\"\"\u001b[39;00m\n\u001b[1;32m    578\u001b[0m values \u001b[39m=\u001b[39m \u001b[39mself\u001b[39m\u001b[39m.\u001b[39mvalues\n\u001b[0;32m--> 580\u001b[0m new_values \u001b[39m=\u001b[39m astype_array_safe(values, dtype, copy\u001b[39m=\u001b[39;49mcopy, errors\u001b[39m=\u001b[39;49merrors)\n\u001b[1;32m    582\u001b[0m new_values \u001b[39m=\u001b[39m maybe_coerce_values(new_values)\n\u001b[1;32m    583\u001b[0m newb \u001b[39m=\u001b[39m \u001b[39mself\u001b[39m\u001b[39m.\u001b[39mmake_block(new_values)\n",
      "File \u001b[0;32m/Library/Frameworks/Python.framework/Versions/3.10/lib/python3.10/site-packages/pandas/core/dtypes/cast.py:1292\u001b[0m, in \u001b[0;36mastype_array_safe\u001b[0;34m(values, dtype, copy, errors)\u001b[0m\n\u001b[1;32m   1289\u001b[0m     dtype \u001b[39m=\u001b[39m dtype\u001b[39m.\u001b[39mnumpy_dtype\n\u001b[1;32m   1291\u001b[0m \u001b[39mtry\u001b[39;00m:\n\u001b[0;32m-> 1292\u001b[0m     new_values \u001b[39m=\u001b[39m astype_array(values, dtype, copy\u001b[39m=\u001b[39;49mcopy)\n\u001b[1;32m   1293\u001b[0m \u001b[39mexcept\u001b[39;00m (\u001b[39mValueError\u001b[39;00m, \u001b[39mTypeError\u001b[39;00m):\n\u001b[1;32m   1294\u001b[0m     \u001b[39m# e.g. astype_nansafe can fail on object-dtype of strings\u001b[39;00m\n\u001b[1;32m   1295\u001b[0m     \u001b[39m#  trying to convert to float\u001b[39;00m\n\u001b[1;32m   1296\u001b[0m     \u001b[39mif\u001b[39;00m errors \u001b[39m==\u001b[39m \u001b[39m\"\u001b[39m\u001b[39mignore\u001b[39m\u001b[39m\"\u001b[39m:\n",
      "File \u001b[0;32m/Library/Frameworks/Python.framework/Versions/3.10/lib/python3.10/site-packages/pandas/core/dtypes/cast.py:1237\u001b[0m, in \u001b[0;36mastype_array\u001b[0;34m(values, dtype, copy)\u001b[0m\n\u001b[1;32m   1234\u001b[0m     values \u001b[39m=\u001b[39m values\u001b[39m.\u001b[39mastype(dtype, copy\u001b[39m=\u001b[39mcopy)\n\u001b[1;32m   1236\u001b[0m \u001b[39melse\u001b[39;00m:\n\u001b[0;32m-> 1237\u001b[0m     values \u001b[39m=\u001b[39m astype_nansafe(values, dtype, copy\u001b[39m=\u001b[39;49mcopy)\n\u001b[1;32m   1239\u001b[0m \u001b[39m# in pandas we don't store numpy str dtypes, so convert to object\u001b[39;00m\n\u001b[1;32m   1240\u001b[0m \u001b[39mif\u001b[39;00m \u001b[39misinstance\u001b[39m(dtype, np\u001b[39m.\u001b[39mdtype) \u001b[39mand\u001b[39;00m \u001b[39missubclass\u001b[39m(values\u001b[39m.\u001b[39mdtype\u001b[39m.\u001b[39mtype, \u001b[39mstr\u001b[39m):\n",
      "File \u001b[0;32m/Library/Frameworks/Python.framework/Versions/3.10/lib/python3.10/site-packages/pandas/core/dtypes/cast.py:1154\u001b[0m, in \u001b[0;36mastype_nansafe\u001b[0;34m(arr, dtype, copy, skipna)\u001b[0m\n\u001b[1;32m   1150\u001b[0m \u001b[39melif\u001b[39;00m is_object_dtype(arr\u001b[39m.\u001b[39mdtype):\n\u001b[1;32m   1151\u001b[0m \n\u001b[1;32m   1152\u001b[0m     \u001b[39m# work around NumPy brokenness, #1987\u001b[39;00m\n\u001b[1;32m   1153\u001b[0m     \u001b[39mif\u001b[39;00m np\u001b[39m.\u001b[39missubdtype(dtype\u001b[39m.\u001b[39mtype, np\u001b[39m.\u001b[39minteger):\n\u001b[0;32m-> 1154\u001b[0m         \u001b[39mreturn\u001b[39;00m lib\u001b[39m.\u001b[39;49mastype_intsafe(arr, dtype)\n\u001b[1;32m   1156\u001b[0m     \u001b[39m# if we have a datetime/timedelta array of objects\u001b[39;00m\n\u001b[1;32m   1157\u001b[0m     \u001b[39m# then coerce to a proper dtype and recall astype_nansafe\u001b[39;00m\n\u001b[1;32m   1159\u001b[0m     \u001b[39melif\u001b[39;00m is_datetime64_dtype(dtype):\n",
      "File \u001b[0;32m/Library/Frameworks/Python.framework/Versions/3.10/lib/python3.10/site-packages/pandas/_libs/lib.pyx:668\u001b[0m, in \u001b[0;36mpandas._libs.lib.astype_intsafe\u001b[0;34m()\u001b[0m\n",
      "\u001b[0;31mValueError\u001b[0m: invalid literal for int() with base 10: '>10'"
     ]
    }
   ],
   "source": [
    "#converting data type object to integer for columns: n_bedroom, n_bathroom\n",
    "\n",
    "#for 'n_bedroom'\n",
    "df['n_bedroom'] = df['n_bedroom'].astype(str).astype(int)\n"
   ]
  },
  {
   "cell_type": "markdown",
   "metadata": {},
   "source": [
    "Error above shows that in OLX they assigned '>10' if the listed house have more than 10 bedrooms, due to uncertainties in the value, we need to remove the rows containing this value as well"
   ]
  },
  {
   "cell_type": "code",
   "execution_count": 430,
   "metadata": {},
   "outputs": [
    {
     "data": {
      "text/html": [
       "<div>\n",
       "<style scoped>\n",
       "    .dataframe tbody tr th:only-of-type {\n",
       "        vertical-align: middle;\n",
       "    }\n",
       "\n",
       "    .dataframe tbody tr th {\n",
       "        vertical-align: top;\n",
       "    }\n",
       "\n",
       "    .dataframe thead th {\n",
       "        text-align: right;\n",
       "    }\n",
       "</style>\n",
       "<table border=\"1\" class=\"dataframe\">\n",
       "  <thead>\n",
       "    <tr style=\"text-align: right;\">\n",
       "      <th></th>\n",
       "      <th>n_bedroom</th>\n",
       "      <th>n_bathroom</th>\n",
       "      <th>n_lantai</th>\n",
       "      <th>luas_tanah</th>\n",
       "      <th>luas_bangunan</th>\n",
       "      <th>sertifikasi</th>\n",
       "      <th>location</th>\n",
       "      <th>price</th>\n",
       "    </tr>\n",
       "  </thead>\n",
       "  <tbody>\n",
       "    <tr>\n",
       "      <th>126</th>\n",
       "      <td>&gt;10</td>\n",
       "      <td>&gt;10</td>\n",
       "      <td>3.0</td>\n",
       "      <td>212.0</td>\n",
       "      <td>425.0</td>\n",
       "      <td>SHM - Sertifikat Hak Milik</td>\n",
       "      <td>Cilandak, Jakarta Selatan, Jakarta D.K.I.</td>\n",
       "      <td>Rp 8.300.000.000</td>\n",
       "    </tr>\n",
       "    <tr>\n",
       "      <th>202</th>\n",
       "      <td>&gt;10</td>\n",
       "      <td>8</td>\n",
       "      <td>2.0</td>\n",
       "      <td>2025.0</td>\n",
       "      <td>1500.0</td>\n",
       "      <td>SHM - Sertifikat Hak Milik</td>\n",
       "      <td>Pancoran, Jakarta Selatan, Jakarta D.K.I.</td>\n",
       "      <td>Rp 45.000.000.000</td>\n",
       "    </tr>\n",
       "    <tr>\n",
       "      <th>258</th>\n",
       "      <td>&gt;10</td>\n",
       "      <td>6</td>\n",
       "      <td>2.0</td>\n",
       "      <td>464.0</td>\n",
       "      <td>350.0</td>\n",
       "      <td>SHM - Sertifikat Hak Milik</td>\n",
       "      <td>Kebayoran Baru, Jakarta Selatan, Jakarta D.K.I.</td>\n",
       "      <td>Rp 5.850.000.000</td>\n",
       "    </tr>\n",
       "    <tr>\n",
       "      <th>299</th>\n",
       "      <td>&gt;10</td>\n",
       "      <td>&gt;10</td>\n",
       "      <td>2.0</td>\n",
       "      <td>242.0</td>\n",
       "      <td>430.0</td>\n",
       "      <td>SHM - Sertifikat Hak Milik</td>\n",
       "      <td>Kebayoran Baru, Jakarta Selatan, Jakarta D.K.I.</td>\n",
       "      <td>Rp 12.900.000.000</td>\n",
       "    </tr>\n",
       "    <tr>\n",
       "      <th>339</th>\n",
       "      <td>&gt;10</td>\n",
       "      <td>6</td>\n",
       "      <td>2.0</td>\n",
       "      <td>600.0</td>\n",
       "      <td>410.0</td>\n",
       "      <td>HGB - Hak Guna Bangun</td>\n",
       "      <td>Mampang Prapatan, Jakarta Selatan, Jakarta D.K.I.</td>\n",
       "      <td>Rp 7.200.000.000</td>\n",
       "    </tr>\n",
       "    <tr>\n",
       "      <th>457</th>\n",
       "      <td>&gt;10</td>\n",
       "      <td>&gt;10</td>\n",
       "      <td>3.0</td>\n",
       "      <td>300.0</td>\n",
       "      <td>600.0</td>\n",
       "      <td>SHM - Sertifikat Hak Milik</td>\n",
       "      <td>Mampang Prapatan, Jakarta Selatan, Jakarta D.K.I.</td>\n",
       "      <td>Rp 18.000.000.000</td>\n",
       "    </tr>\n",
       "  </tbody>\n",
       "</table>\n",
       "</div>"
      ],
      "text/plain": [
       "    n_bedroom n_bathroom  n_lantai  luas_tanah  luas_bangunan  \\\n",
       "126       >10        >10       3.0       212.0          425.0   \n",
       "202       >10          8       2.0      2025.0         1500.0   \n",
       "258       >10          6       2.0       464.0          350.0   \n",
       "299       >10        >10       2.0       242.0          430.0   \n",
       "339       >10          6       2.0       600.0          410.0   \n",
       "457       >10        >10       3.0       300.0          600.0   \n",
       "\n",
       "                    sertifikasi  \\\n",
       "126  SHM - Sertifikat Hak Milik   \n",
       "202  SHM - Sertifikat Hak Milik   \n",
       "258  SHM - Sertifikat Hak Milik   \n",
       "299  SHM - Sertifikat Hak Milik   \n",
       "339       HGB - Hak Guna Bangun   \n",
       "457  SHM - Sertifikat Hak Milik   \n",
       "\n",
       "                                              location              price  \n",
       "126          Cilandak, Jakarta Selatan, Jakarta D.K.I.   Rp 8.300.000.000  \n",
       "202          Pancoran, Jakarta Selatan, Jakarta D.K.I.  Rp 45.000.000.000  \n",
       "258    Kebayoran Baru, Jakarta Selatan, Jakarta D.K.I.   Rp 5.850.000.000  \n",
       "299    Kebayoran Baru, Jakarta Selatan, Jakarta D.K.I.  Rp 12.900.000.000  \n",
       "339  Mampang Prapatan, Jakarta Selatan, Jakarta D.K.I.   Rp 7.200.000.000  \n",
       "457  Mampang Prapatan, Jakarta Selatan, Jakarta D.K.I.  Rp 18.000.000.000  "
      ]
     },
     "execution_count": 430,
     "metadata": {},
     "output_type": "execute_result"
    }
   ],
   "source": [
    "#locate the rows containing this anomaly\n",
    "df.loc[df['n_bedroom'] == '>10']\n"
   ]
  },
  {
   "cell_type": "code",
   "execution_count": 431,
   "metadata": {},
   "outputs": [],
   "source": [
    "#remove the anomaly\n",
    "df = df[df[\"n_bedroom\"].str.contains(\">10\") == False]\n"
   ]
  },
  {
   "cell_type": "code",
   "execution_count": 432,
   "metadata": {},
   "outputs": [],
   "source": [
    "df['n_bedroom'] = df['n_bedroom'].astype(str).astype(int)\n"
   ]
  },
  {
   "cell_type": "code",
   "execution_count": 433,
   "metadata": {},
   "outputs": [
    {
     "ename": "ValueError",
     "evalue": "invalid literal for int() with base 10: '>10'",
     "output_type": "error",
     "traceback": [
      "\u001b[0;31m---------------------------------------------------------------------------\u001b[0m",
      "\u001b[0;31mValueError\u001b[0m                                Traceback (most recent call last)",
      "\u001b[1;32m/Users/edycakrasinaga/Documents/machinelearning/jaksel_house_pricing/notebooks/n01_preprocessing.ipynb Cell 32\u001b[0m in \u001b[0;36m<cell line: 2>\u001b[0;34m()\u001b[0m\n\u001b[1;32m      <a href='vscode-notebook-cell:/Users/edycakrasinaga/Documents/machinelearning/jaksel_house_pricing/notebooks/n01_preprocessing.ipynb#X50sZmlsZQ%3D%3D?line=0'>1</a>\u001b[0m \u001b[39m# for bathroom\u001b[39;00m\n\u001b[0;32m----> <a href='vscode-notebook-cell:/Users/edycakrasinaga/Documents/machinelearning/jaksel_house_pricing/notebooks/n01_preprocessing.ipynb#X50sZmlsZQ%3D%3D?line=1'>2</a>\u001b[0m df[\u001b[39m'\u001b[39m\u001b[39mn_bathroom\u001b[39m\u001b[39m'\u001b[39m] \u001b[39m=\u001b[39m df[\u001b[39m'\u001b[39;49m\u001b[39mn_bathroom\u001b[39;49m\u001b[39m'\u001b[39;49m]\u001b[39m.\u001b[39;49mastype(\u001b[39mstr\u001b[39;49m)\u001b[39m.\u001b[39;49mastype(\u001b[39mint\u001b[39;49m)\n",
      "File \u001b[0;32m/Library/Frameworks/Python.framework/Versions/3.10/lib/python3.10/site-packages/pandas/core/generic.py:5912\u001b[0m, in \u001b[0;36mNDFrame.astype\u001b[0;34m(self, dtype, copy, errors)\u001b[0m\n\u001b[1;32m   5905\u001b[0m     results \u001b[39m=\u001b[39m [\n\u001b[1;32m   5906\u001b[0m         \u001b[39mself\u001b[39m\u001b[39m.\u001b[39miloc[:, i]\u001b[39m.\u001b[39mastype(dtype, copy\u001b[39m=\u001b[39mcopy)\n\u001b[1;32m   5907\u001b[0m         \u001b[39mfor\u001b[39;00m i \u001b[39min\u001b[39;00m \u001b[39mrange\u001b[39m(\u001b[39mlen\u001b[39m(\u001b[39mself\u001b[39m\u001b[39m.\u001b[39mcolumns))\n\u001b[1;32m   5908\u001b[0m     ]\n\u001b[1;32m   5910\u001b[0m \u001b[39melse\u001b[39;00m:\n\u001b[1;32m   5911\u001b[0m     \u001b[39m# else, only a single dtype is given\u001b[39;00m\n\u001b[0;32m-> 5912\u001b[0m     new_data \u001b[39m=\u001b[39m \u001b[39mself\u001b[39;49m\u001b[39m.\u001b[39;49m_mgr\u001b[39m.\u001b[39;49mastype(dtype\u001b[39m=\u001b[39;49mdtype, copy\u001b[39m=\u001b[39;49mcopy, errors\u001b[39m=\u001b[39;49merrors)\n\u001b[1;32m   5913\u001b[0m     \u001b[39mreturn\u001b[39;00m \u001b[39mself\u001b[39m\u001b[39m.\u001b[39m_constructor(new_data)\u001b[39m.\u001b[39m__finalize__(\u001b[39mself\u001b[39m, method\u001b[39m=\u001b[39m\u001b[39m\"\u001b[39m\u001b[39mastype\u001b[39m\u001b[39m\"\u001b[39m)\n\u001b[1;32m   5915\u001b[0m \u001b[39m# GH 33113: handle empty frame or series\u001b[39;00m\n",
      "File \u001b[0;32m/Library/Frameworks/Python.framework/Versions/3.10/lib/python3.10/site-packages/pandas/core/internals/managers.py:419\u001b[0m, in \u001b[0;36mBaseBlockManager.astype\u001b[0;34m(self, dtype, copy, errors)\u001b[0m\n\u001b[1;32m    418\u001b[0m \u001b[39mdef\u001b[39;00m \u001b[39mastype\u001b[39m(\u001b[39mself\u001b[39m: T, dtype, copy: \u001b[39mbool\u001b[39m \u001b[39m=\u001b[39m \u001b[39mFalse\u001b[39;00m, errors: \u001b[39mstr\u001b[39m \u001b[39m=\u001b[39m \u001b[39m\"\u001b[39m\u001b[39mraise\u001b[39m\u001b[39m\"\u001b[39m) \u001b[39m-\u001b[39m\u001b[39m>\u001b[39m T:\n\u001b[0;32m--> 419\u001b[0m     \u001b[39mreturn\u001b[39;00m \u001b[39mself\u001b[39;49m\u001b[39m.\u001b[39;49mapply(\u001b[39m\"\u001b[39;49m\u001b[39mastype\u001b[39;49m\u001b[39m\"\u001b[39;49m, dtype\u001b[39m=\u001b[39;49mdtype, copy\u001b[39m=\u001b[39;49mcopy, errors\u001b[39m=\u001b[39;49merrors)\n",
      "File \u001b[0;32m/Library/Frameworks/Python.framework/Versions/3.10/lib/python3.10/site-packages/pandas/core/internals/managers.py:304\u001b[0m, in \u001b[0;36mBaseBlockManager.apply\u001b[0;34m(self, f, align_keys, ignore_failures, **kwargs)\u001b[0m\n\u001b[1;32m    302\u001b[0m         applied \u001b[39m=\u001b[39m b\u001b[39m.\u001b[39mapply(f, \u001b[39m*\u001b[39m\u001b[39m*\u001b[39mkwargs)\n\u001b[1;32m    303\u001b[0m     \u001b[39melse\u001b[39;00m:\n\u001b[0;32m--> 304\u001b[0m         applied \u001b[39m=\u001b[39m \u001b[39mgetattr\u001b[39;49m(b, f)(\u001b[39m*\u001b[39;49m\u001b[39m*\u001b[39;49mkwargs)\n\u001b[1;32m    305\u001b[0m \u001b[39mexcept\u001b[39;00m (\u001b[39mTypeError\u001b[39;00m, \u001b[39mNotImplementedError\u001b[39;00m):\n\u001b[1;32m    306\u001b[0m     \u001b[39mif\u001b[39;00m \u001b[39mnot\u001b[39;00m ignore_failures:\n",
      "File \u001b[0;32m/Library/Frameworks/Python.framework/Versions/3.10/lib/python3.10/site-packages/pandas/core/internals/blocks.py:580\u001b[0m, in \u001b[0;36mBlock.astype\u001b[0;34m(self, dtype, copy, errors)\u001b[0m\n\u001b[1;32m    562\u001b[0m \u001b[39m\"\"\"\u001b[39;00m\n\u001b[1;32m    563\u001b[0m \u001b[39mCoerce to the new dtype.\u001b[39;00m\n\u001b[1;32m    564\u001b[0m \n\u001b[0;32m   (...)\u001b[0m\n\u001b[1;32m    576\u001b[0m \u001b[39mBlock\u001b[39;00m\n\u001b[1;32m    577\u001b[0m \u001b[39m\"\"\"\u001b[39;00m\n\u001b[1;32m    578\u001b[0m values \u001b[39m=\u001b[39m \u001b[39mself\u001b[39m\u001b[39m.\u001b[39mvalues\n\u001b[0;32m--> 580\u001b[0m new_values \u001b[39m=\u001b[39m astype_array_safe(values, dtype, copy\u001b[39m=\u001b[39;49mcopy, errors\u001b[39m=\u001b[39;49merrors)\n\u001b[1;32m    582\u001b[0m new_values \u001b[39m=\u001b[39m maybe_coerce_values(new_values)\n\u001b[1;32m    583\u001b[0m newb \u001b[39m=\u001b[39m \u001b[39mself\u001b[39m\u001b[39m.\u001b[39mmake_block(new_values)\n",
      "File \u001b[0;32m/Library/Frameworks/Python.framework/Versions/3.10/lib/python3.10/site-packages/pandas/core/dtypes/cast.py:1292\u001b[0m, in \u001b[0;36mastype_array_safe\u001b[0;34m(values, dtype, copy, errors)\u001b[0m\n\u001b[1;32m   1289\u001b[0m     dtype \u001b[39m=\u001b[39m dtype\u001b[39m.\u001b[39mnumpy_dtype\n\u001b[1;32m   1291\u001b[0m \u001b[39mtry\u001b[39;00m:\n\u001b[0;32m-> 1292\u001b[0m     new_values \u001b[39m=\u001b[39m astype_array(values, dtype, copy\u001b[39m=\u001b[39;49mcopy)\n\u001b[1;32m   1293\u001b[0m \u001b[39mexcept\u001b[39;00m (\u001b[39mValueError\u001b[39;00m, \u001b[39mTypeError\u001b[39;00m):\n\u001b[1;32m   1294\u001b[0m     \u001b[39m# e.g. astype_nansafe can fail on object-dtype of strings\u001b[39;00m\n\u001b[1;32m   1295\u001b[0m     \u001b[39m#  trying to convert to float\u001b[39;00m\n\u001b[1;32m   1296\u001b[0m     \u001b[39mif\u001b[39;00m errors \u001b[39m==\u001b[39m \u001b[39m\"\u001b[39m\u001b[39mignore\u001b[39m\u001b[39m\"\u001b[39m:\n",
      "File \u001b[0;32m/Library/Frameworks/Python.framework/Versions/3.10/lib/python3.10/site-packages/pandas/core/dtypes/cast.py:1237\u001b[0m, in \u001b[0;36mastype_array\u001b[0;34m(values, dtype, copy)\u001b[0m\n\u001b[1;32m   1234\u001b[0m     values \u001b[39m=\u001b[39m values\u001b[39m.\u001b[39mastype(dtype, copy\u001b[39m=\u001b[39mcopy)\n\u001b[1;32m   1236\u001b[0m \u001b[39melse\u001b[39;00m:\n\u001b[0;32m-> 1237\u001b[0m     values \u001b[39m=\u001b[39m astype_nansafe(values, dtype, copy\u001b[39m=\u001b[39;49mcopy)\n\u001b[1;32m   1239\u001b[0m \u001b[39m# in pandas we don't store numpy str dtypes, so convert to object\u001b[39;00m\n\u001b[1;32m   1240\u001b[0m \u001b[39mif\u001b[39;00m \u001b[39misinstance\u001b[39m(dtype, np\u001b[39m.\u001b[39mdtype) \u001b[39mand\u001b[39;00m \u001b[39missubclass\u001b[39m(values\u001b[39m.\u001b[39mdtype\u001b[39m.\u001b[39mtype, \u001b[39mstr\u001b[39m):\n",
      "File \u001b[0;32m/Library/Frameworks/Python.framework/Versions/3.10/lib/python3.10/site-packages/pandas/core/dtypes/cast.py:1154\u001b[0m, in \u001b[0;36mastype_nansafe\u001b[0;34m(arr, dtype, copy, skipna)\u001b[0m\n\u001b[1;32m   1150\u001b[0m \u001b[39melif\u001b[39;00m is_object_dtype(arr\u001b[39m.\u001b[39mdtype):\n\u001b[1;32m   1151\u001b[0m \n\u001b[1;32m   1152\u001b[0m     \u001b[39m# work around NumPy brokenness, #1987\u001b[39;00m\n\u001b[1;32m   1153\u001b[0m     \u001b[39mif\u001b[39;00m np\u001b[39m.\u001b[39missubdtype(dtype\u001b[39m.\u001b[39mtype, np\u001b[39m.\u001b[39minteger):\n\u001b[0;32m-> 1154\u001b[0m         \u001b[39mreturn\u001b[39;00m lib\u001b[39m.\u001b[39;49mastype_intsafe(arr, dtype)\n\u001b[1;32m   1156\u001b[0m     \u001b[39m# if we have a datetime/timedelta array of objects\u001b[39;00m\n\u001b[1;32m   1157\u001b[0m     \u001b[39m# then coerce to a proper dtype and recall astype_nansafe\u001b[39;00m\n\u001b[1;32m   1159\u001b[0m     \u001b[39melif\u001b[39;00m is_datetime64_dtype(dtype):\n",
      "File \u001b[0;32m/Library/Frameworks/Python.framework/Versions/3.10/lib/python3.10/site-packages/pandas/_libs/lib.pyx:668\u001b[0m, in \u001b[0;36mpandas._libs.lib.astype_intsafe\u001b[0;34m()\u001b[0m\n",
      "\u001b[0;31mValueError\u001b[0m: invalid literal for int() with base 10: '>10'"
     ]
    }
   ],
   "source": [
    "# for bathroom\n",
    "df['n_bathroom'] = df['n_bathroom'].astype(str).astype(int)\n"
   ]
  },
  {
   "cell_type": "markdown",
   "metadata": {},
   "source": [
    "Error above shows that in OLX they assigned '>10' if the listed house have more than 10 bathrooms, due to uncertainties in the value, we need to remove the rows containing this value as well"
   ]
  },
  {
   "cell_type": "code",
   "execution_count": 434,
   "metadata": {},
   "outputs": [
    {
     "data": {
      "text/html": [
       "<div>\n",
       "<style scoped>\n",
       "    .dataframe tbody tr th:only-of-type {\n",
       "        vertical-align: middle;\n",
       "    }\n",
       "\n",
       "    .dataframe tbody tr th {\n",
       "        vertical-align: top;\n",
       "    }\n",
       "\n",
       "    .dataframe thead th {\n",
       "        text-align: right;\n",
       "    }\n",
       "</style>\n",
       "<table border=\"1\" class=\"dataframe\">\n",
       "  <thead>\n",
       "    <tr style=\"text-align: right;\">\n",
       "      <th></th>\n",
       "      <th>n_bedroom</th>\n",
       "      <th>n_bathroom</th>\n",
       "      <th>n_lantai</th>\n",
       "      <th>luas_tanah</th>\n",
       "      <th>luas_bangunan</th>\n",
       "      <th>sertifikasi</th>\n",
       "      <th>location</th>\n",
       "      <th>price</th>\n",
       "    </tr>\n",
       "  </thead>\n",
       "  <tbody>\n",
       "    <tr>\n",
       "      <th>353</th>\n",
       "      <td>8</td>\n",
       "      <td>&gt;10</td>\n",
       "      <td>2.0</td>\n",
       "      <td>852.0</td>\n",
       "      <td>1422.0</td>\n",
       "      <td>HGB - Hak Guna Bangun</td>\n",
       "      <td>Kebayoran Baru, Jakarta Selatan, Jakarta D.K.I.</td>\n",
       "      <td>Rp 49.000.000.000</td>\n",
       "    </tr>\n",
       "    <tr>\n",
       "      <th>447</th>\n",
       "      <td>10</td>\n",
       "      <td>&gt;10</td>\n",
       "      <td>2.0</td>\n",
       "      <td>212.0</td>\n",
       "      <td>425.0</td>\n",
       "      <td>SHM - Sertifikat Hak Milik</td>\n",
       "      <td>Cilandak, Jakarta Selatan, Jakarta D.K.I.</td>\n",
       "      <td>Rp 8.300.000.000</td>\n",
       "    </tr>\n",
       "  </tbody>\n",
       "</table>\n",
       "</div>"
      ],
      "text/plain": [
       "     n_bedroom n_bathroom  n_lantai  luas_tanah  luas_bangunan  \\\n",
       "353          8        >10       2.0       852.0         1422.0   \n",
       "447         10        >10       2.0       212.0          425.0   \n",
       "\n",
       "                    sertifikasi  \\\n",
       "353       HGB - Hak Guna Bangun   \n",
       "447  SHM - Sertifikat Hak Milik   \n",
       "\n",
       "                                            location              price  \n",
       "353  Kebayoran Baru, Jakarta Selatan, Jakarta D.K.I.  Rp 49.000.000.000  \n",
       "447        Cilandak, Jakarta Selatan, Jakarta D.K.I.   Rp 8.300.000.000  "
      ]
     },
     "execution_count": 434,
     "metadata": {},
     "output_type": "execute_result"
    }
   ],
   "source": [
    "df.loc[df['n_bathroom'] == '>10']\n"
   ]
  },
  {
   "cell_type": "code",
   "execution_count": 435,
   "metadata": {},
   "outputs": [],
   "source": [
    "#remove the anomaly\n",
    "df = df[df[\"n_bathroom\"].str.contains(\">10\") == False]\n",
    "df['n_bathroom'] = df['n_bathroom'].astype(str).astype(int)\n",
    "\n"
   ]
  },
  {
   "cell_type": "code",
   "execution_count": 436,
   "metadata": {},
   "outputs": [
    {
     "data": {
      "text/plain": [
       "n_bedroom          int64\n",
       "n_bathroom         int64\n",
       "n_lantai         float64\n",
       "luas_tanah       float64\n",
       "luas_bangunan    float64\n",
       "sertifikasi       object\n",
       "location          object\n",
       "price             object\n",
       "dtype: object"
      ]
     },
     "execution_count": 436,
     "metadata": {},
     "output_type": "execute_result"
    }
   ],
   "source": [
    "df.dtypes"
   ]
  },
  {
   "cell_type": "code",
   "execution_count": 437,
   "metadata": {},
   "outputs": [],
   "source": [
    "#converting float to integer for columns: n_lantai, luas_tanah, luas_bangunan\n",
    "df['n_lantai'] = df['n_lantai'].apply(np.int64)\n",
    "df['luas_tanah'] = df['luas_tanah'].apply(np.int64)\n",
    "df['luas_bangunan'] = df['luas_bangunan'].apply(np.int64)\n"
   ]
  },
  {
   "cell_type": "code",
   "execution_count": 438,
   "metadata": {},
   "outputs": [
    {
     "data": {
      "text/plain": [
       "n_bedroom         int64\n",
       "n_bathroom        int64\n",
       "n_lantai          int64\n",
       "luas_tanah        int64\n",
       "luas_bangunan     int64\n",
       "sertifikasi      object\n",
       "location         object\n",
       "price            object\n",
       "dtype: object"
      ]
     },
     "execution_count": 438,
     "metadata": {},
     "output_type": "execute_result"
    }
   ],
   "source": [
    "df.dtypes"
   ]
  },
  {
   "cell_type": "code",
   "execution_count": 439,
   "metadata": {},
   "outputs": [
    {
     "name": "stdout",
     "output_type": "stream",
     "text": [
      "['SHM - Sertifikat Hak Milik' 'HGB - Hak Guna Bangun'\n",
      " 'Lainnya (PPJB, Girik, Adat, dll)']\n"
     ]
    }
   ],
   "source": [
    "#check the unique values in 'sertifikasi'\n",
    "print(df[\"sertifikasi\"].unique())\n"
   ]
  },
  {
   "cell_type": "code",
   "execution_count": 440,
   "metadata": {},
   "outputs": [
    {
     "name": "stdout",
     "output_type": "stream",
     "text": [
      "['SHM' 'HGB' 'Lainnya']\n"
     ]
    }
   ],
   "source": [
    "#reformat 'sertifikasi'\n",
    "certs= df[\"sertifikasi\"]\n",
    "new_certs = []\n",
    "\n",
    "for i in certs:\n",
    "  # print(i.split('-')[0])\n",
    "  new_certs.append(i.split(' ')[0])\n",
    "\n",
    "df[\"sertifikasi\"] = new_certs\n",
    "df['sertifikasi'] = df['sertifikasi'].astype(str)\n",
    "\n",
    "print(df[\"sertifikasi\"].unique())\n"
   ]
  },
  {
   "cell_type": "code",
   "execution_count": 441,
   "metadata": {},
   "outputs": [
    {
     "name": "stdout",
     "output_type": "stream",
     "text": [
      "['Jagakarsa, Jakarta Selatan, Jakarta D.K.I.'\n",
      " 'Ciputat, Tangerang Selatan Kota, Banten'\n",
      " 'Ciledug, Tangerang Kota, Banten'\n",
      " 'Palmerah, Jakarta Barat, Jakarta D.K.I.'\n",
      " 'Cinere, Depok Kota, Jawa Barat' 'Ciracas, Jakarta Timur, Jakarta D.K.I.'\n",
      " 'Setia Budi, Jakarta Selatan, Jakarta D.K.I.'\n",
      " 'Makasar, Jakarta Timur, Jakarta D.K.I.'\n",
      " 'Tebet, Jakarta Selatan, Jakarta D.K.I.'\n",
      " 'Ciputat Timur, Tangerang Selatan Kota, Banten'\n",
      " 'Senen, Jakarta Pusat, Jakarta D.K.I.'\n",
      " 'Cilandak, Jakarta Selatan, Jakarta D.K.I.'\n",
      " 'Kebayoran Lama, Jakarta Selatan, Jakarta D.K.I.'\n",
      " 'Pesanggrahan, Jakarta Selatan, Jakarta D.K.I.'\n",
      " 'Pasar Minggu, Jakarta Selatan, Jakarta D.K.I.'\n",
      " 'Kebayoran Baru, Jakarta Selatan, Jakarta D.K.I.'\n",
      " 'Pancoran, Jakarta Selatan, Jakarta D.K.I.'\n",
      " 'Mampang Prapatan, Jakarta Selatan, Jakarta D.K.I.']\n"
     ]
    }
   ],
   "source": [
    "#check the unique values in 'location'\n",
    "print(df[\"location\"].unique())\n"
   ]
  },
  {
   "cell_type": "code",
   "execution_count": 442,
   "metadata": {},
   "outputs": [],
   "source": [
    "#remove non jakarta selatan data \n",
    "df = df[df[\"location\"].str.contains('Jakarta Selatan') == True]\n"
   ]
  },
  {
   "cell_type": "code",
   "execution_count": 443,
   "metadata": {},
   "outputs": [
    {
     "name": "stdout",
     "output_type": "stream",
     "text": [
      "['Jagakarsa, Jakarta Selatan, Jakarta D.K.I.'\n",
      " 'Setia Budi, Jakarta Selatan, Jakarta D.K.I.'\n",
      " 'Tebet, Jakarta Selatan, Jakarta D.K.I.'\n",
      " 'Cilandak, Jakarta Selatan, Jakarta D.K.I.'\n",
      " 'Kebayoran Lama, Jakarta Selatan, Jakarta D.K.I.'\n",
      " 'Pesanggrahan, Jakarta Selatan, Jakarta D.K.I.'\n",
      " 'Pasar Minggu, Jakarta Selatan, Jakarta D.K.I.'\n",
      " 'Kebayoran Baru, Jakarta Selatan, Jakarta D.K.I.'\n",
      " 'Pancoran, Jakarta Selatan, Jakarta D.K.I.'\n",
      " 'Mampang Prapatan, Jakarta Selatan, Jakarta D.K.I.']\n"
     ]
    }
   ],
   "source": [
    "print(df[\"location\"].unique())\n"
   ]
  },
  {
   "cell_type": "code",
   "execution_count": 444,
   "metadata": {},
   "outputs": [],
   "source": [
    "#reformating the 'location'\n",
    "locations = df[\"location\"]\n",
    "new_locations = []\n",
    "\n",
    "for i in locations:\n",
    "  # print(i.split(',')[0])\n",
    "  new_locations.append(i.split(',')[0])\n",
    "\n",
    "df[\"location\"] = new_locations\n",
    "df['location'] = df['location'].astype(str)\n"
   ]
  },
  {
   "cell_type": "code",
   "execution_count": 445,
   "metadata": {},
   "outputs": [
    {
     "data": {
      "text/html": [
       "<div>\n",
       "<style scoped>\n",
       "    .dataframe tbody tr th:only-of-type {\n",
       "        vertical-align: middle;\n",
       "    }\n",
       "\n",
       "    .dataframe tbody tr th {\n",
       "        vertical-align: top;\n",
       "    }\n",
       "\n",
       "    .dataframe thead th {\n",
       "        text-align: right;\n",
       "    }\n",
       "</style>\n",
       "<table border=\"1\" class=\"dataframe\">\n",
       "  <thead>\n",
       "    <tr style=\"text-align: right;\">\n",
       "      <th></th>\n",
       "      <th>n_bedroom</th>\n",
       "      <th>n_bathroom</th>\n",
       "      <th>n_lantai</th>\n",
       "      <th>luas_tanah</th>\n",
       "      <th>luas_bangunan</th>\n",
       "      <th>sertifikasi</th>\n",
       "      <th>location</th>\n",
       "      <th>price</th>\n",
       "    </tr>\n",
       "  </thead>\n",
       "  <tbody>\n",
       "    <tr>\n",
       "      <th>0</th>\n",
       "      <td>5</td>\n",
       "      <td>5</td>\n",
       "      <td>2</td>\n",
       "      <td>133</td>\n",
       "      <td>200</td>\n",
       "      <td>SHM</td>\n",
       "      <td>Jagakarsa</td>\n",
       "      <td>Rp 2.460.000.000</td>\n",
       "    </tr>\n",
       "    <tr>\n",
       "      <th>8</th>\n",
       "      <td>6</td>\n",
       "      <td>1</td>\n",
       "      <td>1</td>\n",
       "      <td>148</td>\n",
       "      <td>148</td>\n",
       "      <td>SHM</td>\n",
       "      <td>Setia Budi</td>\n",
       "      <td>Rp 1.100.000.000</td>\n",
       "    </tr>\n",
       "    <tr>\n",
       "      <th>13</th>\n",
       "      <td>5</td>\n",
       "      <td>4</td>\n",
       "      <td>3</td>\n",
       "      <td>84</td>\n",
       "      <td>200</td>\n",
       "      <td>SHM</td>\n",
       "      <td>Tebet</td>\n",
       "      <td>Rp 2.100.000.000</td>\n",
       "    </tr>\n",
       "    <tr>\n",
       "      <th>23</th>\n",
       "      <td>4</td>\n",
       "      <td>3</td>\n",
       "      <td>2</td>\n",
       "      <td>160</td>\n",
       "      <td>190</td>\n",
       "      <td>SHM</td>\n",
       "      <td>Cilandak</td>\n",
       "      <td>Rp 3.600.000.000</td>\n",
       "    </tr>\n",
       "    <tr>\n",
       "      <th>24</th>\n",
       "      <td>3</td>\n",
       "      <td>3</td>\n",
       "      <td>1</td>\n",
       "      <td>303</td>\n",
       "      <td>250</td>\n",
       "      <td>SHM</td>\n",
       "      <td>Kebayoran Lama</td>\n",
       "      <td>Rp 10.500.000.000</td>\n",
       "    </tr>\n",
       "  </tbody>\n",
       "</table>\n",
       "</div>"
      ],
      "text/plain": [
       "    n_bedroom  n_bathroom  n_lantai  luas_tanah  luas_bangunan sertifikasi  \\\n",
       "0           5           5         2         133            200         SHM   \n",
       "8           6           1         1         148            148         SHM   \n",
       "13          5           4         3          84            200         SHM   \n",
       "23          4           3         2         160            190         SHM   \n",
       "24          3           3         1         303            250         SHM   \n",
       "\n",
       "          location              price  \n",
       "0        Jagakarsa   Rp 2.460.000.000  \n",
       "8       Setia Budi   Rp 1.100.000.000  \n",
       "13           Tebet   Rp 2.100.000.000  \n",
       "23        Cilandak   Rp 3.600.000.000  \n",
       "24  Kebayoran Lama  Rp 10.500.000.000  "
      ]
     },
     "execution_count": 445,
     "metadata": {},
     "output_type": "execute_result"
    }
   ],
   "source": [
    "df.head()"
   ]
  },
  {
   "cell_type": "code",
   "execution_count": 446,
   "metadata": {},
   "outputs": [],
   "source": [
    "#reformating 'price' column\n",
    "prices = df[\"price\"]\n",
    "new_prices = []\n",
    "\n",
    "for i in prices:\n",
    "  # print(''.join(i.split(' ')[1].split('.')))\n",
    "  new_prices.append(''.join(i.split(' ')[1].split('.')))\n",
    "\n",
    "df[\"price\"] = new_prices"
   ]
  },
  {
   "cell_type": "code",
   "execution_count": 447,
   "metadata": {},
   "outputs": [
    {
     "data": {
      "text/html": [
       "<div>\n",
       "<style scoped>\n",
       "    .dataframe tbody tr th:only-of-type {\n",
       "        vertical-align: middle;\n",
       "    }\n",
       "\n",
       "    .dataframe tbody tr th {\n",
       "        vertical-align: top;\n",
       "    }\n",
       "\n",
       "    .dataframe thead th {\n",
       "        text-align: right;\n",
       "    }\n",
       "</style>\n",
       "<table border=\"1\" class=\"dataframe\">\n",
       "  <thead>\n",
       "    <tr style=\"text-align: right;\">\n",
       "      <th></th>\n",
       "      <th>n_bedroom</th>\n",
       "      <th>n_bathroom</th>\n",
       "      <th>n_lantai</th>\n",
       "      <th>luas_tanah</th>\n",
       "      <th>luas_bangunan</th>\n",
       "      <th>sertifikasi</th>\n",
       "      <th>location</th>\n",
       "      <th>price</th>\n",
       "    </tr>\n",
       "  </thead>\n",
       "  <tbody>\n",
       "    <tr>\n",
       "      <th>0</th>\n",
       "      <td>5</td>\n",
       "      <td>5</td>\n",
       "      <td>2</td>\n",
       "      <td>133</td>\n",
       "      <td>200</td>\n",
       "      <td>SHM</td>\n",
       "      <td>Jagakarsa</td>\n",
       "      <td>2460000000</td>\n",
       "    </tr>\n",
       "    <tr>\n",
       "      <th>8</th>\n",
       "      <td>6</td>\n",
       "      <td>1</td>\n",
       "      <td>1</td>\n",
       "      <td>148</td>\n",
       "      <td>148</td>\n",
       "      <td>SHM</td>\n",
       "      <td>Setia Budi</td>\n",
       "      <td>1100000000</td>\n",
       "    </tr>\n",
       "    <tr>\n",
       "      <th>13</th>\n",
       "      <td>5</td>\n",
       "      <td>4</td>\n",
       "      <td>3</td>\n",
       "      <td>84</td>\n",
       "      <td>200</td>\n",
       "      <td>SHM</td>\n",
       "      <td>Tebet</td>\n",
       "      <td>2100000000</td>\n",
       "    </tr>\n",
       "    <tr>\n",
       "      <th>23</th>\n",
       "      <td>4</td>\n",
       "      <td>3</td>\n",
       "      <td>2</td>\n",
       "      <td>160</td>\n",
       "      <td>190</td>\n",
       "      <td>SHM</td>\n",
       "      <td>Cilandak</td>\n",
       "      <td>3600000000</td>\n",
       "    </tr>\n",
       "    <tr>\n",
       "      <th>24</th>\n",
       "      <td>3</td>\n",
       "      <td>3</td>\n",
       "      <td>1</td>\n",
       "      <td>303</td>\n",
       "      <td>250</td>\n",
       "      <td>SHM</td>\n",
       "      <td>Kebayoran Lama</td>\n",
       "      <td>10500000000</td>\n",
       "    </tr>\n",
       "  </tbody>\n",
       "</table>\n",
       "</div>"
      ],
      "text/plain": [
       "    n_bedroom  n_bathroom  n_lantai  luas_tanah  luas_bangunan sertifikasi  \\\n",
       "0           5           5         2         133            200         SHM   \n",
       "8           6           1         1         148            148         SHM   \n",
       "13          5           4         3          84            200         SHM   \n",
       "23          4           3         2         160            190         SHM   \n",
       "24          3           3         1         303            250         SHM   \n",
       "\n",
       "          location        price  \n",
       "0        Jagakarsa   2460000000  \n",
       "8       Setia Budi   1100000000  \n",
       "13           Tebet   2100000000  \n",
       "23        Cilandak   3600000000  \n",
       "24  Kebayoran Lama  10500000000  "
      ]
     },
     "execution_count": 447,
     "metadata": {},
     "output_type": "execute_result"
    }
   ],
   "source": [
    "df.head()"
   ]
  },
  {
   "cell_type": "code",
   "execution_count": 448,
   "metadata": {},
   "outputs": [
    {
     "name": "stdout",
     "output_type": "stream",
     "text": [
      "<class 'pandas.core.frame.DataFrame'>\n",
      "Int64Index: 390 entries, 0 to 519\n",
      "Data columns (total 8 columns):\n",
      " #   Column         Non-Null Count  Dtype \n",
      "---  ------         --------------  ----- \n",
      " 0   n_bedroom      390 non-null    int64 \n",
      " 1   n_bathroom     390 non-null    int64 \n",
      " 2   n_lantai       390 non-null    int64 \n",
      " 3   luas_tanah     390 non-null    int64 \n",
      " 4   luas_bangunan  390 non-null    int64 \n",
      " 5   sertifikasi    390 non-null    object\n",
      " 6   location       390 non-null    object\n",
      " 7   price          390 non-null    object\n",
      "dtypes: int64(5), object(3)\n",
      "memory usage: 27.4+ KB\n"
     ]
    }
   ],
   "source": [
    "df.info()"
   ]
  },
  {
   "cell_type": "code",
   "execution_count": 449,
   "metadata": {},
   "outputs": [],
   "source": [
    "df['price'] = df['price'].astype(str).astype(int)\n"
   ]
  },
  {
   "cell_type": "code",
   "execution_count": 450,
   "metadata": {},
   "outputs": [
    {
     "data": {
      "text/html": [
       "<div>\n",
       "<style scoped>\n",
       "    .dataframe tbody tr th:only-of-type {\n",
       "        vertical-align: middle;\n",
       "    }\n",
       "\n",
       "    .dataframe tbody tr th {\n",
       "        vertical-align: top;\n",
       "    }\n",
       "\n",
       "    .dataframe thead th {\n",
       "        text-align: right;\n",
       "    }\n",
       "</style>\n",
       "<table border=\"1\" class=\"dataframe\">\n",
       "  <thead>\n",
       "    <tr style=\"text-align: right;\">\n",
       "      <th></th>\n",
       "      <th>n_bedroom</th>\n",
       "      <th>n_bathroom</th>\n",
       "      <th>n_lantai</th>\n",
       "      <th>luas_tanah</th>\n",
       "      <th>luas_bangunan</th>\n",
       "      <th>sertifikasi</th>\n",
       "      <th>location</th>\n",
       "      <th>price</th>\n",
       "    </tr>\n",
       "  </thead>\n",
       "  <tbody>\n",
       "    <tr>\n",
       "      <th>0</th>\n",
       "      <td>5</td>\n",
       "      <td>5</td>\n",
       "      <td>2</td>\n",
       "      <td>133</td>\n",
       "      <td>200</td>\n",
       "      <td>SHM</td>\n",
       "      <td>Jagakarsa</td>\n",
       "      <td>2460000000</td>\n",
       "    </tr>\n",
       "    <tr>\n",
       "      <th>8</th>\n",
       "      <td>6</td>\n",
       "      <td>1</td>\n",
       "      <td>1</td>\n",
       "      <td>148</td>\n",
       "      <td>148</td>\n",
       "      <td>SHM</td>\n",
       "      <td>Setia Budi</td>\n",
       "      <td>1100000000</td>\n",
       "    </tr>\n",
       "    <tr>\n",
       "      <th>13</th>\n",
       "      <td>5</td>\n",
       "      <td>4</td>\n",
       "      <td>3</td>\n",
       "      <td>84</td>\n",
       "      <td>200</td>\n",
       "      <td>SHM</td>\n",
       "      <td>Tebet</td>\n",
       "      <td>2100000000</td>\n",
       "    </tr>\n",
       "    <tr>\n",
       "      <th>23</th>\n",
       "      <td>4</td>\n",
       "      <td>3</td>\n",
       "      <td>2</td>\n",
       "      <td>160</td>\n",
       "      <td>190</td>\n",
       "      <td>SHM</td>\n",
       "      <td>Cilandak</td>\n",
       "      <td>3600000000</td>\n",
       "    </tr>\n",
       "    <tr>\n",
       "      <th>24</th>\n",
       "      <td>3</td>\n",
       "      <td>3</td>\n",
       "      <td>1</td>\n",
       "      <td>303</td>\n",
       "      <td>250</td>\n",
       "      <td>SHM</td>\n",
       "      <td>Kebayoran Lama</td>\n",
       "      <td>10500000000</td>\n",
       "    </tr>\n",
       "  </tbody>\n",
       "</table>\n",
       "</div>"
      ],
      "text/plain": [
       "    n_bedroom  n_bathroom  n_lantai  luas_tanah  luas_bangunan sertifikasi  \\\n",
       "0           5           5         2         133            200         SHM   \n",
       "8           6           1         1         148            148         SHM   \n",
       "13          5           4         3          84            200         SHM   \n",
       "23          4           3         2         160            190         SHM   \n",
       "24          3           3         1         303            250         SHM   \n",
       "\n",
       "          location        price  \n",
       "0        Jagakarsa   2460000000  \n",
       "8       Setia Budi   1100000000  \n",
       "13           Tebet   2100000000  \n",
       "23        Cilandak   3600000000  \n",
       "24  Kebayoran Lama  10500000000  "
      ]
     },
     "execution_count": 450,
     "metadata": {},
     "output_type": "execute_result"
    }
   ],
   "source": [
    "df.head()"
   ]
  },
  {
   "cell_type": "code",
   "execution_count": 451,
   "metadata": {},
   "outputs": [
    {
     "name": "stdout",
     "output_type": "stream",
     "text": [
      "<class 'pandas.core.frame.DataFrame'>\n",
      "Int64Index: 390 entries, 0 to 519\n",
      "Data columns (total 8 columns):\n",
      " #   Column         Non-Null Count  Dtype \n",
      "---  ------         --------------  ----- \n",
      " 0   n_bedroom      390 non-null    int64 \n",
      " 1   n_bathroom     390 non-null    int64 \n",
      " 2   n_lantai       390 non-null    int64 \n",
      " 3   luas_tanah     390 non-null    int64 \n",
      " 4   luas_bangunan  390 non-null    int64 \n",
      " 5   sertifikasi    390 non-null    object\n",
      " 6   location       390 non-null    object\n",
      " 7   price          390 non-null    int64 \n",
      "dtypes: int64(6), object(2)\n",
      "memory usage: 27.4+ KB\n"
     ]
    }
   ],
   "source": [
    "df.info()"
   ]
  },
  {
   "cell_type": "code",
   "execution_count": 452,
   "metadata": {},
   "outputs": [
    {
     "data": {
      "text/html": [
       "<div>\n",
       "<style scoped>\n",
       "    .dataframe tbody tr th:only-of-type {\n",
       "        vertical-align: middle;\n",
       "    }\n",
       "\n",
       "    .dataframe tbody tr th {\n",
       "        vertical-align: top;\n",
       "    }\n",
       "\n",
       "    .dataframe thead th {\n",
       "        text-align: right;\n",
       "    }\n",
       "</style>\n",
       "<table border=\"1\" class=\"dataframe\">\n",
       "  <thead>\n",
       "    <tr style=\"text-align: right;\">\n",
       "      <th></th>\n",
       "      <th>n_bedroom</th>\n",
       "      <th>n_bathroom</th>\n",
       "      <th>n_lantai</th>\n",
       "      <th>luas_tanah</th>\n",
       "      <th>luas_bangunan</th>\n",
       "      <th>sertifikasi</th>\n",
       "      <th>location</th>\n",
       "      <th>price</th>\n",
       "    </tr>\n",
       "  </thead>\n",
       "  <tbody>\n",
       "    <tr>\n",
       "      <th>0</th>\n",
       "      <td>5</td>\n",
       "      <td>5</td>\n",
       "      <td>2</td>\n",
       "      <td>133</td>\n",
       "      <td>200</td>\n",
       "      <td>SHM</td>\n",
       "      <td>Jagakarsa</td>\n",
       "      <td>2460000000</td>\n",
       "    </tr>\n",
       "    <tr>\n",
       "      <th>1</th>\n",
       "      <td>6</td>\n",
       "      <td>1</td>\n",
       "      <td>1</td>\n",
       "      <td>148</td>\n",
       "      <td>148</td>\n",
       "      <td>SHM</td>\n",
       "      <td>Setia Budi</td>\n",
       "      <td>1100000000</td>\n",
       "    </tr>\n",
       "    <tr>\n",
       "      <th>2</th>\n",
       "      <td>5</td>\n",
       "      <td>4</td>\n",
       "      <td>3</td>\n",
       "      <td>84</td>\n",
       "      <td>200</td>\n",
       "      <td>SHM</td>\n",
       "      <td>Tebet</td>\n",
       "      <td>2100000000</td>\n",
       "    </tr>\n",
       "    <tr>\n",
       "      <th>3</th>\n",
       "      <td>4</td>\n",
       "      <td>3</td>\n",
       "      <td>2</td>\n",
       "      <td>160</td>\n",
       "      <td>190</td>\n",
       "      <td>SHM</td>\n",
       "      <td>Cilandak</td>\n",
       "      <td>3600000000</td>\n",
       "    </tr>\n",
       "    <tr>\n",
       "      <th>4</th>\n",
       "      <td>3</td>\n",
       "      <td>3</td>\n",
       "      <td>1</td>\n",
       "      <td>303</td>\n",
       "      <td>250</td>\n",
       "      <td>SHM</td>\n",
       "      <td>Kebayoran Lama</td>\n",
       "      <td>10500000000</td>\n",
       "    </tr>\n",
       "  </tbody>\n",
       "</table>\n",
       "</div>"
      ],
      "text/plain": [
       "   n_bedroom  n_bathroom  n_lantai  luas_tanah  luas_bangunan sertifikasi  \\\n",
       "0          5           5         2         133            200         SHM   \n",
       "1          6           1         1         148            148         SHM   \n",
       "2          5           4         3          84            200         SHM   \n",
       "3          4           3         2         160            190         SHM   \n",
       "4          3           3         1         303            250         SHM   \n",
       "\n",
       "         location        price  \n",
       "0       Jagakarsa   2460000000  \n",
       "1      Setia Budi   1100000000  \n",
       "2           Tebet   2100000000  \n",
       "3        Cilandak   3600000000  \n",
       "4  Kebayoran Lama  10500000000  "
      ]
     },
     "execution_count": 452,
     "metadata": {},
     "output_type": "execute_result"
    }
   ],
   "source": [
    "df.reset_index(inplace=True, drop=True)\n",
    "df.head()"
   ]
  },
  {
   "cell_type": "code",
   "execution_count": 453,
   "metadata": {},
   "outputs": [
    {
     "data": {
      "text/plain": [
       "n_bedroom         int64\n",
       "n_bathroom        int64\n",
       "n_lantai          int64\n",
       "luas_tanah        int64\n",
       "luas_bangunan     int64\n",
       "sertifikasi      object\n",
       "location         object\n",
       "price             int64\n",
       "dtype: object"
      ]
     },
     "execution_count": 453,
     "metadata": {},
     "output_type": "execute_result"
    }
   ],
   "source": [
    "df.dtypes"
   ]
  },
  {
   "cell_type": "markdown",
   "metadata": {},
   "source": [
    "## Write Output CSV"
   ]
  },
  {
   "cell_type": "code",
   "execution_count": 454,
   "metadata": {},
   "outputs": [],
   "source": [
    "#write to csv \n",
    "df.to_csv('../data/processed/olx_house_processed.csv', index=False)"
   ]
  },
  {
   "cell_type": "markdown",
   "metadata": {},
   "source": [
    "# MISC: Output 2nd CSV with Column Name in English"
   ]
  },
  {
   "cell_type": "code",
   "execution_count": 455,
   "metadata": {},
   "outputs": [
    {
     "data": {
      "text/html": [
       "<div>\n",
       "<style scoped>\n",
       "    .dataframe tbody tr th:only-of-type {\n",
       "        vertical-align: middle;\n",
       "    }\n",
       "\n",
       "    .dataframe tbody tr th {\n",
       "        vertical-align: top;\n",
       "    }\n",
       "\n",
       "    .dataframe thead th {\n",
       "        text-align: right;\n",
       "    }\n",
       "</style>\n",
       "<table border=\"1\" class=\"dataframe\">\n",
       "  <thead>\n",
       "    <tr style=\"text-align: right;\">\n",
       "      <th></th>\n",
       "      <th>NBED</th>\n",
       "      <th>NBATH</th>\n",
       "      <th>NFLOOR</th>\n",
       "      <th>BLDAR</th>\n",
       "      <th>LNDAR</th>\n",
       "      <th>CERT</th>\n",
       "      <th>LOC</th>\n",
       "      <th>Price</th>\n",
       "    </tr>\n",
       "  </thead>\n",
       "  <tbody>\n",
       "    <tr>\n",
       "      <th>0</th>\n",
       "      <td>5</td>\n",
       "      <td>5</td>\n",
       "      <td>2</td>\n",
       "      <td>133</td>\n",
       "      <td>200</td>\n",
       "      <td>SHM</td>\n",
       "      <td>Jagakarsa</td>\n",
       "      <td>2460000000</td>\n",
       "    </tr>\n",
       "    <tr>\n",
       "      <th>1</th>\n",
       "      <td>6</td>\n",
       "      <td>1</td>\n",
       "      <td>1</td>\n",
       "      <td>148</td>\n",
       "      <td>148</td>\n",
       "      <td>SHM</td>\n",
       "      <td>Setia Budi</td>\n",
       "      <td>1100000000</td>\n",
       "    </tr>\n",
       "    <tr>\n",
       "      <th>2</th>\n",
       "      <td>5</td>\n",
       "      <td>4</td>\n",
       "      <td>3</td>\n",
       "      <td>84</td>\n",
       "      <td>200</td>\n",
       "      <td>SHM</td>\n",
       "      <td>Tebet</td>\n",
       "      <td>2100000000</td>\n",
       "    </tr>\n",
       "    <tr>\n",
       "      <th>3</th>\n",
       "      <td>4</td>\n",
       "      <td>3</td>\n",
       "      <td>2</td>\n",
       "      <td>160</td>\n",
       "      <td>190</td>\n",
       "      <td>SHM</td>\n",
       "      <td>Cilandak</td>\n",
       "      <td>3600000000</td>\n",
       "    </tr>\n",
       "    <tr>\n",
       "      <th>4</th>\n",
       "      <td>3</td>\n",
       "      <td>3</td>\n",
       "      <td>1</td>\n",
       "      <td>303</td>\n",
       "      <td>250</td>\n",
       "      <td>SHM</td>\n",
       "      <td>Kebayoran Lama</td>\n",
       "      <td>10500000000</td>\n",
       "    </tr>\n",
       "  </tbody>\n",
       "</table>\n",
       "</div>"
      ],
      "text/plain": [
       "   NBED  NBATH  NFLOOR  BLDAR  LNDAR CERT             LOC        Price\n",
       "0     5      5       2    133    200  SHM       Jagakarsa   2460000000\n",
       "1     6      1       1    148    148  SHM      Setia Budi   1100000000\n",
       "2     5      4       3     84    200  SHM           Tebet   2100000000\n",
       "3     4      3       2    160    190  SHM        Cilandak   3600000000\n",
       "4     3      3       1    303    250  SHM  Kebayoran Lama  10500000000"
      ]
     },
     "execution_count": 455,
     "metadata": {},
     "output_type": "execute_result"
    }
   ],
   "source": [
    "df_alt = df\n",
    "df_alt.columns = [\"NBED\",\"NBATH\",\"NFLOOR\",\"BLDAR\", \"LNDAR\", \"CERT\", \"LOC\", \"Price\"]\n",
    "df_alt.head()"
   ]
  },
  {
   "cell_type": "code",
   "execution_count": 456,
   "metadata": {},
   "outputs": [],
   "source": [
    "#write to csv \n",
    "df_alt.to_csv('../data/processed/olx_house_processed_ENG.csv', index=False)"
   ]
  },
  {
   "cell_type": "markdown",
   "metadata": {},
   "source": [
    "# FIN"
   ]
  }
 ],
 "metadata": {
  "kernelspec": {
   "display_name": "Python 3.10.5 64-bit",
   "language": "python",
   "name": "python3"
  },
  "language_info": {
   "codemirror_mode": {
    "name": "ipython",
    "version": 3
   },
   "file_extension": ".py",
   "mimetype": "text/x-python",
   "name": "python",
   "nbconvert_exporter": "python",
   "pygments_lexer": "ipython3",
   "version": "3.10.5"
  },
  "orig_nbformat": 4,
  "vscode": {
   "interpreter": {
    "hash": "aee8b7b246df8f9039afb4144a1f6fd8d2ca17a180786b69acc140d282b71a49"
   }
  }
 },
 "nbformat": 4,
 "nbformat_minor": 2
}
