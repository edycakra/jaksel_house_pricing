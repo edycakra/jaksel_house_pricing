{
 "cells": [
  {
   "cell_type": "markdown",
   "metadata": {},
   "source": [
    "## Linear Regression Machine Learning Implementation, Case: South Jakarta House Price\n",
    "## Part 3: Linear Regression Implementation\n",
    "### Author: Edycakra Immanuel Sinaga"
   ]
  },
  {
   "cell_type": "code",
   "execution_count": 380,
   "metadata": {},
   "outputs": [],
   "source": [
    "#import dependencies\n",
    "import pandas as pd\n",
    "import numpy as np\n",
    "import matplotlib.pyplot as plt\n",
    "import seaborn as sns\n",
    "from sklearn.compose import ColumnTransformer\n",
    "from sklearn.preprocessing import OneHotEncoder\n",
    "from sklearn import linear_model\n",
    "%matplotlib inline"
   ]
  },
  {
   "cell_type": "markdown",
   "metadata": {},
   "source": [
    "Load Dataset"
   ]
  },
  {
   "cell_type": "code",
   "execution_count": 381,
   "metadata": {},
   "outputs": [],
   "source": [
    "df = pd.read_csv('../data/final/olx_house_final_improve_ENG.csv', encoding='latin-1')"
   ]
  },
  {
   "cell_type": "code",
   "execution_count": 382,
   "metadata": {},
   "outputs": [
    {
     "data": {
      "text/html": [
       "<div>\n",
       "<style scoped>\n",
       "    .dataframe tbody tr th:only-of-type {\n",
       "        vertical-align: middle;\n",
       "    }\n",
       "\n",
       "    .dataframe tbody tr th {\n",
       "        vertical-align: top;\n",
       "    }\n",
       "\n",
       "    .dataframe thead th {\n",
       "        text-align: right;\n",
       "    }\n",
       "</style>\n",
       "<table border=\"1\" class=\"dataframe\">\n",
       "  <thead>\n",
       "    <tr style=\"text-align: right;\">\n",
       "      <th></th>\n",
       "      <th>NBED</th>\n",
       "      <th>NBATH</th>\n",
       "      <th>NFLOOR</th>\n",
       "      <th>BLDAR</th>\n",
       "      <th>LNDAR</th>\n",
       "      <th>CERT</th>\n",
       "      <th>LOC</th>\n",
       "      <th>Price</th>\n",
       "    </tr>\n",
       "  </thead>\n",
       "  <tbody>\n",
       "    <tr>\n",
       "      <th>0</th>\n",
       "      <td>6</td>\n",
       "      <td>1</td>\n",
       "      <td>1</td>\n",
       "      <td>148</td>\n",
       "      <td>148</td>\n",
       "      <td>SHM</td>\n",
       "      <td>Setia Budi</td>\n",
       "      <td>1100000000</td>\n",
       "    </tr>\n",
       "    <tr>\n",
       "      <th>1</th>\n",
       "      <td>5</td>\n",
       "      <td>4</td>\n",
       "      <td>3</td>\n",
       "      <td>84</td>\n",
       "      <td>200</td>\n",
       "      <td>SHM</td>\n",
       "      <td>Tebet</td>\n",
       "      <td>2100000000</td>\n",
       "    </tr>\n",
       "    <tr>\n",
       "      <th>2</th>\n",
       "      <td>3</td>\n",
       "      <td>3</td>\n",
       "      <td>2</td>\n",
       "      <td>134</td>\n",
       "      <td>130</td>\n",
       "      <td>SHM</td>\n",
       "      <td>Pasar Minggu</td>\n",
       "      <td>2800000000</td>\n",
       "    </tr>\n",
       "    <tr>\n",
       "      <th>3</th>\n",
       "      <td>3</td>\n",
       "      <td>2</td>\n",
       "      <td>1</td>\n",
       "      <td>132</td>\n",
       "      <td>100</td>\n",
       "      <td>SHM</td>\n",
       "      <td>Pesanggrahan</td>\n",
       "      <td>1480000000</td>\n",
       "    </tr>\n",
       "    <tr>\n",
       "      <th>4</th>\n",
       "      <td>3</td>\n",
       "      <td>4</td>\n",
       "      <td>2</td>\n",
       "      <td>92</td>\n",
       "      <td>147</td>\n",
       "      <td>SHM</td>\n",
       "      <td>Pesanggrahan</td>\n",
       "      <td>2300000000</td>\n",
       "    </tr>\n",
       "  </tbody>\n",
       "</table>\n",
       "</div>"
      ],
      "text/plain": [
       "   NBED  NBATH  NFLOOR  BLDAR  LNDAR CERT           LOC       Price\n",
       "0     6      1       1    148    148  SHM    Setia Budi  1100000000\n",
       "1     5      4       3     84    200  SHM         Tebet  2100000000\n",
       "2     3      3       2    134    130  SHM  Pasar Minggu  2800000000\n",
       "3     3      2       1    132    100  SHM  Pesanggrahan  1480000000\n",
       "4     3      4       2     92    147  SHM  Pesanggrahan  2300000000"
      ]
     },
     "execution_count": 382,
     "metadata": {},
     "output_type": "execute_result"
    }
   ],
   "source": [
    "df.head()"
   ]
  },
  {
   "cell_type": "code",
   "execution_count": 383,
   "metadata": {},
   "outputs": [
    {
     "name": "stdout",
     "output_type": "stream",
     "text": [
      "<class 'pandas.core.frame.DataFrame'>\n",
      "RangeIndex: 238 entries, 0 to 237\n",
      "Data columns (total 8 columns):\n",
      " #   Column  Non-Null Count  Dtype \n",
      "---  ------  --------------  ----- \n",
      " 0   NBED    238 non-null    int64 \n",
      " 1   NBATH   238 non-null    int64 \n",
      " 2   NFLOOR  238 non-null    int64 \n",
      " 3   BLDAR   238 non-null    int64 \n",
      " 4   LNDAR   238 non-null    int64 \n",
      " 5   CERT    238 non-null    object\n",
      " 6   LOC     238 non-null    object\n",
      " 7   Price   238 non-null    int64 \n",
      "dtypes: int64(6), object(2)\n",
      "memory usage: 15.0+ KB\n"
     ]
    }
   ],
   "source": [
    "df.info()"
   ]
  },
  {
   "cell_type": "code",
   "execution_count": 384,
   "metadata": {},
   "outputs": [
    {
     "data": {
      "text/html": [
       "<div>\n",
       "<style scoped>\n",
       "    .dataframe tbody tr th:only-of-type {\n",
       "        vertical-align: middle;\n",
       "    }\n",
       "\n",
       "    .dataframe tbody tr th {\n",
       "        vertical-align: top;\n",
       "    }\n",
       "\n",
       "    .dataframe thead th {\n",
       "        text-align: right;\n",
       "    }\n",
       "</style>\n",
       "<table border=\"1\" class=\"dataframe\">\n",
       "  <thead>\n",
       "    <tr style=\"text-align: right;\">\n",
       "      <th></th>\n",
       "      <th>NBED</th>\n",
       "      <th>NBATH</th>\n",
       "      <th>NFLOOR</th>\n",
       "      <th>BLDAR</th>\n",
       "      <th>LNDAR</th>\n",
       "      <th>Price</th>\n",
       "    </tr>\n",
       "  </thead>\n",
       "  <tbody>\n",
       "    <tr>\n",
       "      <th>count</th>\n",
       "      <td>238.000000</td>\n",
       "      <td>238.000000</td>\n",
       "      <td>238.000000</td>\n",
       "      <td>238.000000</td>\n",
       "      <td>238.000000</td>\n",
       "      <td>2.380000e+02</td>\n",
       "    </tr>\n",
       "    <tr>\n",
       "      <th>mean</th>\n",
       "      <td>2.991597</td>\n",
       "      <td>2.268908</td>\n",
       "      <td>1.773109</td>\n",
       "      <td>81.201681</td>\n",
       "      <td>88.819328</td>\n",
       "      <td>1.150313e+09</td>\n",
       "    </tr>\n",
       "    <tr>\n",
       "      <th>std</th>\n",
       "      <td>0.811269</td>\n",
       "      <td>0.973900</td>\n",
       "      <td>0.587306</td>\n",
       "      <td>29.656850</td>\n",
       "      <td>41.143119</td>\n",
       "      <td>6.652019e+08</td>\n",
       "    </tr>\n",
       "    <tr>\n",
       "      <th>min</th>\n",
       "      <td>2.000000</td>\n",
       "      <td>1.000000</td>\n",
       "      <td>1.000000</td>\n",
       "      <td>15.000000</td>\n",
       "      <td>26.000000</td>\n",
       "      <td>5.000000e+06</td>\n",
       "    </tr>\n",
       "    <tr>\n",
       "      <th>25%</th>\n",
       "      <td>2.000000</td>\n",
       "      <td>2.000000</td>\n",
       "      <td>1.000000</td>\n",
       "      <td>60.000000</td>\n",
       "      <td>55.250000</td>\n",
       "      <td>6.250000e+08</td>\n",
       "    </tr>\n",
       "    <tr>\n",
       "      <th>50%</th>\n",
       "      <td>3.000000</td>\n",
       "      <td>2.000000</td>\n",
       "      <td>2.000000</td>\n",
       "      <td>72.000000</td>\n",
       "      <td>82.000000</td>\n",
       "      <td>1.100000e+09</td>\n",
       "    </tr>\n",
       "    <tr>\n",
       "      <th>75%</th>\n",
       "      <td>3.000000</td>\n",
       "      <td>3.000000</td>\n",
       "      <td>2.000000</td>\n",
       "      <td>94.000000</td>\n",
       "      <td>120.000000</td>\n",
       "      <td>1.600000e+09</td>\n",
       "    </tr>\n",
       "    <tr>\n",
       "      <th>max</th>\n",
       "      <td>6.000000</td>\n",
       "      <td>4.000000</td>\n",
       "      <td>3.000000</td>\n",
       "      <td>200.000000</td>\n",
       "      <td>200.000000</td>\n",
       "      <td>2.900000e+09</td>\n",
       "    </tr>\n",
       "  </tbody>\n",
       "</table>\n",
       "</div>"
      ],
      "text/plain": [
       "             NBED       NBATH      NFLOOR       BLDAR       LNDAR  \\\n",
       "count  238.000000  238.000000  238.000000  238.000000  238.000000   \n",
       "mean     2.991597    2.268908    1.773109   81.201681   88.819328   \n",
       "std      0.811269    0.973900    0.587306   29.656850   41.143119   \n",
       "min      2.000000    1.000000    1.000000   15.000000   26.000000   \n",
       "25%      2.000000    2.000000    1.000000   60.000000   55.250000   \n",
       "50%      3.000000    2.000000    2.000000   72.000000   82.000000   \n",
       "75%      3.000000    3.000000    2.000000   94.000000  120.000000   \n",
       "max      6.000000    4.000000    3.000000  200.000000  200.000000   \n",
       "\n",
       "              Price  \n",
       "count  2.380000e+02  \n",
       "mean   1.150313e+09  \n",
       "std    6.652019e+08  \n",
       "min    5.000000e+06  \n",
       "25%    6.250000e+08  \n",
       "50%    1.100000e+09  \n",
       "75%    1.600000e+09  \n",
       "max    2.900000e+09  "
      ]
     },
     "execution_count": 384,
     "metadata": {},
     "output_type": "execute_result"
    }
   ],
   "source": [
    "df.describe()"
   ]
  },
  {
   "cell_type": "markdown",
   "metadata": {},
   "source": [
    "Splitting Data: Separate Features and Target"
   ]
  },
  {
   "cell_type": "code",
   "execution_count": 385,
   "metadata": {},
   "outputs": [],
   "source": [
    "# X = df.drop(columns=[\"Price\"])\n",
    "# y = np.log(df[\"Price\"])\n",
    "X=df.iloc[:,:-1]\n",
    "y=df.iloc[:,-1]\n"
   ]
  },
  {
   "cell_type": "code",
   "execution_count": 386,
   "metadata": {},
   "outputs": [
    {
     "name": "stdout",
     "output_type": "stream",
     "text": [
      "<class 'pandas.core.frame.DataFrame'>\n",
      "RangeIndex: 238 entries, 0 to 237\n",
      "Data columns (total 7 columns):\n",
      " #   Column  Non-Null Count  Dtype \n",
      "---  ------  --------------  ----- \n",
      " 0   NBED    238 non-null    int64 \n",
      " 1   NBATH   238 non-null    int64 \n",
      " 2   NFLOOR  238 non-null    int64 \n",
      " 3   BLDAR   238 non-null    int64 \n",
      " 4   LNDAR   238 non-null    int64 \n",
      " 5   CERT    238 non-null    object\n",
      " 6   LOC     238 non-null    object\n",
      "dtypes: int64(5), object(2)\n",
      "memory usage: 13.1+ KB\n"
     ]
    }
   ],
   "source": [
    "X.info()"
   ]
  },
  {
   "cell_type": "code",
   "execution_count": 387,
   "metadata": {},
   "outputs": [
    {
     "data": {
      "text/html": [
       "<div>\n",
       "<style scoped>\n",
       "    .dataframe tbody tr th:only-of-type {\n",
       "        vertical-align: middle;\n",
       "    }\n",
       "\n",
       "    .dataframe tbody tr th {\n",
       "        vertical-align: top;\n",
       "    }\n",
       "\n",
       "    .dataframe thead th {\n",
       "        text-align: right;\n",
       "    }\n",
       "</style>\n",
       "<table border=\"1\" class=\"dataframe\">\n",
       "  <thead>\n",
       "    <tr style=\"text-align: right;\">\n",
       "      <th></th>\n",
       "      <th>NBED</th>\n",
       "      <th>NBATH</th>\n",
       "      <th>NFLOOR</th>\n",
       "      <th>BLDAR</th>\n",
       "      <th>LNDAR</th>\n",
       "      <th>CERT</th>\n",
       "      <th>LOC</th>\n",
       "    </tr>\n",
       "  </thead>\n",
       "  <tbody>\n",
       "    <tr>\n",
       "      <th>0</th>\n",
       "      <td>6</td>\n",
       "      <td>1</td>\n",
       "      <td>1</td>\n",
       "      <td>148</td>\n",
       "      <td>148</td>\n",
       "      <td>SHM</td>\n",
       "      <td>Setia Budi</td>\n",
       "    </tr>\n",
       "    <tr>\n",
       "      <th>1</th>\n",
       "      <td>5</td>\n",
       "      <td>4</td>\n",
       "      <td>3</td>\n",
       "      <td>84</td>\n",
       "      <td>200</td>\n",
       "      <td>SHM</td>\n",
       "      <td>Tebet</td>\n",
       "    </tr>\n",
       "    <tr>\n",
       "      <th>2</th>\n",
       "      <td>3</td>\n",
       "      <td>3</td>\n",
       "      <td>2</td>\n",
       "      <td>134</td>\n",
       "      <td>130</td>\n",
       "      <td>SHM</td>\n",
       "      <td>Pasar Minggu</td>\n",
       "    </tr>\n",
       "    <tr>\n",
       "      <th>3</th>\n",
       "      <td>3</td>\n",
       "      <td>2</td>\n",
       "      <td>1</td>\n",
       "      <td>132</td>\n",
       "      <td>100</td>\n",
       "      <td>SHM</td>\n",
       "      <td>Pesanggrahan</td>\n",
       "    </tr>\n",
       "    <tr>\n",
       "      <th>4</th>\n",
       "      <td>3</td>\n",
       "      <td>4</td>\n",
       "      <td>2</td>\n",
       "      <td>92</td>\n",
       "      <td>147</td>\n",
       "      <td>SHM</td>\n",
       "      <td>Pesanggrahan</td>\n",
       "    </tr>\n",
       "  </tbody>\n",
       "</table>\n",
       "</div>"
      ],
      "text/plain": [
       "   NBED  NBATH  NFLOOR  BLDAR  LNDAR CERT           LOC\n",
       "0     6      1       1    148    148  SHM    Setia Budi\n",
       "1     5      4       3     84    200  SHM         Tebet\n",
       "2     3      3       2    134    130  SHM  Pasar Minggu\n",
       "3     3      2       1    132    100  SHM  Pesanggrahan\n",
       "4     3      4       2     92    147  SHM  Pesanggrahan"
      ]
     },
     "execution_count": 387,
     "metadata": {},
     "output_type": "execute_result"
    }
   ],
   "source": [
    "X.head()"
   ]
  },
  {
   "cell_type": "code",
   "execution_count": 388,
   "metadata": {},
   "outputs": [
    {
     "name": "stdout",
     "output_type": "stream",
     "text": [
      "<class 'pandas.core.series.Series'>\n",
      "RangeIndex: 238 entries, 0 to 237\n",
      "Series name: Price\n",
      "Non-Null Count  Dtype\n",
      "--------------  -----\n",
      "238 non-null    int64\n",
      "dtypes: int64(1)\n",
      "memory usage: 2.0 KB\n"
     ]
    }
   ],
   "source": [
    "y.info()"
   ]
  },
  {
   "cell_type": "code",
   "execution_count": 389,
   "metadata": {},
   "outputs": [
    {
     "data": {
      "text/plain": [
       "0    1100000000\n",
       "1    2100000000\n",
       "2    2800000000\n",
       "3    1480000000\n",
       "4    2300000000\n",
       "Name: Price, dtype: int64"
      ]
     },
     "execution_count": 389,
     "metadata": {},
     "output_type": "execute_result"
    }
   ],
   "source": [
    "y.head()"
   ]
  },
  {
   "cell_type": "markdown",
   "metadata": {},
   "source": [
    "One Hot Encode the Categorical Attributes before Separating Train and Test"
   ]
  },
  {
   "cell_type": "code",
   "execution_count": 390,
   "metadata": {},
   "outputs": [
    {
     "name": "stdout",
     "output_type": "stream",
     "text": [
      "<class 'pandas.core.frame.DataFrame'>\n",
      "RangeIndex: 238 entries, 0 to 237\n",
      "Data columns (total 17 columns):\n",
      " #   Column                              Non-Null Count  Dtype  \n",
      "---  ------                              --------------  -----  \n",
      " 0   onehotencoder__x0_HGB               238 non-null    float64\n",
      " 1   onehotencoder__x0_Lainnya           238 non-null    float64\n",
      " 2   onehotencoder__x0_SHM               238 non-null    float64\n",
      " 3   onehotencoder__x1_Cilandak          238 non-null    float64\n",
      " 4   onehotencoder__x1_Kebayoran Baru    238 non-null    float64\n",
      " 5   onehotencoder__x1_Kebayoran Lama    238 non-null    float64\n",
      " 6   onehotencoder__x1_Mampang Prapatan  238 non-null    float64\n",
      " 7   onehotencoder__x1_Pancoran          238 non-null    float64\n",
      " 8   onehotencoder__x1_Pasar Minggu      238 non-null    float64\n",
      " 9   onehotencoder__x1_Pesanggrahan      238 non-null    float64\n",
      " 10  onehotencoder__x1_Setia Budi        238 non-null    float64\n",
      " 11  onehotencoder__x1_Tebet             238 non-null    float64\n",
      " 12  NBED                                238 non-null    float64\n",
      " 13  NBATH                               238 non-null    float64\n",
      " 14  NFLOOR                              238 non-null    float64\n",
      " 15  BLDAR                               238 non-null    float64\n",
      " 16  LNDAR                               238 non-null    float64\n",
      "dtypes: float64(17)\n",
      "memory usage: 31.7 KB\n"
     ]
    },
    {
     "name": "stderr",
     "output_type": "stream",
     "text": [
      "/Library/Frameworks/Python.framework/Versions/3.10/lib/python3.10/site-packages/sklearn/utils/deprecation.py:87: FutureWarning: Function get_feature_names is deprecated; get_feature_names is deprecated in 1.0 and will be removed in 1.2. Please use get_feature_names_out instead.\n",
      "  warnings.warn(msg, category=FutureWarning)\n"
     ]
    }
   ],
   "source": [
    "from sklearn.compose import make_column_transformer\n",
    "\n",
    "transformer = make_column_transformer((OneHotEncoder(), [\"CERT\", \"LOC\"]), remainder='passthrough')\n",
    "\n",
    "transformed = transformer.fit_transform(X)\n",
    "X_transformed = pd.DataFrame(transformed, columns=transformer.get_feature_names())\n",
    "X_transformed.info()\n",
    "\n"
   ]
  },
  {
   "cell_type": "markdown",
   "metadata": {},
   "source": [
    "Splitting Data: Separate Train and Test"
   ]
  },
  {
   "cell_type": "code",
   "execution_count": 391,
   "metadata": {},
   "outputs": [],
   "source": [
    "from sklearn.model_selection import train_test_split\n",
    "X_train, X_test, y_train, y_test = train_test_split(X_transformed, y, test_size=0.15, random_state=2)\n"
   ]
  },
  {
   "cell_type": "code",
   "execution_count": 392,
   "metadata": {},
   "outputs": [
    {
     "name": "stdout",
     "output_type": "stream",
     "text": [
      "<class 'pandas.core.frame.DataFrame'>\n",
      "Int64Index: 202 entries, 25 to 168\n",
      "Data columns (total 17 columns):\n",
      " #   Column                              Non-Null Count  Dtype  \n",
      "---  ------                              --------------  -----  \n",
      " 0   onehotencoder__x0_HGB               202 non-null    float64\n",
      " 1   onehotencoder__x0_Lainnya           202 non-null    float64\n",
      " 2   onehotencoder__x0_SHM               202 non-null    float64\n",
      " 3   onehotencoder__x1_Cilandak          202 non-null    float64\n",
      " 4   onehotencoder__x1_Kebayoran Baru    202 non-null    float64\n",
      " 5   onehotencoder__x1_Kebayoran Lama    202 non-null    float64\n",
      " 6   onehotencoder__x1_Mampang Prapatan  202 non-null    float64\n",
      " 7   onehotencoder__x1_Pancoran          202 non-null    float64\n",
      " 8   onehotencoder__x1_Pasar Minggu      202 non-null    float64\n",
      " 9   onehotencoder__x1_Pesanggrahan      202 non-null    float64\n",
      " 10  onehotencoder__x1_Setia Budi        202 non-null    float64\n",
      " 11  onehotencoder__x1_Tebet             202 non-null    float64\n",
      " 12  NBED                                202 non-null    float64\n",
      " 13  NBATH                               202 non-null    float64\n",
      " 14  NFLOOR                              202 non-null    float64\n",
      " 15  BLDAR                               202 non-null    float64\n",
      " 16  LNDAR                               202 non-null    float64\n",
      "dtypes: float64(17)\n",
      "memory usage: 28.4 KB\n"
     ]
    }
   ],
   "source": [
    "X_train.info()"
   ]
  },
  {
   "cell_type": "code",
   "execution_count": 393,
   "metadata": {},
   "outputs": [
    {
     "name": "stdout",
     "output_type": "stream",
     "text": [
      "<class 'pandas.core.frame.DataFrame'>\n",
      "Int64Index: 36 entries, 20 to 90\n",
      "Data columns (total 17 columns):\n",
      " #   Column                              Non-Null Count  Dtype  \n",
      "---  ------                              --------------  -----  \n",
      " 0   onehotencoder__x0_HGB               36 non-null     float64\n",
      " 1   onehotencoder__x0_Lainnya           36 non-null     float64\n",
      " 2   onehotencoder__x0_SHM               36 non-null     float64\n",
      " 3   onehotencoder__x1_Cilandak          36 non-null     float64\n",
      " 4   onehotencoder__x1_Kebayoran Baru    36 non-null     float64\n",
      " 5   onehotencoder__x1_Kebayoran Lama    36 non-null     float64\n",
      " 6   onehotencoder__x1_Mampang Prapatan  36 non-null     float64\n",
      " 7   onehotencoder__x1_Pancoran          36 non-null     float64\n",
      " 8   onehotencoder__x1_Pasar Minggu      36 non-null     float64\n",
      " 9   onehotencoder__x1_Pesanggrahan      36 non-null     float64\n",
      " 10  onehotencoder__x1_Setia Budi        36 non-null     float64\n",
      " 11  onehotencoder__x1_Tebet             36 non-null     float64\n",
      " 12  NBED                                36 non-null     float64\n",
      " 13  NBATH                               36 non-null     float64\n",
      " 14  NFLOOR                              36 non-null     float64\n",
      " 15  BLDAR                               36 non-null     float64\n",
      " 16  LNDAR                               36 non-null     float64\n",
      "dtypes: float64(17)\n",
      "memory usage: 5.1 KB\n"
     ]
    }
   ],
   "source": [
    "X_test.info()"
   ]
  },
  {
   "cell_type": "markdown",
   "metadata": {},
   "source": [
    "Standardize the Dataset"
   ]
  },
  {
   "cell_type": "code",
   "execution_count": 394,
   "metadata": {},
   "outputs": [
    {
     "data": {
      "text/plain": [
       "array([[-0.01816981, -0.29977059,  0.36379791,  3.19791354,  0.57733642],\n",
       "       [-0.01816981, -0.29977059,  0.36379791,  1.4265527 , -0.14837582],\n",
       "       [-0.01816981, -0.29977059,  0.36379791, -0.34480814, -0.51123194],\n",
       "       ...,\n",
       "       [ 2.42869781,  1.75289581,  0.36379791,  0.45731752,  1.18209661],\n",
       "       [ 1.205264  ,  0.72656261,  0.36379791,  1.25944318,  2.0529513 ],\n",
       "       [-0.01816981, -0.29977059,  0.36379791, -1.28062142, -0.99504009]])"
      ]
     },
     "execution_count": 394,
     "metadata": {},
     "output_type": "execute_result"
    }
   ],
   "source": [
    "#separate numerical and categorical attributes (we will onehotencode the categorical attributes later)\n",
    "from sklearn.preprocessing import StandardScaler\n",
    "scaler=StandardScaler()\n",
    "\n",
    "#for training data\n",
    "X_train_num=X_train[[\"NBED\", \"NBATH\", \"NFLOOR\", \"BLDAR\", \"LNDAR\"]].copy()\n",
    "X_train_std = scaler.fit_transform(X_train_num)\n",
    "X_train_std\n"
   ]
  },
  {
   "cell_type": "code",
   "execution_count": 395,
   "metadata": {},
   "outputs": [
    {
     "data": {
      "text/plain": [
       "array([[ 1.51643978,  0.90901665,  0.5488213 ,  1.11945917,  1.06341374],\n",
       "       [-1.14657642, -1.20224782, -1.42693538, -1.30155235, -1.24442033],\n",
       "       [ 2.84794788, -0.14661559,  0.5488213 ,  3.35423904,  0.92765879],\n",
       "       [ 0.18493168,  0.90901665,  0.5488213 ,  0.33728622,  0.76475286],\n",
       "       [ 0.18493168,  0.90901665,  0.5488213 ,  0.78424219,  0.76475286],\n",
       "       [ 0.18493168,  0.90901665,  0.5488213 , -0.18416241,  0.22173308],\n",
       "       [-1.14657642, -1.20224782, -1.42693538, -0.55662573, -0.97291044],\n",
       "       [ 1.51643978,  1.96464888,  2.52457798, -0.10966975,  1.36207462],\n",
       "       [-1.14657642, -1.20224782, -1.42693538, -0.55662573, -1.29872231],\n",
       "       [ 0.18493168,  0.90901665,  0.5488213 ,  0.63525687,  0.11312912],\n",
       "       [ 0.18493168, -0.14661559,  0.5488213 , -0.18416241,  0.22173308],\n",
       "       [-1.14657642, -1.20224782, -1.42693538, -1.30155235, -1.24442033],\n",
       "       [ 0.18493168,  0.90901665,  0.5488213 ,  0.41177888,  1.85079242],\n",
       "       [ 0.18493168, -0.14661559,  0.5488213 ,  0.74699586,  0.79190385],\n",
       "       [ 0.18493168, -0.14661559,  0.5488213 , -0.55662573, -0.51134363],\n",
       "       [ 1.51643978,  0.90901665,  0.5488213 , -0.18416241,  2.01369835],\n",
       "       [ 0.18493168,  0.90901665,  0.5488213 ,  0.78424219,  1.49782956],\n",
       "       [-1.14657642, -1.20224782,  0.5488213 , -1.22705968, -0.64709857],\n",
       "       [ 1.51643978,  0.90901665,  0.5488213 , -0.03517709,  0.38463901],\n",
       "       [ 0.18493168, -0.14661559,  0.5488213 ,  0.70974953,  0.38463901],\n",
       "       [-1.14657642, -1.20224782, -1.42693538, -0.55662573, -1.0815144 ],\n",
       "       [ 0.18493168, -0.14661559,  0.5488213 , -0.55662573, -0.51134363],\n",
       "       [-1.14657642, -1.20224782, -1.42693538, -0.55662573, -1.3258733 ],\n",
       "       [ 0.18493168, -0.14661559,  0.5488213 ,  0.1883009 , -0.48419264],\n",
       "       [ 1.51643978,  1.96464888,  0.5488213 ,  2.57206608,  0.76475286],\n",
       "       [-1.14657642, -1.20224782, -1.42693538, -0.96633537, -0.72855154],\n",
       "       [ 0.18493168,  0.90901665,  0.5488213 , -0.14691608, -0.26698473],\n",
       "       [ 0.18493168,  0.90901665,  0.5488213 , -0.55662573,  0.38463901],\n",
       "       [ 0.18493168, -0.14661559,  0.5488213 ,  0.33728622, -0.78285352],\n",
       "       [ 0.18493168, -0.14661559,  0.5488213 , -0.55662573, -0.51134363],\n",
       "       [ 0.18493168,  0.90901665,  0.5488213 , -0.55662573,  0.08597813],\n",
       "       [-1.14657642, -1.20224782, -1.42693538, -0.55662573, -1.0815144 ],\n",
       "       [-1.14657642, -1.20224782, -1.42693538, -0.48213306, -0.8371555 ],\n",
       "       [ 0.18493168,  0.90901665,  0.5488213 ,  1.56641514,  2.01369835],\n",
       "       [-1.14657642, -1.20224782, -1.42693538, -1.30155235, -1.24442033],\n",
       "       [-1.14657642, -1.20224782, -1.42693538, -0.55662573, -0.8371555 ]])"
      ]
     },
     "execution_count": 395,
     "metadata": {},
     "output_type": "execute_result"
    }
   ],
   "source": [
    "#for test data\n",
    "X_test_num=X_test[[\"NBED\", \"NBATH\", \"NFLOOR\", \"BLDAR\", \"LNDAR\"]].copy()\n",
    "# X_test_num.drop(columns=['CERT', 'LOC'], inplace=True)\n",
    "X_test_std = scaler.fit_transform(X_test_num)\n",
    "X_test_std"
   ]
  },
  {
   "cell_type": "code",
   "execution_count": 396,
   "metadata": {},
   "outputs": [
    {
     "data": {
      "text/html": [
       "<div>\n",
       "<style scoped>\n",
       "    .dataframe tbody tr th:only-of-type {\n",
       "        vertical-align: middle;\n",
       "    }\n",
       "\n",
       "    .dataframe tbody tr th {\n",
       "        vertical-align: top;\n",
       "    }\n",
       "\n",
       "    .dataframe thead th {\n",
       "        text-align: right;\n",
       "    }\n",
       "</style>\n",
       "<table border=\"1\" class=\"dataframe\">\n",
       "  <thead>\n",
       "    <tr style=\"text-align: right;\">\n",
       "      <th></th>\n",
       "      <th>NBED</th>\n",
       "      <th>NBATH</th>\n",
       "      <th>NFLOOR</th>\n",
       "      <th>BLDAR</th>\n",
       "      <th>LNDAR</th>\n",
       "    </tr>\n",
       "  </thead>\n",
       "  <tbody>\n",
       "    <tr>\n",
       "      <th>25</th>\n",
       "      <td>-0.018170</td>\n",
       "      <td>-0.299771</td>\n",
       "      <td>0.363798</td>\n",
       "      <td>3.197914</td>\n",
       "      <td>0.577336</td>\n",
       "    </tr>\n",
       "    <tr>\n",
       "      <th>223</th>\n",
       "      <td>-0.018170</td>\n",
       "      <td>-0.299771</td>\n",
       "      <td>0.363798</td>\n",
       "      <td>1.426553</td>\n",
       "      <td>-0.148376</td>\n",
       "    </tr>\n",
       "    <tr>\n",
       "      <th>64</th>\n",
       "      <td>-0.018170</td>\n",
       "      <td>-0.299771</td>\n",
       "      <td>0.363798</td>\n",
       "      <td>-0.344808</td>\n",
       "      <td>-0.511232</td>\n",
       "    </tr>\n",
       "    <tr>\n",
       "      <th>141</th>\n",
       "      <td>-1.241604</td>\n",
       "      <td>-1.326104</td>\n",
       "      <td>-1.306365</td>\n",
       "      <td>-0.344808</td>\n",
       "      <td>-1.091802</td>\n",
       "    </tr>\n",
       "    <tr>\n",
       "      <th>153</th>\n",
       "      <td>1.205264</td>\n",
       "      <td>1.752896</td>\n",
       "      <td>0.363798</td>\n",
       "      <td>-0.077433</td>\n",
       "      <td>1.182097</td>\n",
       "    </tr>\n",
       "  </tbody>\n",
       "</table>\n",
       "</div>"
      ],
      "text/plain": [
       "         NBED     NBATH    NFLOOR     BLDAR     LNDAR\n",
       "25  -0.018170 -0.299771  0.363798  3.197914  0.577336\n",
       "223 -0.018170 -0.299771  0.363798  1.426553 -0.148376\n",
       "64  -0.018170 -0.299771  0.363798 -0.344808 -0.511232\n",
       "141 -1.241604 -1.326104 -1.306365 -0.344808 -1.091802\n",
       "153  1.205264  1.752896  0.363798 -0.077433  1.182097"
      ]
     },
     "execution_count": 396,
     "metadata": {},
     "output_type": "execute_result"
    }
   ],
   "source": [
    "scaled_X_train = pd.DataFrame(X_train_std, index=X_train_num.index, columns=X_train_num.columns)\n",
    "scaled_X_train.head()"
   ]
  },
  {
   "cell_type": "code",
   "execution_count": 397,
   "metadata": {},
   "outputs": [
    {
     "data": {
      "text/html": [
       "<div>\n",
       "<style scoped>\n",
       "    .dataframe tbody tr th:only-of-type {\n",
       "        vertical-align: middle;\n",
       "    }\n",
       "\n",
       "    .dataframe tbody tr th {\n",
       "        vertical-align: top;\n",
       "    }\n",
       "\n",
       "    .dataframe thead th {\n",
       "        text-align: right;\n",
       "    }\n",
       "</style>\n",
       "<table border=\"1\" class=\"dataframe\">\n",
       "  <thead>\n",
       "    <tr style=\"text-align: right;\">\n",
       "      <th></th>\n",
       "      <th>NBED</th>\n",
       "      <th>NBATH</th>\n",
       "      <th>NFLOOR</th>\n",
       "      <th>BLDAR</th>\n",
       "      <th>LNDAR</th>\n",
       "      <th>onehotencoder__x0_HGB</th>\n",
       "      <th>onehotencoder__x0_Lainnya</th>\n",
       "      <th>onehotencoder__x0_SHM</th>\n",
       "      <th>onehotencoder__x1_Cilandak</th>\n",
       "      <th>onehotencoder__x1_Kebayoran Baru</th>\n",
       "      <th>onehotencoder__x1_Kebayoran Lama</th>\n",
       "      <th>onehotencoder__x1_Mampang Prapatan</th>\n",
       "      <th>onehotencoder__x1_Pancoran</th>\n",
       "      <th>onehotencoder__x1_Pasar Minggu</th>\n",
       "      <th>onehotencoder__x1_Pesanggrahan</th>\n",
       "      <th>onehotencoder__x1_Setia Budi</th>\n",
       "      <th>onehotencoder__x1_Tebet</th>\n",
       "    </tr>\n",
       "  </thead>\n",
       "  <tbody>\n",
       "    <tr>\n",
       "      <th>25</th>\n",
       "      <td>-0.018170</td>\n",
       "      <td>-0.299771</td>\n",
       "      <td>0.363798</td>\n",
       "      <td>3.197914</td>\n",
       "      <td>0.577336</td>\n",
       "      <td>0.0</td>\n",
       "      <td>0.0</td>\n",
       "      <td>1.0</td>\n",
       "      <td>0.0</td>\n",
       "      <td>1.0</td>\n",
       "      <td>0.0</td>\n",
       "      <td>0.0</td>\n",
       "      <td>0.0</td>\n",
       "      <td>0.0</td>\n",
       "      <td>0.0</td>\n",
       "      <td>0.0</td>\n",
       "      <td>0.0</td>\n",
       "    </tr>\n",
       "    <tr>\n",
       "      <th>223</th>\n",
       "      <td>-0.018170</td>\n",
       "      <td>-0.299771</td>\n",
       "      <td>0.363798</td>\n",
       "      <td>1.426553</td>\n",
       "      <td>-0.148376</td>\n",
       "      <td>0.0</td>\n",
       "      <td>0.0</td>\n",
       "      <td>1.0</td>\n",
       "      <td>0.0</td>\n",
       "      <td>0.0</td>\n",
       "      <td>0.0</td>\n",
       "      <td>0.0</td>\n",
       "      <td>0.0</td>\n",
       "      <td>0.0</td>\n",
       "      <td>1.0</td>\n",
       "      <td>0.0</td>\n",
       "      <td>0.0</td>\n",
       "    </tr>\n",
       "    <tr>\n",
       "      <th>64</th>\n",
       "      <td>-0.018170</td>\n",
       "      <td>-0.299771</td>\n",
       "      <td>0.363798</td>\n",
       "      <td>-0.344808</td>\n",
       "      <td>-0.511232</td>\n",
       "      <td>0.0</td>\n",
       "      <td>0.0</td>\n",
       "      <td>1.0</td>\n",
       "      <td>0.0</td>\n",
       "      <td>0.0</td>\n",
       "      <td>0.0</td>\n",
       "      <td>0.0</td>\n",
       "      <td>0.0</td>\n",
       "      <td>0.0</td>\n",
       "      <td>1.0</td>\n",
       "      <td>0.0</td>\n",
       "      <td>0.0</td>\n",
       "    </tr>\n",
       "    <tr>\n",
       "      <th>141</th>\n",
       "      <td>-1.241604</td>\n",
       "      <td>-1.326104</td>\n",
       "      <td>-1.306365</td>\n",
       "      <td>-0.344808</td>\n",
       "      <td>-1.091802</td>\n",
       "      <td>0.0</td>\n",
       "      <td>0.0</td>\n",
       "      <td>1.0</td>\n",
       "      <td>0.0</td>\n",
       "      <td>0.0</td>\n",
       "      <td>0.0</td>\n",
       "      <td>0.0</td>\n",
       "      <td>0.0</td>\n",
       "      <td>0.0</td>\n",
       "      <td>1.0</td>\n",
       "      <td>0.0</td>\n",
       "      <td>0.0</td>\n",
       "    </tr>\n",
       "    <tr>\n",
       "      <th>153</th>\n",
       "      <td>1.205264</td>\n",
       "      <td>1.752896</td>\n",
       "      <td>0.363798</td>\n",
       "      <td>-0.077433</td>\n",
       "      <td>1.182097</td>\n",
       "      <td>0.0</td>\n",
       "      <td>0.0</td>\n",
       "      <td>1.0</td>\n",
       "      <td>0.0</td>\n",
       "      <td>0.0</td>\n",
       "      <td>0.0</td>\n",
       "      <td>0.0</td>\n",
       "      <td>0.0</td>\n",
       "      <td>1.0</td>\n",
       "      <td>0.0</td>\n",
       "      <td>0.0</td>\n",
       "      <td>0.0</td>\n",
       "    </tr>\n",
       "  </tbody>\n",
       "</table>\n",
       "</div>"
      ],
      "text/plain": [
       "         NBED     NBATH    NFLOOR     BLDAR     LNDAR  onehotencoder__x0_HGB  \\\n",
       "25  -0.018170 -0.299771  0.363798  3.197914  0.577336                    0.0   \n",
       "223 -0.018170 -0.299771  0.363798  1.426553 -0.148376                    0.0   \n",
       "64  -0.018170 -0.299771  0.363798 -0.344808 -0.511232                    0.0   \n",
       "141 -1.241604 -1.326104 -1.306365 -0.344808 -1.091802                    0.0   \n",
       "153  1.205264  1.752896  0.363798 -0.077433  1.182097                    0.0   \n",
       "\n",
       "     onehotencoder__x0_Lainnya  onehotencoder__x0_SHM  \\\n",
       "25                         0.0                    1.0   \n",
       "223                        0.0                    1.0   \n",
       "64                         0.0                    1.0   \n",
       "141                        0.0                    1.0   \n",
       "153                        0.0                    1.0   \n",
       "\n",
       "     onehotencoder__x1_Cilandak  onehotencoder__x1_Kebayoran Baru  \\\n",
       "25                          0.0                               1.0   \n",
       "223                         0.0                               0.0   \n",
       "64                          0.0                               0.0   \n",
       "141                         0.0                               0.0   \n",
       "153                         0.0                               0.0   \n",
       "\n",
       "     onehotencoder__x1_Kebayoran Lama  onehotencoder__x1_Mampang Prapatan  \\\n",
       "25                                0.0                                 0.0   \n",
       "223                               0.0                                 0.0   \n",
       "64                                0.0                                 0.0   \n",
       "141                               0.0                                 0.0   \n",
       "153                               0.0                                 0.0   \n",
       "\n",
       "     onehotencoder__x1_Pancoran  onehotencoder__x1_Pasar Minggu  \\\n",
       "25                          0.0                             0.0   \n",
       "223                         0.0                             0.0   \n",
       "64                          0.0                             0.0   \n",
       "141                         0.0                             0.0   \n",
       "153                         0.0                             1.0   \n",
       "\n",
       "     onehotencoder__x1_Pesanggrahan  onehotencoder__x1_Setia Budi  \\\n",
       "25                              0.0                           0.0   \n",
       "223                             1.0                           0.0   \n",
       "64                              1.0                           0.0   \n",
       "141                             1.0                           0.0   \n",
       "153                             0.0                           0.0   \n",
       "\n",
       "     onehotencoder__x1_Tebet  \n",
       "25                       0.0  \n",
       "223                      0.0  \n",
       "64                       0.0  \n",
       "141                      0.0  \n",
       "153                      0.0  "
      ]
     },
     "execution_count": 397,
     "metadata": {},
     "output_type": "execute_result"
    }
   ],
   "source": [
    "#add categorical columns to standardized numerical columns\n",
    "X_train_new= scaled_X_train[[\"NBED\", \"NBATH\", \"NFLOOR\", \"BLDAR\", \"LNDAR\"]].copy()\n",
    "X_train_new[\"onehotencoder__x0_HGB\"] = X_train[\"onehotencoder__x0_HGB\"]\n",
    "X_train_new[\"onehotencoder__x0_Lainnya\"] = X_train[\"onehotencoder__x0_Lainnya\"]\n",
    "X_train_new[\"onehotencoder__x0_SHM\"] = X_train[\"onehotencoder__x0_SHM\"]\n",
    "X_train_new[\"onehotencoder__x1_Cilandak\"] = X_train[\"onehotencoder__x1_Cilandak\"]\n",
    "X_train_new[\"onehotencoder__x1_Kebayoran Baru\"] = X_train[\"onehotencoder__x1_Kebayoran Baru\"]\n",
    "X_train_new[\"onehotencoder__x1_Kebayoran Lama\"] = X_train[\"onehotencoder__x1_Kebayoran Lama\"]\n",
    "X_train_new[\"onehotencoder__x1_Mampang Prapatan\"] = X_train[\"onehotencoder__x1_Mampang Prapatan\"]\n",
    "X_train_new[\"onehotencoder__x1_Pancoran\"] = X_train[\"onehotencoder__x1_Pancoran\"]\n",
    "X_train_new[\"onehotencoder__x1_Pasar Minggu\"] = X_train[\"onehotencoder__x1_Pasar Minggu\"]\n",
    "X_train_new[\"onehotencoder__x1_Pesanggrahan\"] = X_train[\"onehotencoder__x1_Pesanggrahan\"]\n",
    "X_train_new[\"onehotencoder__x1_Setia Budi\"] = X_train[\"onehotencoder__x1_Setia Budi\"]\n",
    "X_train_new[\"onehotencoder__x1_Tebet\"] = X_train[\"onehotencoder__x1_Tebet\"]\n",
    "\n",
    "X_train_new.head()\n",
    "# X_train.head()"
   ]
  },
  {
   "cell_type": "code",
   "execution_count": 398,
   "metadata": {},
   "outputs": [
    {
     "data": {
      "text/html": [
       "<div>\n",
       "<style scoped>\n",
       "    .dataframe tbody tr th:only-of-type {\n",
       "        vertical-align: middle;\n",
       "    }\n",
       "\n",
       "    .dataframe tbody tr th {\n",
       "        vertical-align: top;\n",
       "    }\n",
       "\n",
       "    .dataframe thead th {\n",
       "        text-align: right;\n",
       "    }\n",
       "</style>\n",
       "<table border=\"1\" class=\"dataframe\">\n",
       "  <thead>\n",
       "    <tr style=\"text-align: right;\">\n",
       "      <th></th>\n",
       "      <th>NBED</th>\n",
       "      <th>NBATH</th>\n",
       "      <th>NFLOOR</th>\n",
       "      <th>BLDAR</th>\n",
       "      <th>LNDAR</th>\n",
       "    </tr>\n",
       "  </thead>\n",
       "  <tbody>\n",
       "    <tr>\n",
       "      <th>20</th>\n",
       "      <td>1.516440</td>\n",
       "      <td>0.909017</td>\n",
       "      <td>0.548821</td>\n",
       "      <td>1.119459</td>\n",
       "      <td>1.063414</td>\n",
       "    </tr>\n",
       "    <tr>\n",
       "      <th>149</th>\n",
       "      <td>-1.146576</td>\n",
       "      <td>-1.202248</td>\n",
       "      <td>-1.426935</td>\n",
       "      <td>-1.301552</td>\n",
       "      <td>-1.244420</td>\n",
       "    </tr>\n",
       "    <tr>\n",
       "      <th>30</th>\n",
       "      <td>2.847948</td>\n",
       "      <td>-0.146616</td>\n",
       "      <td>0.548821</td>\n",
       "      <td>3.354239</td>\n",
       "      <td>0.927659</td>\n",
       "    </tr>\n",
       "    <tr>\n",
       "      <th>54</th>\n",
       "      <td>0.184932</td>\n",
       "      <td>0.909017</td>\n",
       "      <td>0.548821</td>\n",
       "      <td>0.337286</td>\n",
       "      <td>0.764753</td>\n",
       "    </tr>\n",
       "    <tr>\n",
       "      <th>147</th>\n",
       "      <td>0.184932</td>\n",
       "      <td>0.909017</td>\n",
       "      <td>0.548821</td>\n",
       "      <td>0.784242</td>\n",
       "      <td>0.764753</td>\n",
       "    </tr>\n",
       "  </tbody>\n",
       "</table>\n",
       "</div>"
      ],
      "text/plain": [
       "         NBED     NBATH    NFLOOR     BLDAR     LNDAR\n",
       "20   1.516440  0.909017  0.548821  1.119459  1.063414\n",
       "149 -1.146576 -1.202248 -1.426935 -1.301552 -1.244420\n",
       "30   2.847948 -0.146616  0.548821  3.354239  0.927659\n",
       "54   0.184932  0.909017  0.548821  0.337286  0.764753\n",
       "147  0.184932  0.909017  0.548821  0.784242  0.764753"
      ]
     },
     "execution_count": 398,
     "metadata": {},
     "output_type": "execute_result"
    }
   ],
   "source": [
    "scaled_X_test = pd.DataFrame(X_test_std, index=X_test_num.index, columns=X_test_num.columns)\n",
    "scaled_X_test.head()"
   ]
  },
  {
   "cell_type": "code",
   "execution_count": 399,
   "metadata": {},
   "outputs": [
    {
     "data": {
      "text/html": [
       "<div>\n",
       "<style scoped>\n",
       "    .dataframe tbody tr th:only-of-type {\n",
       "        vertical-align: middle;\n",
       "    }\n",
       "\n",
       "    .dataframe tbody tr th {\n",
       "        vertical-align: top;\n",
       "    }\n",
       "\n",
       "    .dataframe thead th {\n",
       "        text-align: right;\n",
       "    }\n",
       "</style>\n",
       "<table border=\"1\" class=\"dataframe\">\n",
       "  <thead>\n",
       "    <tr style=\"text-align: right;\">\n",
       "      <th></th>\n",
       "      <th>NBED</th>\n",
       "      <th>NBATH</th>\n",
       "      <th>NFLOOR</th>\n",
       "      <th>BLDAR</th>\n",
       "      <th>LNDAR</th>\n",
       "      <th>onehotencoder__x0_HGB</th>\n",
       "      <th>onehotencoder__x0_Lainnya</th>\n",
       "      <th>onehotencoder__x0_SHM</th>\n",
       "      <th>onehotencoder__x1_Cilandak</th>\n",
       "      <th>onehotencoder__x1_Kebayoran Baru</th>\n",
       "      <th>onehotencoder__x1_Kebayoran Lama</th>\n",
       "      <th>onehotencoder__x1_Mampang Prapatan</th>\n",
       "      <th>onehotencoder__x1_Pancoran</th>\n",
       "      <th>onehotencoder__x1_Pasar Minggu</th>\n",
       "      <th>onehotencoder__x1_Pesanggrahan</th>\n",
       "      <th>onehotencoder__x1_Setia Budi</th>\n",
       "      <th>onehotencoder__x1_Tebet</th>\n",
       "    </tr>\n",
       "  </thead>\n",
       "  <tbody>\n",
       "    <tr>\n",
       "      <th>20</th>\n",
       "      <td>1.516440</td>\n",
       "      <td>0.909017</td>\n",
       "      <td>0.548821</td>\n",
       "      <td>1.119459</td>\n",
       "      <td>1.063414</td>\n",
       "      <td>0.0</td>\n",
       "      <td>0.0</td>\n",
       "      <td>1.0</td>\n",
       "      <td>0.0</td>\n",
       "      <td>0.0</td>\n",
       "      <td>0.0</td>\n",
       "      <td>0.0</td>\n",
       "      <td>0.0</td>\n",
       "      <td>0.0</td>\n",
       "      <td>1.0</td>\n",
       "      <td>0.0</td>\n",
       "      <td>0.0</td>\n",
       "    </tr>\n",
       "    <tr>\n",
       "      <th>149</th>\n",
       "      <td>-1.146576</td>\n",
       "      <td>-1.202248</td>\n",
       "      <td>-1.426935</td>\n",
       "      <td>-1.301552</td>\n",
       "      <td>-1.244420</td>\n",
       "      <td>0.0</td>\n",
       "      <td>0.0</td>\n",
       "      <td>1.0</td>\n",
       "      <td>0.0</td>\n",
       "      <td>0.0</td>\n",
       "      <td>0.0</td>\n",
       "      <td>1.0</td>\n",
       "      <td>0.0</td>\n",
       "      <td>0.0</td>\n",
       "      <td>0.0</td>\n",
       "      <td>0.0</td>\n",
       "      <td>0.0</td>\n",
       "    </tr>\n",
       "    <tr>\n",
       "      <th>30</th>\n",
       "      <td>2.847948</td>\n",
       "      <td>-0.146616</td>\n",
       "      <td>0.548821</td>\n",
       "      <td>3.354239</td>\n",
       "      <td>0.927659</td>\n",
       "      <td>0.0</td>\n",
       "      <td>0.0</td>\n",
       "      <td>1.0</td>\n",
       "      <td>0.0</td>\n",
       "      <td>0.0</td>\n",
       "      <td>1.0</td>\n",
       "      <td>0.0</td>\n",
       "      <td>0.0</td>\n",
       "      <td>0.0</td>\n",
       "      <td>0.0</td>\n",
       "      <td>0.0</td>\n",
       "      <td>0.0</td>\n",
       "    </tr>\n",
       "    <tr>\n",
       "      <th>54</th>\n",
       "      <td>0.184932</td>\n",
       "      <td>0.909017</td>\n",
       "      <td>0.548821</td>\n",
       "      <td>0.337286</td>\n",
       "      <td>0.764753</td>\n",
       "      <td>0.0</td>\n",
       "      <td>0.0</td>\n",
       "      <td>1.0</td>\n",
       "      <td>0.0</td>\n",
       "      <td>0.0</td>\n",
       "      <td>0.0</td>\n",
       "      <td>1.0</td>\n",
       "      <td>0.0</td>\n",
       "      <td>0.0</td>\n",
       "      <td>0.0</td>\n",
       "      <td>0.0</td>\n",
       "      <td>0.0</td>\n",
       "    </tr>\n",
       "    <tr>\n",
       "      <th>147</th>\n",
       "      <td>0.184932</td>\n",
       "      <td>0.909017</td>\n",
       "      <td>0.548821</td>\n",
       "      <td>0.784242</td>\n",
       "      <td>0.764753</td>\n",
       "      <td>0.0</td>\n",
       "      <td>0.0</td>\n",
       "      <td>1.0</td>\n",
       "      <td>0.0</td>\n",
       "      <td>0.0</td>\n",
       "      <td>0.0</td>\n",
       "      <td>0.0</td>\n",
       "      <td>0.0</td>\n",
       "      <td>0.0</td>\n",
       "      <td>1.0</td>\n",
       "      <td>0.0</td>\n",
       "      <td>0.0</td>\n",
       "    </tr>\n",
       "  </tbody>\n",
       "</table>\n",
       "</div>"
      ],
      "text/plain": [
       "         NBED     NBATH    NFLOOR     BLDAR     LNDAR  onehotencoder__x0_HGB  \\\n",
       "20   1.516440  0.909017  0.548821  1.119459  1.063414                    0.0   \n",
       "149 -1.146576 -1.202248 -1.426935 -1.301552 -1.244420                    0.0   \n",
       "30   2.847948 -0.146616  0.548821  3.354239  0.927659                    0.0   \n",
       "54   0.184932  0.909017  0.548821  0.337286  0.764753                    0.0   \n",
       "147  0.184932  0.909017  0.548821  0.784242  0.764753                    0.0   \n",
       "\n",
       "     onehotencoder__x0_Lainnya  onehotencoder__x0_SHM  \\\n",
       "20                         0.0                    1.0   \n",
       "149                        0.0                    1.0   \n",
       "30                         0.0                    1.0   \n",
       "54                         0.0                    1.0   \n",
       "147                        0.0                    1.0   \n",
       "\n",
       "     onehotencoder__x1_Cilandak  onehotencoder__x1_Kebayoran Baru  \\\n",
       "20                          0.0                               0.0   \n",
       "149                         0.0                               0.0   \n",
       "30                          0.0                               0.0   \n",
       "54                          0.0                               0.0   \n",
       "147                         0.0                               0.0   \n",
       "\n",
       "     onehotencoder__x1_Kebayoran Lama  onehotencoder__x1_Mampang Prapatan  \\\n",
       "20                                0.0                                 0.0   \n",
       "149                               0.0                                 1.0   \n",
       "30                                1.0                                 0.0   \n",
       "54                                0.0                                 1.0   \n",
       "147                               0.0                                 0.0   \n",
       "\n",
       "     onehotencoder__x1_Pancoran  onehotencoder__x1_Pasar Minggu  \\\n",
       "20                          0.0                             0.0   \n",
       "149                         0.0                             0.0   \n",
       "30                          0.0                             0.0   \n",
       "54                          0.0                             0.0   \n",
       "147                         0.0                             0.0   \n",
       "\n",
       "     onehotencoder__x1_Pesanggrahan  onehotencoder__x1_Setia Budi  \\\n",
       "20                              1.0                           0.0   \n",
       "149                             0.0                           0.0   \n",
       "30                              0.0                           0.0   \n",
       "54                              0.0                           0.0   \n",
       "147                             1.0                           0.0   \n",
       "\n",
       "     onehotencoder__x1_Tebet  \n",
       "20                       0.0  \n",
       "149                      0.0  \n",
       "30                       0.0  \n",
       "54                       0.0  \n",
       "147                      0.0  "
      ]
     },
     "execution_count": 399,
     "metadata": {},
     "output_type": "execute_result"
    }
   ],
   "source": [
    "#add categorical columns to standardized numerical columns\n",
    "X_test_new= scaled_X_test[[\"NBED\", \"NBATH\", \"NFLOOR\", \"BLDAR\", \"LNDAR\"]].copy()\n",
    "# X_test_new[\"CERT\"] = X_test[\"CERT\"]\n",
    "# X_test_new[\"LOC\"] = X_test[\"LOC\"]\n",
    "X_test_new[\"onehotencoder__x0_HGB\"] = X_test[\"onehotencoder__x0_HGB\"]\n",
    "X_test_new[\"onehotencoder__x0_Lainnya\"] = X_test[\"onehotencoder__x0_Lainnya\"]\n",
    "X_test_new[\"onehotencoder__x0_SHM\"] = X_test[\"onehotencoder__x0_SHM\"]\n",
    "X_test_new[\"onehotencoder__x1_Cilandak\"] = X_test[\"onehotencoder__x1_Cilandak\"]\n",
    "X_test_new[\"onehotencoder__x1_Kebayoran Baru\"] = X_test[\"onehotencoder__x1_Kebayoran Baru\"]\n",
    "X_test_new[\"onehotencoder__x1_Kebayoran Lama\"] = X_test[\"onehotencoder__x1_Kebayoran Lama\"]\n",
    "X_test_new[\"onehotencoder__x1_Mampang Prapatan\"] = X_test[\"onehotencoder__x1_Mampang Prapatan\"]\n",
    "X_test_new[\"onehotencoder__x1_Pancoran\"] = X_test[\"onehotencoder__x1_Pancoran\"]\n",
    "X_test_new[\"onehotencoder__x1_Pasar Minggu\"] = X_test[\"onehotencoder__x1_Pasar Minggu\"]\n",
    "X_test_new[\"onehotencoder__x1_Pesanggrahan\"] = X_test[\"onehotencoder__x1_Pesanggrahan\"]\n",
    "X_test_new[\"onehotencoder__x1_Setia Budi\"] = X_test[\"onehotencoder__x1_Setia Budi\"]\n",
    "X_test_new[\"onehotencoder__x1_Tebet\"] = X_test[\"onehotencoder__x1_Tebet\"]\n",
    "X_test_new.head()\n"
   ]
  },
  {
   "cell_type": "code",
   "execution_count": 400,
   "metadata": {},
   "outputs": [
    {
     "name": "stdout",
     "output_type": "stream",
     "text": [
      "<class 'pandas.core.frame.DataFrame'>\n",
      "Int64Index: 202 entries, 25 to 168\n",
      "Data columns (total 17 columns):\n",
      " #   Column                              Non-Null Count  Dtype  \n",
      "---  ------                              --------------  -----  \n",
      " 0   NBED                                202 non-null    float64\n",
      " 1   NBATH                               202 non-null    float64\n",
      " 2   NFLOOR                              202 non-null    float64\n",
      " 3   BLDAR                               202 non-null    float64\n",
      " 4   LNDAR                               202 non-null    float64\n",
      " 5   onehotencoder__x0_HGB               202 non-null    float64\n",
      " 6   onehotencoder__x0_Lainnya           202 non-null    float64\n",
      " 7   onehotencoder__x0_SHM               202 non-null    float64\n",
      " 8   onehotencoder__x1_Cilandak          202 non-null    float64\n",
      " 9   onehotencoder__x1_Kebayoran Baru    202 non-null    float64\n",
      " 10  onehotencoder__x1_Kebayoran Lama    202 non-null    float64\n",
      " 11  onehotencoder__x1_Mampang Prapatan  202 non-null    float64\n",
      " 12  onehotencoder__x1_Pancoran          202 non-null    float64\n",
      " 13  onehotencoder__x1_Pasar Minggu      202 non-null    float64\n",
      " 14  onehotencoder__x1_Pesanggrahan      202 non-null    float64\n",
      " 15  onehotencoder__x1_Setia Budi        202 non-null    float64\n",
      " 16  onehotencoder__x1_Tebet             202 non-null    float64\n",
      "dtypes: float64(17)\n",
      "memory usage: 28.4 KB\n"
     ]
    }
   ],
   "source": [
    "X_train_new.info()"
   ]
  },
  {
   "cell_type": "code",
   "execution_count": 401,
   "metadata": {},
   "outputs": [
    {
     "name": "stdout",
     "output_type": "stream",
     "text": [
      "<class 'pandas.core.frame.DataFrame'>\n",
      "Int64Index: 36 entries, 20 to 90\n",
      "Data columns (total 17 columns):\n",
      " #   Column                              Non-Null Count  Dtype  \n",
      "---  ------                              --------------  -----  \n",
      " 0   NBED                                36 non-null     float64\n",
      " 1   NBATH                               36 non-null     float64\n",
      " 2   NFLOOR                              36 non-null     float64\n",
      " 3   BLDAR                               36 non-null     float64\n",
      " 4   LNDAR                               36 non-null     float64\n",
      " 5   onehotencoder__x0_HGB               36 non-null     float64\n",
      " 6   onehotencoder__x0_Lainnya           36 non-null     float64\n",
      " 7   onehotencoder__x0_SHM               36 non-null     float64\n",
      " 8   onehotencoder__x1_Cilandak          36 non-null     float64\n",
      " 9   onehotencoder__x1_Kebayoran Baru    36 non-null     float64\n",
      " 10  onehotencoder__x1_Kebayoran Lama    36 non-null     float64\n",
      " 11  onehotencoder__x1_Mampang Prapatan  36 non-null     float64\n",
      " 12  onehotencoder__x1_Pancoran          36 non-null     float64\n",
      " 13  onehotencoder__x1_Pasar Minggu      36 non-null     float64\n",
      " 14  onehotencoder__x1_Pesanggrahan      36 non-null     float64\n",
      " 15  onehotencoder__x1_Setia Budi        36 non-null     float64\n",
      " 16  onehotencoder__x1_Tebet             36 non-null     float64\n",
      "dtypes: float64(17)\n",
      "memory usage: 5.1 KB\n"
     ]
    }
   ],
   "source": [
    "X_test_new.info()"
   ]
  },
  {
   "cell_type": "markdown",
   "metadata": {},
   "source": [
    "Define Model & Fit to Training Data"
   ]
  },
  {
   "cell_type": "code",
   "execution_count": 402,
   "metadata": {},
   "outputs": [
    {
     "data": {
      "text/html": [
       "<style>#sk-container-id-10 {color: black;background-color: white;}#sk-container-id-10 pre{padding: 0;}#sk-container-id-10 div.sk-toggleable {background-color: white;}#sk-container-id-10 label.sk-toggleable__label {cursor: pointer;display: block;width: 100%;margin-bottom: 0;padding: 0.3em;box-sizing: border-box;text-align: center;}#sk-container-id-10 label.sk-toggleable__label-arrow:before {content: \"▸\";float: left;margin-right: 0.25em;color: #696969;}#sk-container-id-10 label.sk-toggleable__label-arrow:hover:before {color: black;}#sk-container-id-10 div.sk-estimator:hover label.sk-toggleable__label-arrow:before {color: black;}#sk-container-id-10 div.sk-toggleable__content {max-height: 0;max-width: 0;overflow: hidden;text-align: left;background-color: #f0f8ff;}#sk-container-id-10 div.sk-toggleable__content pre {margin: 0.2em;color: black;border-radius: 0.25em;background-color: #f0f8ff;}#sk-container-id-10 input.sk-toggleable__control:checked~div.sk-toggleable__content {max-height: 200px;max-width: 100%;overflow: auto;}#sk-container-id-10 input.sk-toggleable__control:checked~label.sk-toggleable__label-arrow:before {content: \"▾\";}#sk-container-id-10 div.sk-estimator input.sk-toggleable__control:checked~label.sk-toggleable__label {background-color: #d4ebff;}#sk-container-id-10 div.sk-label input.sk-toggleable__control:checked~label.sk-toggleable__label {background-color: #d4ebff;}#sk-container-id-10 input.sk-hidden--visually {border: 0;clip: rect(1px 1px 1px 1px);clip: rect(1px, 1px, 1px, 1px);height: 1px;margin: -1px;overflow: hidden;padding: 0;position: absolute;width: 1px;}#sk-container-id-10 div.sk-estimator {font-family: monospace;background-color: #f0f8ff;border: 1px dotted black;border-radius: 0.25em;box-sizing: border-box;margin-bottom: 0.5em;}#sk-container-id-10 div.sk-estimator:hover {background-color: #d4ebff;}#sk-container-id-10 div.sk-parallel-item::after {content: \"\";width: 100%;border-bottom: 1px solid gray;flex-grow: 1;}#sk-container-id-10 div.sk-label:hover label.sk-toggleable__label {background-color: #d4ebff;}#sk-container-id-10 div.sk-serial::before {content: \"\";position: absolute;border-left: 1px solid gray;box-sizing: border-box;top: 0;bottom: 0;left: 50%;z-index: 0;}#sk-container-id-10 div.sk-serial {display: flex;flex-direction: column;align-items: center;background-color: white;padding-right: 0.2em;padding-left: 0.2em;position: relative;}#sk-container-id-10 div.sk-item {position: relative;z-index: 1;}#sk-container-id-10 div.sk-parallel {display: flex;align-items: stretch;justify-content: center;background-color: white;position: relative;}#sk-container-id-10 div.sk-item::before, #sk-container-id-10 div.sk-parallel-item::before {content: \"\";position: absolute;border-left: 1px solid gray;box-sizing: border-box;top: 0;bottom: 0;left: 50%;z-index: -1;}#sk-container-id-10 div.sk-parallel-item {display: flex;flex-direction: column;z-index: 1;position: relative;background-color: white;}#sk-container-id-10 div.sk-parallel-item:first-child::after {align-self: flex-end;width: 50%;}#sk-container-id-10 div.sk-parallel-item:last-child::after {align-self: flex-start;width: 50%;}#sk-container-id-10 div.sk-parallel-item:only-child::after {width: 0;}#sk-container-id-10 div.sk-dashed-wrapped {border: 1px dashed gray;margin: 0 0.4em 0.5em 0.4em;box-sizing: border-box;padding-bottom: 0.4em;background-color: white;}#sk-container-id-10 div.sk-label label {font-family: monospace;font-weight: bold;display: inline-block;line-height: 1.2em;}#sk-container-id-10 div.sk-label-container {text-align: center;}#sk-container-id-10 div.sk-container {/* jupyter's `normalize.less` sets `[hidden] { display: none; }` but bootstrap.min.css set `[hidden] { display: none !important; }` so we also need the `!important` here to be able to override the default hidden behavior on the sphinx rendered scikit-learn.org. See: https://github.com/scikit-learn/scikit-learn/issues/21755 */display: inline-block !important;position: relative;}#sk-container-id-10 div.sk-text-repr-fallback {display: none;}</style><div id=\"sk-container-id-10\" class=\"sk-top-container\"><div class=\"sk-text-repr-fallback\"><pre>LinearRegression()</pre><b>In a Jupyter environment, please rerun this cell to show the HTML representation or trust the notebook. <br />On GitHub, the HTML representation is unable to render, please try loading this page with nbviewer.org.</b></div><div class=\"sk-container\" hidden><div class=\"sk-item\"><div class=\"sk-estimator sk-toggleable\"><input class=\"sk-toggleable__control sk-hidden--visually\" id=\"sk-estimator-id-10\" type=\"checkbox\" checked><label for=\"sk-estimator-id-10\" class=\"sk-toggleable__label sk-toggleable__label-arrow\">LinearRegression</label><div class=\"sk-toggleable__content\"><pre>LinearRegression()</pre></div></div></div></div></div>"
      ],
      "text/plain": [
       "LinearRegression()"
      ]
     },
     "execution_count": 402,
     "metadata": {},
     "output_type": "execute_result"
    }
   ],
   "source": [
    "#LinearRegression\n",
    "from sklearn.linear_model import LinearRegression\n",
    "\n",
    "lm= LinearRegression()\n",
    "\n",
    "lm.fit(X_train_new, y_train)"
   ]
  },
  {
   "cell_type": "code",
   "execution_count": 403,
   "metadata": {},
   "outputs": [
    {
     "name": "stdout",
     "output_type": "stream",
     "text": [
      "[-1.56788465e+07  6.03033234e+07  4.89304553e+07  7.54819379e+07\n",
      "  4.16274267e+08  1.18142250e+08 -3.69421357e+08  2.51279107e+08\n",
      "  1.42215284e+08 -4.21732179e+07  4.30073237e+07  1.83758121e+08\n",
      "  6.57220485e+07  7.91395745e+07  2.60749530e+08 -5.00971567e+08\n",
      " -2.31447097e+08]\n"
     ]
    }
   ],
   "source": [
    "print(lm.coef_)"
   ]
  },
  {
   "cell_type": "code",
   "execution_count": 404,
   "metadata": {},
   "outputs": [
    {
     "name": "stdout",
     "output_type": "stream",
     "text": [
      "812505814.877099\n"
     ]
    }
   ],
   "source": [
    "print(lm.intercept_)"
   ]
  },
  {
   "cell_type": "markdown",
   "metadata": {},
   "source": [
    "Predict on the Test Set"
   ]
  },
  {
   "cell_type": "code",
   "execution_count": 405,
   "metadata": {},
   "outputs": [],
   "source": [
    "reg_pred=lm.predict(X_test_new)"
   ]
  },
  {
   "cell_type": "code",
   "execution_count": 406,
   "metadata": {},
   "outputs": [
    {
     "data": {
      "text/plain": [
       "array([1.90959995e+09, 5.06936047e+08, 1.71949732e+09, 1.67012028e+09,\n",
       "       1.78084879e+09, 1.17878383e+09, 6.34644295e+08, 1.90645308e+09,\n",
       "       4.84414587e+08, 1.30332142e+09, 1.11512570e+09, 4.02317500e+08,\n",
       "       2.12783345e+09, 1.60714725e+09, 1.00778181e+09, 2.02516914e+09,\n",
       "       1.90439981e+09, 8.16340411e+08, 1.42135507e+09, 1.43480195e+09,\n",
       "       5.89435263e+08, 8.67031017e+08, 3.88506980e+08, 1.07531258e+09,\n",
       "       1.77696887e+09, 8.23973186e+08, 1.06333515e+09, 1.33979592e+09,\n",
       "       8.21482642e+08, 1.08477322e+09, 1.32008962e+09, 6.30978100e+08,\n",
       "       5.97570476e+08, 2.35979259e+09, 3.88899974e+08, 6.14662350e+08])"
      ]
     },
     "execution_count": 406,
     "metadata": {},
     "output_type": "execute_result"
    }
   ],
   "source": [
    "reg_pred"
   ]
  },
  {
   "cell_type": "code",
   "execution_count": 407,
   "metadata": {},
   "outputs": [
    {
     "data": {
      "text/plain": [
       "<matplotlib.collections.PathCollection at 0x130f36da0>"
      ]
     },
     "execution_count": 407,
     "metadata": {},
     "output_type": "execute_result"
    },
    {
     "data": {
      "image/png": "[encoded data removed]",
      "text/plain": [
       "<Figure size 640x480 with 1 Axes>"
      ]
     },
     "metadata": {},
     "output_type": "display_data"
    }
   ],
   "source": [
    "plt.scatter(y_test, reg_pred)"
   ]
  },
  {
   "cell_type": "markdown",
   "metadata": {},
   "source": [
    "Evaluate Predictions: Performance Metrics with Visualization "
   ]
  },
  {
   "cell_type": "code",
   "execution_count": 408,
   "metadata": {},
   "outputs": [
    {
     "data": {
      "text/plain": [
       "<seaborn.axisgrid.FacetGrid at 0x130d4f8e0>"
      ]
     },
     "execution_count": 408,
     "metadata": {},
     "output_type": "execute_result"
    },
    {
     "data": {
      "image/png": "[encoded data removed]",
      "text/plain": [
       "<Figure size 500x500 with 1 Axes>"
      ]
     },
     "metadata": {},
     "output_type": "display_data"
    }
   ],
   "source": [
    "#residuals\n",
    "residuals=y_test-reg_pred\n",
    "\n",
    "#plot the residuals\n",
    "sns.displot(residuals, kind=\"kde\")"
   ]
  },
  {
   "cell_type": "code",
   "execution_count": 409,
   "metadata": {},
   "outputs": [
    {
     "data": {
      "text/plain": [
       "<matplotlib.collections.PathCollection at 0x130fd3c40>"
      ]
     },
     "execution_count": 409,
     "metadata": {},
     "output_type": "execute_result"
    },
    {
     "data": {
      "image/png": "[encoded data removed]",
      "text/plain": [
       "<Figure size 640x480 with 1 Axes>"
      ]
     },
     "metadata": {},
     "output_type": "display_data"
    }
   ],
   "source": [
    "#scatter plot with respect to prediction and residuals\n",
    "#need to get uniform distribution\n",
    "plt.scatter(reg_pred, residuals)"
   ]
  },
  {
   "cell_type": "code",
   "execution_count": 413,
   "metadata": {},
   "outputs": [
    {
     "name": "stdout",
     "output_type": "stream",
     "text": [
      "1.3492826824503296e+17\n",
      "0.3220608546412398\n",
      "0.36732583389278917\n"
     ]
    }
   ],
   "source": [
    "from sklearn.metrics import mean_squared_error\n",
    "from sklearn.metrics import mean_absolute_error\n",
    "\n",
    "print(mean_squared_error(y_test, reg_pred))\n",
    "print(mean_absolute_error(y_test/1000000000, reg_pred/1000000000))\n",
    "print(np.sqrt(mean_squared_error(y_test/1000000000,reg_pred/1000000000)))"
   ]
  },
  {
   "cell_type": "code",
   "execution_count": 414,
   "metadata": {},
   "outputs": [
    {
     "name": "stdout",
     "output_type": "stream",
     "text": [
      "0.7382519656541124\n"
     ]
    }
   ],
   "source": [
    "#R2 score and Adjusted R square\n",
    "from sklearn.metrics import r2_score\n",
    "score=r2_score(y_test, reg_pred)\n",
    "print(score)"
   ]
  },
  {
   "cell_type": "code",
   "execution_count": 415,
   "metadata": {},
   "outputs": [
    {
     "data": {
      "text/plain": [
       "0.49104548877188536"
      ]
     },
     "execution_count": 415,
     "metadata": {},
     "output_type": "execute_result"
    }
   ],
   "source": [
    "#display adjusted R-squared\n",
    "1 - (1-score)*(len(y_test)-1)/(len(y_test)-X_test.shape[1]-1)"
   ]
  },
  {
   "cell_type": "markdown",
   "metadata": {},
   "source": [
    "5-Fold Cross Validations\n"
   ]
  },
  {
   "cell_type": "code",
   "execution_count": 416,
   "metadata": {},
   "outputs": [],
   "source": [
    "from sklearn.metrics import f1_score\n",
    "from sklearn.model_selection import KFold\n",
    "from sklearn.model_selection import cross_val_score\n",
    "from sklearn.model_selection import cross_validate\n",
    "from numpy import mean\n",
    "from numpy import absolute\n",
    "from numpy import sqrt"
   ]
  },
  {
   "cell_type": "code",
   "execution_count": 417,
   "metadata": {},
   "outputs": [
    {
     "data": {
      "text/plain": [
       "0.7673969644199876"
      ]
     },
     "execution_count": 417,
     "metadata": {},
     "output_type": "execute_result"
    }
   ],
   "source": [
    "\n",
    "\n",
    "scores_r2=cross_val_score(lm, X_train_new, y_train, scoring=\"r2\", cv=5)\n",
    "sqrt(mean(absolute(scores_r2)))\n"
   ]
  },
  {
   "cell_type": "code",
   "execution_count": 419,
   "metadata": {},
   "outputs": [
    {
     "data": {
      "text/plain": [
       "0.4139450084668623"
      ]
     },
     "execution_count": 419,
     "metadata": {},
     "output_type": "execute_result"
    }
   ],
   "source": [
    "scores_rmse=cross_val_score(lm, X_train_new, y_train/1000000000, scoring=\"neg_mean_squared_error\", cv=5, n_jobs=-1)\n",
    "sqrt(mean(absolute(scores_rmse)))"
   ]
  },
  {
   "cell_type": "markdown",
   "metadata": {},
   "source": [
    "Input Data Prediction"
   ]
  },
  {
   "cell_type": "code",
   "execution_count": 420,
   "metadata": {},
   "outputs": [
    {
     "name": "stdout",
     "output_type": "stream",
     "text": [
      "[[3, 3, 2, 134, 130, 'SHM', 'Pasar Minggu']]\n"
     ]
    }
   ],
   "source": [
    "#NBED, NBATH, NFLOOR, BLDAR, LNDAR, CERT, LOC\n",
    "random_sample = [[3,3,2,134,130, \"SHM\", \"Pasar Minggu\"]]\n",
    "print(random_sample)\n"
   ]
  },
  {
   "cell_type": "code",
   "execution_count": null,
   "metadata": {},
   "outputs": [],
   "source": []
  },
  {
   "cell_type": "code",
   "execution_count": 421,
   "metadata": {},
   "outputs": [
    {
     "name": "stderr",
     "output_type": "stream",
     "text": [
      "/Library/Frameworks/Python.framework/Versions/3.10/lib/python3.10/site-packages/sklearn/base.py:450: UserWarning: X does not have valid feature names, but StandardScaler was fitted with feature names\n",
      "  warnings.warn(\n"
     ]
    },
    {
     "data": {
      "text/plain": [
       "[[0.18493168036382723,\n",
       "  0.9090166466971246,\n",
       "  0.5488212999484516,\n",
       "  2.199602772815472,\n",
       "  1.4706785727407006,\n",
       "  0.0,\n",
       "  0.0,\n",
       "  1.0,\n",
       "  0.0,\n",
       "  0.0,\n",
       "  0.0,\n",
       "  0.0,\n",
       "  0.0,\n",
       "  1.0,\n",
       "  0.0,\n",
       "  0.0,\n",
       "  0.0]]"
      ]
     },
     "execution_count": 421,
     "metadata": {},
     "output_type": "execute_result"
    }
   ],
   "source": [
    "#transformation of input: numerical\n",
    "temp_numerical = [[x for x in random_sample[0] if type(x) == int]]\n",
    "# temp_numerical\n",
    "transformed_numerical = scaler.transform(temp_numerical)\n",
    "# transformed_numerical\n",
    "\n",
    "#transformation of input: categorical\n",
    "temp_categorical = [[x for x in random_sample[0] if type(x) != int]]\n",
    "# temp_categorical\n",
    "\n",
    "encoded_categorical = []\n",
    "for i in range(0,12):\n",
    "  encoded_categorical.append(0.0)\n",
    "\n",
    "if temp_categorical[0][0] == \"HGB\":\n",
    "  encoded_categorical[0] = 1.0\n",
    "elif temp_categorical[0][0] == \"Lainnya\":\n",
    "  encoded_categorical[1] = 1.0\n",
    "elif temp_categorical[0][0] == \"SHM\":\n",
    "  encoded_categorical[2] = 1.0\n",
    "\n",
    "if temp_categorical[0][1] == \"Cilandak\":\n",
    "  encoded_categorical[3] = 1.0\n",
    "elif temp_categorical[0][1] == \"Kebayoran Baru\":\n",
    "  encoded_categorical[4] = 1.0\n",
    "elif temp_categorical[0][1] == \"Kebayoran Lama\":\n",
    "  encoded_categorical[5] = 1.0\n",
    "elif temp_categorical[0][1] == \"Mampang Prapatan\":\n",
    "  encoded_categorical[6] = 1.0\n",
    "elif temp_categorical[0][1] == \"Pancoran\":\n",
    "  encoded_categorical[7] = 1.0\n",
    "elif temp_categorical[0][1] == \"Pasar Minggu\":\n",
    "  encoded_categorical[8] = 1.0\n",
    "elif temp_categorical[0][1] == \"Pesanggrahan\":\n",
    "  encoded_categorical[9] = 1.0\n",
    "elif temp_categorical[0][1] == \"Setia Budi\":\n",
    "  encoded_categorical[10] = 1.0\n",
    "elif temp_categorical[0][1] == \"Tebet\":\n",
    "  encoded_categorical[11] = 1.0\n",
    "\n",
    "merged_transformed_encoded = []\n",
    "merged_transformed_encoded.extend(transformed_numerical[0])\n",
    "merged_transformed_encoded.extend(encoded_categorical)\n",
    "\n",
    "\n",
    "input_model= [merged_transformed_encoded]\n",
    "input_model\n",
    "\n"
   ]
  },
  {
   "cell_type": "code",
   "execution_count": 422,
   "metadata": {},
   "outputs": [
    {
     "name": "stderr",
     "output_type": "stream",
     "text": [
      "/Library/Frameworks/Python.framework/Versions/3.10/lib/python3.10/site-packages/sklearn/base.py:450: UserWarning: X does not have valid feature names, but LinearRegression was fitted with feature names\n",
      "  warnings.warn(\n"
     ]
    },
    {
     "data": {
      "text/plain": [
       "array([1.99993171e+09])"
      ]
     },
     "execution_count": 422,
     "metadata": {},
     "output_type": "execute_result"
    }
   ],
   "source": [
    "lm.predict(input_model)"
   ]
  },
  {
   "cell_type": "markdown",
   "metadata": {},
   "source": [
    "Pickling the Model File"
   ]
  },
  {
   "cell_type": "code",
   "execution_count": 326,
   "metadata": {},
   "outputs": [],
   "source": [
    "import pickle\n"
   ]
  },
  {
   "cell_type": "code",
   "execution_count": 327,
   "metadata": {},
   "outputs": [],
   "source": [
    "pickle.dump(df,open('../data/final/df.pkl','wb'))\n",
    "pickle.dump(lm,open('../data/final/regmodel.pkl','wb'))"
   ]
  },
  {
   "cell_type": "code",
   "execution_count": 328,
   "metadata": {},
   "outputs": [],
   "source": [
    "#testing the pickle model\n",
    "pickled_model=pickle.load(open(\"../data/final/regmodel.pkl\",\"rb\"))"
   ]
  },
  {
   "cell_type": "code",
   "execution_count": 330,
   "metadata": {},
   "outputs": [
    {
     "name": "stderr",
     "output_type": "stream",
     "text": [
      "/Library/Frameworks/Python.framework/Versions/3.10/lib/python3.10/site-packages/sklearn/base.py:450: UserWarning: X does not have valid feature names, but LinearRegression was fitted with feature names\n",
      "  warnings.warn(\n"
     ]
    },
    {
     "data": {
      "text/plain": [
       "array([1.99993171e+09])"
      ]
     },
     "execution_count": 330,
     "metadata": {},
     "output_type": "execute_result"
    }
   ],
   "source": [
    "pickled_model.predict(input_model)"
   ]
  },
  {
   "cell_type": "markdown",
   "metadata": {},
   "source": [
    "# FIN"
   ]
  },
  {
   "cell_type": "markdown",
   "metadata": {},
   "source": []
  }
 ],
 "metadata": {
  "kernelspec": {
   "display_name": "Python 3.10.5 64-bit",
   "language": "python",
   "name": "python3"
  },
  "language_info": {
   "codemirror_mode": {
    "name": "ipython",
    "version": 3
   },
   "file_extension": ".py",
   "mimetype": "text/x-python",
   "name": "python",
   "nbconvert_exporter": "python",
   "pygments_lexer": "ipython3",
   "version": "3.10.5"
  },
  "orig_nbformat": 4,
  "vscode": {
   "interpreter": {
    "hash": "aee8b7b246df8f9039afb4144a1f6fd8d2ca17a180786b69acc140d282b71a49"
   }
  }
 },
 "nbformat": 4,
 "nbformat_minor": 2
}
