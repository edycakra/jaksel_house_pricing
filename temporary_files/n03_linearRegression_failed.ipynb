{
 "cells": [
  {
   "cell_type": "markdown",
   "metadata": {},
   "source": [
    "## Linear Regression Machine Learning Implementation, Case: South Jakarta House Price\n",
    "## Part 3: Linear Regression Implementation\n",
    "### Author: Edycakra Immanuel Sinaga"
   ]
  },
  {
   "cell_type": "code",
   "execution_count": 178,
   "metadata": {},
   "outputs": [],
   "source": [
    "#import dependencies\n",
    "import pandas as pd\n",
    "import numpy as np\n",
    "import matplotlib.pyplot as plt\n",
    "import seaborn as sns\n",
    "from sklearn.compose import ColumnTransformer\n",
    "from sklearn.preprocessing import OneHotEncoder\n",
    "from sklearn import linear_model\n",
    "%matplotlib inline"
   ]
  },
  {
   "cell_type": "markdown",
   "metadata": {},
   "source": [
    "Load Dataset"
   ]
  },
  {
   "cell_type": "code",
   "execution_count": 201,
   "metadata": {},
   "outputs": [],
   "source": [
    "df = pd.read_csv('../data/final/olx_house_final_ENG.csv', encoding='latin-1')"
   ]
  },
  {
   "cell_type": "code",
   "execution_count": 202,
   "metadata": {},
   "outputs": [
    {
     "data": {
      "text/html": [
       "<div>\n",
       "<style scoped>\n",
       "    .dataframe tbody tr th:only-of-type {\n",
       "        vertical-align: middle;\n",
       "    }\n",
       "\n",
       "    .dataframe tbody tr th {\n",
       "        vertical-align: top;\n",
       "    }\n",
       "\n",
       "    .dataframe thead th {\n",
       "        text-align: right;\n",
       "    }\n",
       "</style>\n",
       "<table border=\"1\" class=\"dataframe\">\n",
       "  <thead>\n",
       "    <tr style=\"text-align: right;\">\n",
       "      <th></th>\n",
       "      <th>NBED</th>\n",
       "      <th>NBATH</th>\n",
       "      <th>NFLOOR</th>\n",
       "      <th>BLDAR</th>\n",
       "      <th>LNDAR</th>\n",
       "      <th>CERT</th>\n",
       "      <th>LOC</th>\n",
       "      <th>Price</th>\n",
       "    </tr>\n",
       "  </thead>\n",
       "  <tbody>\n",
       "    <tr>\n",
       "      <th>0</th>\n",
       "      <td>5</td>\n",
       "      <td>5</td>\n",
       "      <td>2</td>\n",
       "      <td>133</td>\n",
       "      <td>200</td>\n",
       "      <td>SHM</td>\n",
       "      <td>Jagakarsa</td>\n",
       "      <td>2460000000</td>\n",
       "    </tr>\n",
       "    <tr>\n",
       "      <th>1</th>\n",
       "      <td>6</td>\n",
       "      <td>1</td>\n",
       "      <td>1</td>\n",
       "      <td>148</td>\n",
       "      <td>148</td>\n",
       "      <td>SHM</td>\n",
       "      <td>Setia Budi</td>\n",
       "      <td>1100000000</td>\n",
       "    </tr>\n",
       "    <tr>\n",
       "      <th>2</th>\n",
       "      <td>5</td>\n",
       "      <td>4</td>\n",
       "      <td>3</td>\n",
       "      <td>84</td>\n",
       "      <td>200</td>\n",
       "      <td>SHM</td>\n",
       "      <td>Tebet</td>\n",
       "      <td>2100000000</td>\n",
       "    </tr>\n",
       "    <tr>\n",
       "      <th>3</th>\n",
       "      <td>4</td>\n",
       "      <td>3</td>\n",
       "      <td>2</td>\n",
       "      <td>160</td>\n",
       "      <td>190</td>\n",
       "      <td>SHM</td>\n",
       "      <td>Cilandak</td>\n",
       "      <td>3600000000</td>\n",
       "    </tr>\n",
       "    <tr>\n",
       "      <th>4</th>\n",
       "      <td>3</td>\n",
       "      <td>3</td>\n",
       "      <td>2</td>\n",
       "      <td>134</td>\n",
       "      <td>130</td>\n",
       "      <td>SHM</td>\n",
       "      <td>Pasar Minggu</td>\n",
       "      <td>2800000000</td>\n",
       "    </tr>\n",
       "  </tbody>\n",
       "</table>\n",
       "</div>"
      ],
      "text/plain": [
       "   NBED  NBATH  NFLOOR  BLDAR  LNDAR CERT           LOC       Price\n",
       "0     5      5       2    133    200  SHM     Jagakarsa  2460000000\n",
       "1     6      1       1    148    148  SHM    Setia Budi  1100000000\n",
       "2     5      4       3     84    200  SHM         Tebet  2100000000\n",
       "3     4      3       2    160    190  SHM      Cilandak  3600000000\n",
       "4     3      3       2    134    130  SHM  Pasar Minggu  2800000000"
      ]
     },
     "execution_count": 202,
     "metadata": {},
     "output_type": "execute_result"
    }
   ],
   "source": [
    "df.head()"
   ]
  },
  {
   "cell_type": "markdown",
   "metadata": {},
   "source": [
    "Splitting Data: Separate Features and Target"
   ]
  },
  {
   "cell_type": "code",
   "execution_count": 203,
   "metadata": {},
   "outputs": [],
   "source": [
    "X = df.drop(columns=[\"Price\"])\n",
    "y = np.log(df[\"Price\"])\n"
   ]
  },
  {
   "cell_type": "code",
   "execution_count": 204,
   "metadata": {},
   "outputs": [
    {
     "name": "stdout",
     "output_type": "stream",
     "text": [
      "<class 'pandas.core.frame.DataFrame'>\n",
      "RangeIndex: 298 entries, 0 to 297\n",
      "Data columns (total 7 columns):\n",
      " #   Column  Non-Null Count  Dtype \n",
      "---  ------  --------------  ----- \n",
      " 0   NBED    298 non-null    int64 \n",
      " 1   NBATH   298 non-null    int64 \n",
      " 2   NFLOOR  298 non-null    int64 \n",
      " 3   BLDAR   298 non-null    int64 \n",
      " 4   LNDAR   298 non-null    int64 \n",
      " 5   CERT    298 non-null    object\n",
      " 6   LOC     298 non-null    object\n",
      "dtypes: int64(5), object(2)\n",
      "memory usage: 16.4+ KB\n"
     ]
    }
   ],
   "source": [
    "X.info()"
   ]
  },
  {
   "cell_type": "code",
   "execution_count": 205,
   "metadata": {},
   "outputs": [
    {
     "name": "stdout",
     "output_type": "stream",
     "text": [
      "<class 'pandas.core.series.Series'>\n",
      "RangeIndex: 298 entries, 0 to 297\n",
      "Series name: Price\n",
      "Non-Null Count  Dtype  \n",
      "--------------  -----  \n",
      "298 non-null    float64\n",
      "dtypes: float64(1)\n",
      "memory usage: 2.5 KB\n"
     ]
    }
   ],
   "source": [
    "y.info()"
   ]
  },
  {
   "cell_type": "markdown",
   "metadata": {},
   "source": [
    "One Hot Encode the Categorical Attributes before Separating Train and Test"
   ]
  },
  {
   "cell_type": "code",
   "execution_count": 206,
   "metadata": {},
   "outputs": [
    {
     "name": "stdout",
     "output_type": "stream",
     "text": [
      "<class 'pandas.core.frame.DataFrame'>\n",
      "RangeIndex: 298 entries, 0 to 297\n",
      "Data columns (total 18 columns):\n",
      " #   Column                              Non-Null Count  Dtype  \n",
      "---  ------                              --------------  -----  \n",
      " 0   onehotencoder__x0_HGB               298 non-null    float64\n",
      " 1   onehotencoder__x0_Lainnya           298 non-null    float64\n",
      " 2   onehotencoder__x0_SHM               298 non-null    float64\n",
      " 3   onehotencoder__x1_Cilandak          298 non-null    float64\n",
      " 4   onehotencoder__x1_Jagakarsa         298 non-null    float64\n",
      " 5   onehotencoder__x1_Kebayoran Baru    298 non-null    float64\n",
      " 6   onehotencoder__x1_Kebayoran Lama    298 non-null    float64\n",
      " 7   onehotencoder__x1_Mampang Prapatan  298 non-null    float64\n",
      " 8   onehotencoder__x1_Pancoran          298 non-null    float64\n",
      " 9   onehotencoder__x1_Pasar Minggu      298 non-null    float64\n",
      " 10  onehotencoder__x1_Pesanggrahan      298 non-null    float64\n",
      " 11  onehotencoder__x1_Setia Budi        298 non-null    float64\n",
      " 12  onehotencoder__x1_Tebet             298 non-null    float64\n",
      " 13  NBED                                298 non-null    float64\n",
      " 14  NBATH                               298 non-null    float64\n",
      " 15  NFLOOR                              298 non-null    float64\n",
      " 16  BLDAR                               298 non-null    float64\n",
      " 17  LNDAR                               298 non-null    float64\n",
      "dtypes: float64(18)\n",
      "memory usage: 42.0 KB\n"
     ]
    },
    {
     "name": "stderr",
     "output_type": "stream",
     "text": [
      "/Library/Frameworks/Python.framework/Versions/3.10/lib/python3.10/site-packages/sklearn/utils/deprecation.py:87: FutureWarning: Function get_feature_names is deprecated; get_feature_names is deprecated in 1.0 and will be removed in 1.2. Please use get_feature_names_out instead.\n",
      "  warnings.warn(msg, category=FutureWarning)\n"
     ]
    }
   ],
   "source": [
    "from sklearn.compose import make_column_transformer\n",
    "\n",
    "transformer = make_column_transformer((OneHotEncoder(), [\"CERT\", \"LOC\"]), remainder='passthrough')\n",
    "\n",
    "transformed = transformer.fit_transform(X)\n",
    "X_transformed = pd.DataFrame(transformed, columns=transformer.get_feature_names())\n",
    "X_transformed.info()\n",
    "\n"
   ]
  },
  {
   "cell_type": "markdown",
   "metadata": {},
   "source": [
    "Splitting Data: Separate Train and Test"
   ]
  },
  {
   "cell_type": "code",
   "execution_count": 207,
   "metadata": {},
   "outputs": [],
   "source": [
    "from sklearn.model_selection import train_test_split\n",
    "X_train, X_test, y_train, y_test = train_test_split(X_transformed, y, test_size=0.15, random_state=2)\n"
   ]
  },
  {
   "cell_type": "code",
   "execution_count": 208,
   "metadata": {},
   "outputs": [
    {
     "name": "stdout",
     "output_type": "stream",
     "text": [
      "<class 'pandas.core.frame.DataFrame'>\n",
      "Int64Index: 253 entries, 74 to 168\n",
      "Data columns (total 18 columns):\n",
      " #   Column                              Non-Null Count  Dtype  \n",
      "---  ------                              --------------  -----  \n",
      " 0   onehotencoder__x0_HGB               253 non-null    float64\n",
      " 1   onehotencoder__x0_Lainnya           253 non-null    float64\n",
      " 2   onehotencoder__x0_SHM               253 non-null    float64\n",
      " 3   onehotencoder__x1_Cilandak          253 non-null    float64\n",
      " 4   onehotencoder__x1_Jagakarsa         253 non-null    float64\n",
      " 5   onehotencoder__x1_Kebayoran Baru    253 non-null    float64\n",
      " 6   onehotencoder__x1_Kebayoran Lama    253 non-null    float64\n",
      " 7   onehotencoder__x1_Mampang Prapatan  253 non-null    float64\n",
      " 8   onehotencoder__x1_Pancoran          253 non-null    float64\n",
      " 9   onehotencoder__x1_Pasar Minggu      253 non-null    float64\n",
      " 10  onehotencoder__x1_Pesanggrahan      253 non-null    float64\n",
      " 11  onehotencoder__x1_Setia Budi        253 non-null    float64\n",
      " 12  onehotencoder__x1_Tebet             253 non-null    float64\n",
      " 13  NBED                                253 non-null    float64\n",
      " 14  NBATH                               253 non-null    float64\n",
      " 15  NFLOOR                              253 non-null    float64\n",
      " 16  BLDAR                               253 non-null    float64\n",
      " 17  LNDAR                               253 non-null    float64\n",
      "dtypes: float64(18)\n",
      "memory usage: 37.6 KB\n"
     ]
    }
   ],
   "source": [
    "X_train.info()"
   ]
  },
  {
   "cell_type": "code",
   "execution_count": 209,
   "metadata": {},
   "outputs": [
    {
     "name": "stdout",
     "output_type": "stream",
     "text": [
      "<class 'pandas.core.frame.DataFrame'>\n",
      "Int64Index: 45 entries, 179 to 174\n",
      "Data columns (total 18 columns):\n",
      " #   Column                              Non-Null Count  Dtype  \n",
      "---  ------                              --------------  -----  \n",
      " 0   onehotencoder__x0_HGB               45 non-null     float64\n",
      " 1   onehotencoder__x0_Lainnya           45 non-null     float64\n",
      " 2   onehotencoder__x0_SHM               45 non-null     float64\n",
      " 3   onehotencoder__x1_Cilandak          45 non-null     float64\n",
      " 4   onehotencoder__x1_Jagakarsa         45 non-null     float64\n",
      " 5   onehotencoder__x1_Kebayoran Baru    45 non-null     float64\n",
      " 6   onehotencoder__x1_Kebayoran Lama    45 non-null     float64\n",
      " 7   onehotencoder__x1_Mampang Prapatan  45 non-null     float64\n",
      " 8   onehotencoder__x1_Pancoran          45 non-null     float64\n",
      " 9   onehotencoder__x1_Pasar Minggu      45 non-null     float64\n",
      " 10  onehotencoder__x1_Pesanggrahan      45 non-null     float64\n",
      " 11  onehotencoder__x1_Setia Budi        45 non-null     float64\n",
      " 12  onehotencoder__x1_Tebet             45 non-null     float64\n",
      " 13  NBED                                45 non-null     float64\n",
      " 14  NBATH                               45 non-null     float64\n",
      " 15  NFLOOR                              45 non-null     float64\n",
      " 16  BLDAR                               45 non-null     float64\n",
      " 17  LNDAR                               45 non-null     float64\n",
      "dtypes: float64(18)\n",
      "memory usage: 6.7 KB\n"
     ]
    }
   ],
   "source": [
    "X_test.info()"
   ]
  },
  {
   "cell_type": "markdown",
   "metadata": {},
   "source": [
    "Standardize the Dataset"
   ]
  },
  {
   "cell_type": "code",
   "execution_count": 210,
   "metadata": {},
   "outputs": [
    {
     "data": {
      "text/plain": [
       "array([[-0.26493002, -0.47071534,  0.19184843, -0.46342265, -0.64368334],\n",
       "       [-0.26493002, -0.47071534,  0.19184843, -0.23636187,  0.70400993],\n",
       "       [ 0.62876725, -0.47071534,  0.19184843,  0.17647591,  0.87247159],\n",
       "       ...,\n",
       "       [ 1.52246453,  1.26783913,  0.19184843,  0.05262458,  0.70400993],\n",
       "       [-0.26493002, -0.47071534, -1.37388233,  2.2819486 ,  0.87247159],\n",
       "       [ 0.62876725,  1.26783913,  0.19184843,  0.50674614,  0.87247159]])"
      ]
     },
     "execution_count": 210,
     "metadata": {},
     "output_type": "execute_result"
    }
   ],
   "source": [
    "#separate numerical and categorical attributes (we will onehotencode the categorical attributes later)\n",
    "from sklearn.preprocessing import StandardScaler\n",
    "scaler=StandardScaler()\n",
    "\n",
    "#for training data\n",
    "X_train_num=X_train[[\"NBED\", \"NBATH\", \"NFLOOR\", \"BLDAR\", \"LNDAR\"]].copy()\n",
    "X_train_std = scaler.fit_transform(X_train_num)\n",
    "X_train_std\n"
   ]
  },
  {
   "cell_type": "code",
   "execution_count": 211,
   "metadata": {},
   "outputs": [
    {
     "data": {
      "text/plain": [
       "array([[-0.17413151, -0.4375    , -1.40563383, -0.90222172, -0.87799914],\n",
       "       [-0.17413151,  0.5       ,  0.40160966,  0.02888144,  0.29933538],\n",
       "       [-0.17413151, -0.4375    , -1.40563383,  0.43623907, -0.06425322],\n",
       "       [-0.17413151,  1.4375    ,  0.40160966, -0.16509838,  0.76680644],\n",
       "       [-0.17413151, -0.4375    ,  0.40160966,  2.00747566, -0.39321434],\n",
       "       [-0.17413151,  0.5       ,  0.40160966,  1.19276039,  0.47247281],\n",
       "       [-1.29354835, -1.375     , -1.40563383, -1.17379348, -1.25890149],\n",
       "       [-1.29354835, -1.375     , -1.40563383, -0.55305804, -0.9818816 ],\n",
       "       [-0.17413151, -0.4375    ,  0.40160966, -0.78583383, -0.79143043],\n",
       "       [-0.17413151,  0.5       ,  0.40160966, -0.28148628,  0.71486521],\n",
       "       [-1.29354835, -1.375     , -1.40563383, -0.39787418, -0.91262663],\n",
       "       [-1.29354835, -1.375     , -1.40563383, -0.78583383, -1.08576406],\n",
       "       [ 3.18411901,  3.3125    ,  0.40160966,  1.34794425,  2.89639682],\n",
       "       [-0.17413151, -0.4375    ,  0.40160966, -0.78583383, -0.79143043],\n",
       "       [-0.17413151,  0.5       ,  0.40160966, -0.591854  , -0.32395937],\n",
       "       [-0.17413151, -0.4375    ,  0.40160966, -0.78583383, -0.79143043],\n",
       "       [-0.17413151,  0.5       ,  0.40160966, -0.78583383, -0.41052808],\n",
       "       [ 0.94528533,  0.5       ,  0.40160966, -0.32028225,  0.02231549],\n",
       "       [-1.29354835, -1.375     , -1.40563383, -0.55305804, -0.9818816 ],\n",
       "       [-0.17413151, -0.4375    , -1.40563383, -0.78583383, -1.15501903],\n",
       "       [ 0.94528533,  0.5       ,  0.40160966,  1.15396443,  1.51129738],\n",
       "       [-1.29354835, -0.4375    ,  0.40160966, -0.99921163, -0.04693948],\n",
       "       [ 0.94528533,  0.5       ,  0.40160966,  0.08707539,  0.21276666],\n",
       "       [ 0.94528533,  1.4375    ,  2.20885315, -0.30088426,  1.42472867],\n",
       "       [-1.29354835, -0.4375    ,  0.40160966, -0.78583383, -0.53172428],\n",
       "       [ 0.94528533, -0.4375    ,  0.40160966, -0.41727216,  0.64561024],\n",
       "       [-0.17413151,  0.5       ,  0.40160966, -0.32028225,  0.33396286],\n",
       "       [ 0.94528533,  0.5       ,  0.40160966,  0.08707539,  0.21276666],\n",
       "       [-1.29354835, -1.375     , -1.40563383, -0.78583383, -1.15501903],\n",
       "       [-0.17413151, -0.4375    ,  0.40160966,  2.00747566, -0.39321434],\n",
       "       [-0.17413151, -0.4375    ,  2.20885315, -0.53366005, -0.80874417],\n",
       "       [ 0.94528533,  1.4375    ,  2.20885315, -0.55305804,  0.40321784],\n",
       "       [-0.17413151, -0.4375    ,  0.40160966, -0.55305804, -0.35858685],\n",
       "       [ 2.06470217,  2.375     , -1.40563383,  3.24894654,  2.86176933],\n",
       "       [ 0.94528533,  0.5       ,  0.40160966,  1.58072004,  0.99188509],\n",
       "       [-0.17413151, -0.4375    ,  0.40160966, -0.99921163, -0.04693948],\n",
       "       [ 0.94528533,  0.5       ,  0.40160966, -0.28148628,  0.29933538],\n",
       "       [-0.17413151, -0.4375    ,  0.40160966, -0.78583383, -0.4970968 ],\n",
       "       [-0.17413151, -0.4375    , -1.40563383, -0.00991452, -0.47978305],\n",
       "       [ 2.06470217,  1.4375    ,  0.40160966,  0.12587135,  1.1130813 ],\n",
       "       [-0.17413151, -0.4375    ,  0.40160966, -0.33968023, -0.47978305],\n",
       "       [-1.29354835, -1.375     , -1.40563383, -0.20389435, -1.15501903],\n",
       "       [-0.17413151, -0.4375    ,  0.40160966,  2.00747566, -0.39321434],\n",
       "       [ 0.94528533,  0.5       ,  0.40160966,  1.25095434,  2.2038471 ],\n",
       "       [-1.29354835, -0.4375    , -1.40563383,  0.9599846 , -0.22007691]])"
      ]
     },
     "execution_count": 211,
     "metadata": {},
     "output_type": "execute_result"
    }
   ],
   "source": [
    "#for test data\n",
    "X_test_num=X_test[[\"NBED\", \"NBATH\", \"NFLOOR\", \"BLDAR\", \"LNDAR\"]].copy()\n",
    "# X_test_num.drop(columns=['CERT', 'LOC'], inplace=True)\n",
    "X_test_std = scaler.fit_transform(X_test_num)\n",
    "X_test_std"
   ]
  },
  {
   "cell_type": "code",
   "execution_count": 212,
   "metadata": {},
   "outputs": [
    {
     "data": {
      "text/html": [
       "<div>\n",
       "<style scoped>\n",
       "    .dataframe tbody tr th:only-of-type {\n",
       "        vertical-align: middle;\n",
       "    }\n",
       "\n",
       "    .dataframe tbody tr th {\n",
       "        vertical-align: top;\n",
       "    }\n",
       "\n",
       "    .dataframe thead th {\n",
       "        text-align: right;\n",
       "    }\n",
       "</style>\n",
       "<table border=\"1\" class=\"dataframe\">\n",
       "  <thead>\n",
       "    <tr style=\"text-align: right;\">\n",
       "      <th></th>\n",
       "      <th>NBED</th>\n",
       "      <th>NBATH</th>\n",
       "      <th>NFLOOR</th>\n",
       "      <th>BLDAR</th>\n",
       "      <th>LNDAR</th>\n",
       "    </tr>\n",
       "  </thead>\n",
       "  <tbody>\n",
       "    <tr>\n",
       "      <th>74</th>\n",
       "      <td>-0.264930</td>\n",
       "      <td>-0.470715</td>\n",
       "      <td>0.191848</td>\n",
       "      <td>-0.463423</td>\n",
       "      <td>-0.643683</td>\n",
       "    </tr>\n",
       "    <tr>\n",
       "      <th>188</th>\n",
       "      <td>-0.264930</td>\n",
       "      <td>-0.470715</td>\n",
       "      <td>0.191848</td>\n",
       "      <td>-0.236362</td>\n",
       "      <td>0.704010</td>\n",
       "    </tr>\n",
       "    <tr>\n",
       "      <th>239</th>\n",
       "      <td>0.628767</td>\n",
       "      <td>-0.470715</td>\n",
       "      <td>0.191848</td>\n",
       "      <td>0.176476</td>\n",
       "      <td>0.872472</td>\n",
       "    </tr>\n",
       "    <tr>\n",
       "      <th>283</th>\n",
       "      <td>-0.264930</td>\n",
       "      <td>-0.470715</td>\n",
       "      <td>0.191848</td>\n",
       "      <td>0.609956</td>\n",
       "      <td>-0.390991</td>\n",
       "    </tr>\n",
       "    <tr>\n",
       "      <th>156</th>\n",
       "      <td>-0.264930</td>\n",
       "      <td>0.398562</td>\n",
       "      <td>0.191848</td>\n",
       "      <td>-0.277646</td>\n",
       "      <td>-0.677376</td>\n",
       "    </tr>\n",
       "  </tbody>\n",
       "</table>\n",
       "</div>"
      ],
      "text/plain": [
       "         NBED     NBATH    NFLOOR     BLDAR     LNDAR\n",
       "74  -0.264930 -0.470715  0.191848 -0.463423 -0.643683\n",
       "188 -0.264930 -0.470715  0.191848 -0.236362  0.704010\n",
       "239  0.628767 -0.470715  0.191848  0.176476  0.872472\n",
       "283 -0.264930 -0.470715  0.191848  0.609956 -0.390991\n",
       "156 -0.264930  0.398562  0.191848 -0.277646 -0.677376"
      ]
     },
     "execution_count": 212,
     "metadata": {},
     "output_type": "execute_result"
    }
   ],
   "source": [
    "scaled_X_train = pd.DataFrame(X_train_std, index=X_train_num.index, columns=X_train_num.columns)\n",
    "scaled_X_train.head()"
   ]
  },
  {
   "cell_type": "code",
   "execution_count": 213,
   "metadata": {},
   "outputs": [
    {
     "data": {
      "text/html": [
       "<div>\n",
       "<style scoped>\n",
       "    .dataframe tbody tr th:only-of-type {\n",
       "        vertical-align: middle;\n",
       "    }\n",
       "\n",
       "    .dataframe tbody tr th {\n",
       "        vertical-align: top;\n",
       "    }\n",
       "\n",
       "    .dataframe thead th {\n",
       "        text-align: right;\n",
       "    }\n",
       "</style>\n",
       "<table border=\"1\" class=\"dataframe\">\n",
       "  <thead>\n",
       "    <tr style=\"text-align: right;\">\n",
       "      <th></th>\n",
       "      <th>NBED</th>\n",
       "      <th>NBATH</th>\n",
       "      <th>NFLOOR</th>\n",
       "      <th>BLDAR</th>\n",
       "      <th>LNDAR</th>\n",
       "      <th>onehotencoder__x0_HGB</th>\n",
       "      <th>onehotencoder__x0_Lainnya</th>\n",
       "      <th>onehotencoder__x0_SHM</th>\n",
       "      <th>onehotencoder__x1_Cilandak</th>\n",
       "      <th>onehotencoder__x1_Jagakarsa</th>\n",
       "      <th>onehotencoder__x1_Kebayoran Baru</th>\n",
       "      <th>onehotencoder__x1_Kebayoran Lama</th>\n",
       "      <th>onehotencoder__x1_Mampang Prapatan</th>\n",
       "      <th>onehotencoder__x1_Pancoran</th>\n",
       "      <th>onehotencoder__x1_Pasar Minggu</th>\n",
       "      <th>onehotencoder__x1_Pesanggrahan</th>\n",
       "      <th>onehotencoder__x1_Setia Budi</th>\n",
       "      <th>onehotencoder__x1_Tebet</th>\n",
       "    </tr>\n",
       "  </thead>\n",
       "  <tbody>\n",
       "    <tr>\n",
       "      <th>74</th>\n",
       "      <td>-0.264930</td>\n",
       "      <td>-0.470715</td>\n",
       "      <td>0.191848</td>\n",
       "      <td>-0.463423</td>\n",
       "      <td>-0.643683</td>\n",
       "      <td>0.0</td>\n",
       "      <td>0.0</td>\n",
       "      <td>1.0</td>\n",
       "      <td>0.0</td>\n",
       "      <td>0.0</td>\n",
       "      <td>0.0</td>\n",
       "      <td>0.0</td>\n",
       "      <td>0.0</td>\n",
       "      <td>1.0</td>\n",
       "      <td>0.0</td>\n",
       "      <td>0.0</td>\n",
       "      <td>0.0</td>\n",
       "      <td>0.0</td>\n",
       "    </tr>\n",
       "    <tr>\n",
       "      <th>188</th>\n",
       "      <td>-0.264930</td>\n",
       "      <td>-0.470715</td>\n",
       "      <td>0.191848</td>\n",
       "      <td>-0.236362</td>\n",
       "      <td>0.704010</td>\n",
       "      <td>0.0</td>\n",
       "      <td>0.0</td>\n",
       "      <td>1.0</td>\n",
       "      <td>1.0</td>\n",
       "      <td>0.0</td>\n",
       "      <td>0.0</td>\n",
       "      <td>0.0</td>\n",
       "      <td>0.0</td>\n",
       "      <td>0.0</td>\n",
       "      <td>0.0</td>\n",
       "      <td>0.0</td>\n",
       "      <td>0.0</td>\n",
       "      <td>0.0</td>\n",
       "    </tr>\n",
       "    <tr>\n",
       "      <th>239</th>\n",
       "      <td>0.628767</td>\n",
       "      <td>-0.470715</td>\n",
       "      <td>0.191848</td>\n",
       "      <td>0.176476</td>\n",
       "      <td>0.872472</td>\n",
       "      <td>0.0</td>\n",
       "      <td>0.0</td>\n",
       "      <td>1.0</td>\n",
       "      <td>1.0</td>\n",
       "      <td>0.0</td>\n",
       "      <td>0.0</td>\n",
       "      <td>0.0</td>\n",
       "      <td>0.0</td>\n",
       "      <td>0.0</td>\n",
       "      <td>0.0</td>\n",
       "      <td>0.0</td>\n",
       "      <td>0.0</td>\n",
       "      <td>0.0</td>\n",
       "    </tr>\n",
       "    <tr>\n",
       "      <th>283</th>\n",
       "      <td>-0.264930</td>\n",
       "      <td>-0.470715</td>\n",
       "      <td>0.191848</td>\n",
       "      <td>0.609956</td>\n",
       "      <td>-0.390991</td>\n",
       "      <td>0.0</td>\n",
       "      <td>0.0</td>\n",
       "      <td>1.0</td>\n",
       "      <td>0.0</td>\n",
       "      <td>0.0</td>\n",
       "      <td>0.0</td>\n",
       "      <td>0.0</td>\n",
       "      <td>0.0</td>\n",
       "      <td>0.0</td>\n",
       "      <td>0.0</td>\n",
       "      <td>1.0</td>\n",
       "      <td>0.0</td>\n",
       "      <td>0.0</td>\n",
       "    </tr>\n",
       "    <tr>\n",
       "      <th>156</th>\n",
       "      <td>-0.264930</td>\n",
       "      <td>0.398562</td>\n",
       "      <td>0.191848</td>\n",
       "      <td>-0.277646</td>\n",
       "      <td>-0.677376</td>\n",
       "      <td>0.0</td>\n",
       "      <td>0.0</td>\n",
       "      <td>1.0</td>\n",
       "      <td>0.0</td>\n",
       "      <td>0.0</td>\n",
       "      <td>0.0</td>\n",
       "      <td>0.0</td>\n",
       "      <td>1.0</td>\n",
       "      <td>0.0</td>\n",
       "      <td>0.0</td>\n",
       "      <td>0.0</td>\n",
       "      <td>0.0</td>\n",
       "      <td>0.0</td>\n",
       "    </tr>\n",
       "  </tbody>\n",
       "</table>\n",
       "</div>"
      ],
      "text/plain": [
       "         NBED     NBATH    NFLOOR     BLDAR     LNDAR  onehotencoder__x0_HGB  \\\n",
       "74  -0.264930 -0.470715  0.191848 -0.463423 -0.643683                    0.0   \n",
       "188 -0.264930 -0.470715  0.191848 -0.236362  0.704010                    0.0   \n",
       "239  0.628767 -0.470715  0.191848  0.176476  0.872472                    0.0   \n",
       "283 -0.264930 -0.470715  0.191848  0.609956 -0.390991                    0.0   \n",
       "156 -0.264930  0.398562  0.191848 -0.277646 -0.677376                    0.0   \n",
       "\n",
       "     onehotencoder__x0_Lainnya  onehotencoder__x0_SHM  \\\n",
       "74                         0.0                    1.0   \n",
       "188                        0.0                    1.0   \n",
       "239                        0.0                    1.0   \n",
       "283                        0.0                    1.0   \n",
       "156                        0.0                    1.0   \n",
       "\n",
       "     onehotencoder__x1_Cilandak  onehotencoder__x1_Jagakarsa  \\\n",
       "74                          0.0                          0.0   \n",
       "188                         1.0                          0.0   \n",
       "239                         1.0                          0.0   \n",
       "283                         0.0                          0.0   \n",
       "156                         0.0                          0.0   \n",
       "\n",
       "     onehotencoder__x1_Kebayoran Baru  onehotencoder__x1_Kebayoran Lama  \\\n",
       "74                                0.0                               0.0   \n",
       "188                               0.0                               0.0   \n",
       "239                               0.0                               0.0   \n",
       "283                               0.0                               0.0   \n",
       "156                               0.0                               0.0   \n",
       "\n",
       "     onehotencoder__x1_Mampang Prapatan  onehotencoder__x1_Pancoran  \\\n",
       "74                                  0.0                         1.0   \n",
       "188                                 0.0                         0.0   \n",
       "239                                 0.0                         0.0   \n",
       "283                                 0.0                         0.0   \n",
       "156                                 1.0                         0.0   \n",
       "\n",
       "     onehotencoder__x1_Pasar Minggu  onehotencoder__x1_Pesanggrahan  \\\n",
       "74                              0.0                             0.0   \n",
       "188                             0.0                             0.0   \n",
       "239                             0.0                             0.0   \n",
       "283                             0.0                             1.0   \n",
       "156                             0.0                             0.0   \n",
       "\n",
       "     onehotencoder__x1_Setia Budi  onehotencoder__x1_Tebet  \n",
       "74                            0.0                      0.0  \n",
       "188                           0.0                      0.0  \n",
       "239                           0.0                      0.0  \n",
       "283                           0.0                      0.0  \n",
       "156                           0.0                      0.0  "
      ]
     },
     "execution_count": 213,
     "metadata": {},
     "output_type": "execute_result"
    }
   ],
   "source": [
    "#add categorical columns to standardized numerical columns\n",
    "X_train_new= scaled_X_train[[\"NBED\", \"NBATH\", \"NFLOOR\", \"BLDAR\", \"LNDAR\"]].copy()\n",
    "X_train_new[\"onehotencoder__x0_HGB\"] = X_train[\"onehotencoder__x0_HGB\"]\n",
    "X_train_new[\"onehotencoder__x0_Lainnya\"] = X_train[\"onehotencoder__x0_Lainnya\"]\n",
    "X_train_new[\"onehotencoder__x0_SHM\"] = X_train[\"onehotencoder__x0_SHM\"]\n",
    "X_train_new[\"onehotencoder__x1_Cilandak\"] = X_train[\"onehotencoder__x1_Cilandak\"]\n",
    "X_train_new[\"onehotencoder__x1_Jagakarsa\"] = X_train[\"onehotencoder__x1_Jagakarsa\"]\n",
    "X_train_new[\"onehotencoder__x1_Kebayoran Baru\"] = X_train[\"onehotencoder__x1_Kebayoran Baru\"]\n",
    "X_train_new[\"onehotencoder__x1_Kebayoran Lama\"] = X_train[\"onehotencoder__x1_Kebayoran Lama\"]\n",
    "X_train_new[\"onehotencoder__x1_Mampang Prapatan\"] = X_train[\"onehotencoder__x1_Mampang Prapatan\"]\n",
    "X_train_new[\"onehotencoder__x1_Pancoran\"] = X_train[\"onehotencoder__x1_Pancoran\"]\n",
    "X_train_new[\"onehotencoder__x1_Pasar Minggu\"] = X_train[\"onehotencoder__x1_Pasar Minggu\"]\n",
    "X_train_new[\"onehotencoder__x1_Pesanggrahan\"] = X_train[\"onehotencoder__x1_Pesanggrahan\"]\n",
    "X_train_new[\"onehotencoder__x1_Setia Budi\"] = X_train[\"onehotencoder__x1_Setia Budi\"]\n",
    "X_train_new[\"onehotencoder__x1_Tebet\"] = X_train[\"onehotencoder__x1_Tebet\"]\n",
    "\n",
    "X_train_new.head()\n",
    "# X_train.head()"
   ]
  },
  {
   "cell_type": "code",
   "execution_count": 214,
   "metadata": {},
   "outputs": [
    {
     "data": {
      "text/html": [
       "<div>\n",
       "<style scoped>\n",
       "    .dataframe tbody tr th:only-of-type {\n",
       "        vertical-align: middle;\n",
       "    }\n",
       "\n",
       "    .dataframe tbody tr th {\n",
       "        vertical-align: top;\n",
       "    }\n",
       "\n",
       "    .dataframe thead th {\n",
       "        text-align: right;\n",
       "    }\n",
       "</style>\n",
       "<table border=\"1\" class=\"dataframe\">\n",
       "  <thead>\n",
       "    <tr style=\"text-align: right;\">\n",
       "      <th></th>\n",
       "      <th>NBED</th>\n",
       "      <th>NBATH</th>\n",
       "      <th>NFLOOR</th>\n",
       "      <th>BLDAR</th>\n",
       "      <th>LNDAR</th>\n",
       "    </tr>\n",
       "  </thead>\n",
       "  <tbody>\n",
       "    <tr>\n",
       "      <th>179</th>\n",
       "      <td>-0.174132</td>\n",
       "      <td>-0.4375</td>\n",
       "      <td>-1.405634</td>\n",
       "      <td>-0.902222</td>\n",
       "      <td>-0.877999</td>\n",
       "    </tr>\n",
       "    <tr>\n",
       "      <th>221</th>\n",
       "      <td>-0.174132</td>\n",
       "      <td>0.5000</td>\n",
       "      <td>0.401610</td>\n",
       "      <td>0.028881</td>\n",
       "      <td>0.299335</td>\n",
       "    </tr>\n",
       "    <tr>\n",
       "      <th>226</th>\n",
       "      <td>-0.174132</td>\n",
       "      <td>-0.4375</td>\n",
       "      <td>-1.405634</td>\n",
       "      <td>0.436239</td>\n",
       "      <td>-0.064253</td>\n",
       "    </tr>\n",
       "    <tr>\n",
       "      <th>7</th>\n",
       "      <td>-0.174132</td>\n",
       "      <td>1.4375</td>\n",
       "      <td>0.401610</td>\n",
       "      <td>-0.165098</td>\n",
       "      <td>0.766806</td>\n",
       "    </tr>\n",
       "    <tr>\n",
       "      <th>173</th>\n",
       "      <td>-0.174132</td>\n",
       "      <td>-0.4375</td>\n",
       "      <td>0.401610</td>\n",
       "      <td>2.007476</td>\n",
       "      <td>-0.393214</td>\n",
       "    </tr>\n",
       "  </tbody>\n",
       "</table>\n",
       "</div>"
      ],
      "text/plain": [
       "         NBED   NBATH    NFLOOR     BLDAR     LNDAR\n",
       "179 -0.174132 -0.4375 -1.405634 -0.902222 -0.877999\n",
       "221 -0.174132  0.5000  0.401610  0.028881  0.299335\n",
       "226 -0.174132 -0.4375 -1.405634  0.436239 -0.064253\n",
       "7   -0.174132  1.4375  0.401610 -0.165098  0.766806\n",
       "173 -0.174132 -0.4375  0.401610  2.007476 -0.393214"
      ]
     },
     "execution_count": 214,
     "metadata": {},
     "output_type": "execute_result"
    }
   ],
   "source": [
    "scaled_X_test = pd.DataFrame(X_test_std, index=X_test_num.index, columns=X_test_num.columns)\n",
    "scaled_X_test.head()"
   ]
  },
  {
   "cell_type": "code",
   "execution_count": 215,
   "metadata": {},
   "outputs": [
    {
     "data": {
      "text/html": [
       "<div>\n",
       "<style scoped>\n",
       "    .dataframe tbody tr th:only-of-type {\n",
       "        vertical-align: middle;\n",
       "    }\n",
       "\n",
       "    .dataframe tbody tr th {\n",
       "        vertical-align: top;\n",
       "    }\n",
       "\n",
       "    .dataframe thead th {\n",
       "        text-align: right;\n",
       "    }\n",
       "</style>\n",
       "<table border=\"1\" class=\"dataframe\">\n",
       "  <thead>\n",
       "    <tr style=\"text-align: right;\">\n",
       "      <th></th>\n",
       "      <th>NBED</th>\n",
       "      <th>NBATH</th>\n",
       "      <th>NFLOOR</th>\n",
       "      <th>BLDAR</th>\n",
       "      <th>LNDAR</th>\n",
       "      <th>onehotencoder__x0_HGB</th>\n",
       "      <th>onehotencoder__x0_Lainnya</th>\n",
       "      <th>onehotencoder__x0_SHM</th>\n",
       "      <th>onehotencoder__x1_Cilandak</th>\n",
       "      <th>onehotencoder__x1_Jagakarsa</th>\n",
       "      <th>onehotencoder__x1_Kebayoran Baru</th>\n",
       "      <th>onehotencoder__x1_Kebayoran Lama</th>\n",
       "      <th>onehotencoder__x1_Mampang Prapatan</th>\n",
       "      <th>onehotencoder__x1_Pancoran</th>\n",
       "      <th>onehotencoder__x1_Pasar Minggu</th>\n",
       "      <th>onehotencoder__x1_Pesanggrahan</th>\n",
       "      <th>onehotencoder__x1_Setia Budi</th>\n",
       "      <th>onehotencoder__x1_Tebet</th>\n",
       "    </tr>\n",
       "  </thead>\n",
       "  <tbody>\n",
       "    <tr>\n",
       "      <th>179</th>\n",
       "      <td>-0.174132</td>\n",
       "      <td>-0.4375</td>\n",
       "      <td>-1.405634</td>\n",
       "      <td>-0.902222</td>\n",
       "      <td>-0.877999</td>\n",
       "      <td>0.0</td>\n",
       "      <td>0.0</td>\n",
       "      <td>1.0</td>\n",
       "      <td>0.0</td>\n",
       "      <td>0.0</td>\n",
       "      <td>0.0</td>\n",
       "      <td>0.0</td>\n",
       "      <td>0.0</td>\n",
       "      <td>1.0</td>\n",
       "      <td>0.0</td>\n",
       "      <td>0.0</td>\n",
       "      <td>0.0</td>\n",
       "      <td>0.0</td>\n",
       "    </tr>\n",
       "    <tr>\n",
       "      <th>221</th>\n",
       "      <td>-0.174132</td>\n",
       "      <td>0.5000</td>\n",
       "      <td>0.401610</td>\n",
       "      <td>0.028881</td>\n",
       "      <td>0.299335</td>\n",
       "      <td>0.0</td>\n",
       "      <td>0.0</td>\n",
       "      <td>1.0</td>\n",
       "      <td>0.0</td>\n",
       "      <td>0.0</td>\n",
       "      <td>1.0</td>\n",
       "      <td>0.0</td>\n",
       "      <td>0.0</td>\n",
       "      <td>0.0</td>\n",
       "      <td>0.0</td>\n",
       "      <td>0.0</td>\n",
       "      <td>0.0</td>\n",
       "      <td>0.0</td>\n",
       "    </tr>\n",
       "    <tr>\n",
       "      <th>226</th>\n",
       "      <td>-0.174132</td>\n",
       "      <td>-0.4375</td>\n",
       "      <td>-1.405634</td>\n",
       "      <td>0.436239</td>\n",
       "      <td>-0.064253</td>\n",
       "      <td>0.0</td>\n",
       "      <td>0.0</td>\n",
       "      <td>1.0</td>\n",
       "      <td>0.0</td>\n",
       "      <td>0.0</td>\n",
       "      <td>0.0</td>\n",
       "      <td>0.0</td>\n",
       "      <td>0.0</td>\n",
       "      <td>0.0</td>\n",
       "      <td>0.0</td>\n",
       "      <td>1.0</td>\n",
       "      <td>0.0</td>\n",
       "      <td>0.0</td>\n",
       "    </tr>\n",
       "    <tr>\n",
       "      <th>7</th>\n",
       "      <td>-0.174132</td>\n",
       "      <td>1.4375</td>\n",
       "      <td>0.401610</td>\n",
       "      <td>-0.165098</td>\n",
       "      <td>0.766806</td>\n",
       "      <td>0.0</td>\n",
       "      <td>0.0</td>\n",
       "      <td>1.0</td>\n",
       "      <td>0.0</td>\n",
       "      <td>0.0</td>\n",
       "      <td>0.0</td>\n",
       "      <td>0.0</td>\n",
       "      <td>0.0</td>\n",
       "      <td>0.0</td>\n",
       "      <td>0.0</td>\n",
       "      <td>1.0</td>\n",
       "      <td>0.0</td>\n",
       "      <td>0.0</td>\n",
       "    </tr>\n",
       "    <tr>\n",
       "      <th>173</th>\n",
       "      <td>-0.174132</td>\n",
       "      <td>-0.4375</td>\n",
       "      <td>0.401610</td>\n",
       "      <td>2.007476</td>\n",
       "      <td>-0.393214</td>\n",
       "      <td>0.0</td>\n",
       "      <td>0.0</td>\n",
       "      <td>1.0</td>\n",
       "      <td>0.0</td>\n",
       "      <td>0.0</td>\n",
       "      <td>0.0</td>\n",
       "      <td>0.0</td>\n",
       "      <td>0.0</td>\n",
       "      <td>1.0</td>\n",
       "      <td>0.0</td>\n",
       "      <td>0.0</td>\n",
       "      <td>0.0</td>\n",
       "      <td>0.0</td>\n",
       "    </tr>\n",
       "  </tbody>\n",
       "</table>\n",
       "</div>"
      ],
      "text/plain": [
       "         NBED   NBATH    NFLOOR     BLDAR     LNDAR  onehotencoder__x0_HGB  \\\n",
       "179 -0.174132 -0.4375 -1.405634 -0.902222 -0.877999                    0.0   \n",
       "221 -0.174132  0.5000  0.401610  0.028881  0.299335                    0.0   \n",
       "226 -0.174132 -0.4375 -1.405634  0.436239 -0.064253                    0.0   \n",
       "7   -0.174132  1.4375  0.401610 -0.165098  0.766806                    0.0   \n",
       "173 -0.174132 -0.4375  0.401610  2.007476 -0.393214                    0.0   \n",
       "\n",
       "     onehotencoder__x0_Lainnya  onehotencoder__x0_SHM  \\\n",
       "179                        0.0                    1.0   \n",
       "221                        0.0                    1.0   \n",
       "226                        0.0                    1.0   \n",
       "7                          0.0                    1.0   \n",
       "173                        0.0                    1.0   \n",
       "\n",
       "     onehotencoder__x1_Cilandak  onehotencoder__x1_Jagakarsa  \\\n",
       "179                         0.0                          0.0   \n",
       "221                         0.0                          0.0   \n",
       "226                         0.0                          0.0   \n",
       "7                           0.0                          0.0   \n",
       "173                         0.0                          0.0   \n",
       "\n",
       "     onehotencoder__x1_Kebayoran Baru  onehotencoder__x1_Kebayoran Lama  \\\n",
       "179                               0.0                               0.0   \n",
       "221                               1.0                               0.0   \n",
       "226                               0.0                               0.0   \n",
       "7                                 0.0                               0.0   \n",
       "173                               0.0                               0.0   \n",
       "\n",
       "     onehotencoder__x1_Mampang Prapatan  onehotencoder__x1_Pancoran  \\\n",
       "179                                 0.0                         1.0   \n",
       "221                                 0.0                         0.0   \n",
       "226                                 0.0                         0.0   \n",
       "7                                   0.0                         0.0   \n",
       "173                                 0.0                         1.0   \n",
       "\n",
       "     onehotencoder__x1_Pasar Minggu  onehotencoder__x1_Pesanggrahan  \\\n",
       "179                             0.0                             0.0   \n",
       "221                             0.0                             0.0   \n",
       "226                             0.0                             1.0   \n",
       "7                               0.0                             1.0   \n",
       "173                             0.0                             0.0   \n",
       "\n",
       "     onehotencoder__x1_Setia Budi  onehotencoder__x1_Tebet  \n",
       "179                           0.0                      0.0  \n",
       "221                           0.0                      0.0  \n",
       "226                           0.0                      0.0  \n",
       "7                             0.0                      0.0  \n",
       "173                           0.0                      0.0  "
      ]
     },
     "execution_count": 215,
     "metadata": {},
     "output_type": "execute_result"
    }
   ],
   "source": [
    "#add categorical columns to standardized numerical columns\n",
    "X_test_new= scaled_X_test[[\"NBED\", \"NBATH\", \"NFLOOR\", \"BLDAR\", \"LNDAR\"]].copy()\n",
    "# X_test_new[\"CERT\"] = X_test[\"CERT\"]\n",
    "# X_test_new[\"LOC\"] = X_test[\"LOC\"]\n",
    "X_test_new[\"onehotencoder__x0_HGB\"] = X_test[\"onehotencoder__x0_HGB\"]\n",
    "X_test_new[\"onehotencoder__x0_Lainnya\"] = X_test[\"onehotencoder__x0_Lainnya\"]\n",
    "X_test_new[\"onehotencoder__x0_SHM\"] = X_test[\"onehotencoder__x0_SHM\"]\n",
    "X_test_new[\"onehotencoder__x1_Cilandak\"] = X_test[\"onehotencoder__x1_Cilandak\"]\n",
    "X_test_new[\"onehotencoder__x1_Jagakarsa\"] = X_test[\"onehotencoder__x1_Jagakarsa\"]\n",
    "X_test_new[\"onehotencoder__x1_Kebayoran Baru\"] = X_test[\"onehotencoder__x1_Kebayoran Baru\"]\n",
    "X_test_new[\"onehotencoder__x1_Kebayoran Lama\"] = X_test[\"onehotencoder__x1_Kebayoran Lama\"]\n",
    "X_test_new[\"onehotencoder__x1_Mampang Prapatan\"] = X_test[\"onehotencoder__x1_Mampang Prapatan\"]\n",
    "X_test_new[\"onehotencoder__x1_Pancoran\"] = X_test[\"onehotencoder__x1_Pancoran\"]\n",
    "X_test_new[\"onehotencoder__x1_Pasar Minggu\"] = X_test[\"onehotencoder__x1_Pasar Minggu\"]\n",
    "X_test_new[\"onehotencoder__x1_Pesanggrahan\"] = X_test[\"onehotencoder__x1_Pesanggrahan\"]\n",
    "X_test_new[\"onehotencoder__x1_Setia Budi\"] = X_test[\"onehotencoder__x1_Setia Budi\"]\n",
    "X_test_new[\"onehotencoder__x1_Tebet\"] = X_test[\"onehotencoder__x1_Tebet\"]\n",
    "X_test_new.head()\n"
   ]
  },
  {
   "cell_type": "code",
   "execution_count": 216,
   "metadata": {},
   "outputs": [
    {
     "name": "stdout",
     "output_type": "stream",
     "text": [
      "<class 'pandas.core.frame.DataFrame'>\n",
      "Int64Index: 253 entries, 74 to 168\n",
      "Data columns (total 18 columns):\n",
      " #   Column                              Non-Null Count  Dtype  \n",
      "---  ------                              --------------  -----  \n",
      " 0   NBED                                253 non-null    float64\n",
      " 1   NBATH                               253 non-null    float64\n",
      " 2   NFLOOR                              253 non-null    float64\n",
      " 3   BLDAR                               253 non-null    float64\n",
      " 4   LNDAR                               253 non-null    float64\n",
      " 5   onehotencoder__x0_HGB               253 non-null    float64\n",
      " 6   onehotencoder__x0_Lainnya           253 non-null    float64\n",
      " 7   onehotencoder__x0_SHM               253 non-null    float64\n",
      " 8   onehotencoder__x1_Cilandak          253 non-null    float64\n",
      " 9   onehotencoder__x1_Jagakarsa         253 non-null    float64\n",
      " 10  onehotencoder__x1_Kebayoran Baru    253 non-null    float64\n",
      " 11  onehotencoder__x1_Kebayoran Lama    253 non-null    float64\n",
      " 12  onehotencoder__x1_Mampang Prapatan  253 non-null    float64\n",
      " 13  onehotencoder__x1_Pancoran          253 non-null    float64\n",
      " 14  onehotencoder__x1_Pasar Minggu      253 non-null    float64\n",
      " 15  onehotencoder__x1_Pesanggrahan      253 non-null    float64\n",
      " 16  onehotencoder__x1_Setia Budi        253 non-null    float64\n",
      " 17  onehotencoder__x1_Tebet             253 non-null    float64\n",
      "dtypes: float64(18)\n",
      "memory usage: 37.6 KB\n"
     ]
    }
   ],
   "source": [
    "X_train_new.info()"
   ]
  },
  {
   "cell_type": "code",
   "execution_count": 217,
   "metadata": {},
   "outputs": [
    {
     "name": "stdout",
     "output_type": "stream",
     "text": [
      "<class 'pandas.core.frame.DataFrame'>\n",
      "Int64Index: 45 entries, 179 to 174\n",
      "Data columns (total 18 columns):\n",
      " #   Column                              Non-Null Count  Dtype  \n",
      "---  ------                              --------------  -----  \n",
      " 0   NBED                                45 non-null     float64\n",
      " 1   NBATH                               45 non-null     float64\n",
      " 2   NFLOOR                              45 non-null     float64\n",
      " 3   BLDAR                               45 non-null     float64\n",
      " 4   LNDAR                               45 non-null     float64\n",
      " 5   onehotencoder__x0_HGB               45 non-null     float64\n",
      " 6   onehotencoder__x0_Lainnya           45 non-null     float64\n",
      " 7   onehotencoder__x0_SHM               45 non-null     float64\n",
      " 8   onehotencoder__x1_Cilandak          45 non-null     float64\n",
      " 9   onehotencoder__x1_Jagakarsa         45 non-null     float64\n",
      " 10  onehotencoder__x1_Kebayoran Baru    45 non-null     float64\n",
      " 11  onehotencoder__x1_Kebayoran Lama    45 non-null     float64\n",
      " 12  onehotencoder__x1_Mampang Prapatan  45 non-null     float64\n",
      " 13  onehotencoder__x1_Pancoran          45 non-null     float64\n",
      " 14  onehotencoder__x1_Pasar Minggu      45 non-null     float64\n",
      " 15  onehotencoder__x1_Pesanggrahan      45 non-null     float64\n",
      " 16  onehotencoder__x1_Setia Budi        45 non-null     float64\n",
      " 17  onehotencoder__x1_Tebet             45 non-null     float64\n",
      "dtypes: float64(18)\n",
      "memory usage: 6.7 KB\n"
     ]
    }
   ],
   "source": [
    "X_test_new.info()"
   ]
  },
  {
   "cell_type": "markdown",
   "metadata": {},
   "source": [
    "Define Model & Fit to Training Data"
   ]
  },
  {
   "cell_type": "code",
   "execution_count": 218,
   "metadata": {},
   "outputs": [
    {
     "data": {
      "text/html": [
       "<style>#sk-container-id-2 {color: black;background-color: white;}#sk-container-id-2 pre{padding: 0;}#sk-container-id-2 div.sk-toggleable {background-color: white;}#sk-container-id-2 label.sk-toggleable__label {cursor: pointer;display: block;width: 100%;margin-bottom: 0;padding: 0.3em;box-sizing: border-box;text-align: center;}#sk-container-id-2 label.sk-toggleable__label-arrow:before {content: \"▸\";float: left;margin-right: 0.25em;color: #696969;}#sk-container-id-2 label.sk-toggleable__label-arrow:hover:before {color: black;}#sk-container-id-2 div.sk-estimator:hover label.sk-toggleable__label-arrow:before {color: black;}#sk-container-id-2 div.sk-toggleable__content {max-height: 0;max-width: 0;overflow: hidden;text-align: left;background-color: #f0f8ff;}#sk-container-id-2 div.sk-toggleable__content pre {margin: 0.2em;color: black;border-radius: 0.25em;background-color: #f0f8ff;}#sk-container-id-2 input.sk-toggleable__control:checked~div.sk-toggleable__content {max-height: 200px;max-width: 100%;overflow: auto;}#sk-container-id-2 input.sk-toggleable__control:checked~label.sk-toggleable__label-arrow:before {content: \"▾\";}#sk-container-id-2 div.sk-estimator input.sk-toggleable__control:checked~label.sk-toggleable__label {background-color: #d4ebff;}#sk-container-id-2 div.sk-label input.sk-toggleable__control:checked~label.sk-toggleable__label {background-color: #d4ebff;}#sk-container-id-2 input.sk-hidden--visually {border: 0;clip: rect(1px 1px 1px 1px);clip: rect(1px, 1px, 1px, 1px);height: 1px;margin: -1px;overflow: hidden;padding: 0;position: absolute;width: 1px;}#sk-container-id-2 div.sk-estimator {font-family: monospace;background-color: #f0f8ff;border: 1px dotted black;border-radius: 0.25em;box-sizing: border-box;margin-bottom: 0.5em;}#sk-container-id-2 div.sk-estimator:hover {background-color: #d4ebff;}#sk-container-id-2 div.sk-parallel-item::after {content: \"\";width: 100%;border-bottom: 1px solid gray;flex-grow: 1;}#sk-container-id-2 div.sk-label:hover label.sk-toggleable__label {background-color: #d4ebff;}#sk-container-id-2 div.sk-serial::before {content: \"\";position: absolute;border-left: 1px solid gray;box-sizing: border-box;top: 0;bottom: 0;left: 50%;z-index: 0;}#sk-container-id-2 div.sk-serial {display: flex;flex-direction: column;align-items: center;background-color: white;padding-right: 0.2em;padding-left: 0.2em;position: relative;}#sk-container-id-2 div.sk-item {position: relative;z-index: 1;}#sk-container-id-2 div.sk-parallel {display: flex;align-items: stretch;justify-content: center;background-color: white;position: relative;}#sk-container-id-2 div.sk-item::before, #sk-container-id-2 div.sk-parallel-item::before {content: \"\";position: absolute;border-left: 1px solid gray;box-sizing: border-box;top: 0;bottom: 0;left: 50%;z-index: -1;}#sk-container-id-2 div.sk-parallel-item {display: flex;flex-direction: column;z-index: 1;position: relative;background-color: white;}#sk-container-id-2 div.sk-parallel-item:first-child::after {align-self: flex-end;width: 50%;}#sk-container-id-2 div.sk-parallel-item:last-child::after {align-self: flex-start;width: 50%;}#sk-container-id-2 div.sk-parallel-item:only-child::after {width: 0;}#sk-container-id-2 div.sk-dashed-wrapped {border: 1px dashed gray;margin: 0 0.4em 0.5em 0.4em;box-sizing: border-box;padding-bottom: 0.4em;background-color: white;}#sk-container-id-2 div.sk-label label {font-family: monospace;font-weight: bold;display: inline-block;line-height: 1.2em;}#sk-container-id-2 div.sk-label-container {text-align: center;}#sk-container-id-2 div.sk-container {/* jupyter's `normalize.less` sets `[hidden] { display: none; }` but bootstrap.min.css set `[hidden] { display: none !important; }` so we also need the `!important` here to be able to override the default hidden behavior on the sphinx rendered scikit-learn.org. See: https://github.com/scikit-learn/scikit-learn/issues/21755 */display: inline-block !important;position: relative;}#sk-container-id-2 div.sk-text-repr-fallback {display: none;}</style><div id=\"sk-container-id-2\" class=\"sk-top-container\"><div class=\"sk-text-repr-fallback\"><pre>LinearRegression()</pre><b>In a Jupyter environment, please rerun this cell to show the HTML representation or trust the notebook. <br />On GitHub, the HTML representation is unable to render, please try loading this page with nbviewer.org.</b></div><div class=\"sk-container\" hidden><div class=\"sk-item\"><div class=\"sk-estimator sk-toggleable\"><input class=\"sk-toggleable__control sk-hidden--visually\" id=\"sk-estimator-id-2\" type=\"checkbox\" checked><label for=\"sk-estimator-id-2\" class=\"sk-toggleable__label sk-toggleable__label-arrow\">LinearRegression</label><div class=\"sk-toggleable__content\"><pre>LinearRegression()</pre></div></div></div></div></div>"
      ],
      "text/plain": [
       "LinearRegression()"
      ]
     },
     "execution_count": 218,
     "metadata": {},
     "output_type": "execute_result"
    }
   ],
   "source": [
    "#LinearRegression\n",
    "from sklearn.linear_model import LinearRegression\n",
    "\n",
    "regression= LinearRegression()\n",
    "\n",
    "regression.fit(X_train_new, y_train)"
   ]
  },
  {
   "cell_type": "code",
   "execution_count": 219,
   "metadata": {},
   "outputs": [
    {
     "name": "stdout",
     "output_type": "stream",
     "text": [
      "[-0.0062831   0.20798161  0.20241735  0.20257974  0.29718788 -0.07015296\n",
      " -0.10657454  0.1767275   0.16576179 -0.25769257  0.0651129  -0.1972119\n",
      "  0.19539972 -0.06662176  0.04927909  0.21233733  0.18078958 -0.34715418]\n"
     ]
    }
   ],
   "source": [
    "print(regression.coef_)"
   ]
  },
  {
   "cell_type": "code",
   "execution_count": 220,
   "metadata": {},
   "outputs": [
    {
     "name": "stdout",
     "output_type": "stream",
     "text": [
      "20.614078998449283\n"
     ]
    }
   ],
   "source": [
    "print(regression.intercept_)"
   ]
  },
  {
   "cell_type": "markdown",
   "metadata": {},
   "source": [
    "Predict on the Test Set"
   ]
  },
  {
   "cell_type": "code",
   "execution_count": 222,
   "metadata": {},
   "outputs": [],
   "source": [
    "reg_pred=regression.predict(X_test_new)"
   ]
  },
  {
   "cell_type": "code",
   "execution_count": 223,
   "metadata": {},
   "outputs": [
    {
     "data": {
      "text/plain": [
       "array([19.90605964, 21.13710669, 20.6979992 , 21.57894424, 21.005395  ,\n",
       "       21.52498822, 19.82885489, 20.03693027, 20.60014118, 21.32800973,\n",
       "       19.80999002, 19.91232646, 22.73998533, 20.43708294, 20.92677151,\n",
       "       20.58320357, 20.9083235 , 21.10729966, 19.88970583, 19.96321137,\n",
       "       21.81882161, 20.62214402, 21.26335946, 21.94268908, 20.68435611,\n",
       "       21.04826643, 21.22388851, 21.10030122, 19.65936117, 21.23777854,\n",
       "       20.84884025, 21.60385694, 20.77593271, 22.70825665, 21.75091062,\n",
       "       20.61511061, 21.16784796, 20.68761357, 20.48412709, 21.68015514,\n",
       "       20.73656514, 20.05620941, 21.13712965, 22.04428719, 20.6175995 ])"
      ]
     },
     "execution_count": 223,
     "metadata": {},
     "output_type": "execute_result"
    }
   ],
   "source": [
    "reg_pred"
   ]
  },
  {
   "cell_type": "code",
   "execution_count": 224,
   "metadata": {},
   "outputs": [
    {
     "data": {
      "text/plain": [
       "<matplotlib.collections.PathCollection at 0x1314052d0>"
      ]
     },
     "execution_count": 224,
     "metadata": {},
     "output_type": "execute_result"
    },
    {
     "data": {
      "image/png": "[encoded data removed]",
      "text/plain": [
       "<Figure size 640x480 with 1 Axes>"
      ]
     },
     "metadata": {},
     "output_type": "display_data"
    }
   ],
   "source": [
    "plt.scatter(y_test, reg_pred)"
   ]
  },
  {
   "cell_type": "markdown",
   "metadata": {},
   "source": [
    "Evaluate Predictions: Performance Metrics with Visualization "
   ]
  },
  {
   "cell_type": "code",
   "execution_count": 227,
   "metadata": {},
   "outputs": [
    {
     "data": {
      "text/plain": [
       "<seaborn.axisgrid.FacetGrid at 0x13137e020>"
      ]
     },
     "execution_count": 227,
     "metadata": {},
     "output_type": "execute_result"
    },
    {
     "data": {
      "image/png": "[encoded data removed]",
      "text/plain": [
       "<Figure size 500x500 with 1 Axes>"
      ]
     },
     "metadata": {},
     "output_type": "display_data"
    }
   ],
   "source": [
    "#residuals\n",
    "residuals=y_test-reg_pred\n",
    "\n",
    "#plot the residuals\n",
    "sns.displot(residuals, kind=\"kde\")"
   ]
  },
  {
   "cell_type": "code",
   "execution_count": 228,
   "metadata": {},
   "outputs": [
    {
     "data": {
      "text/plain": [
       "<matplotlib.collections.PathCollection at 0x12e5c8700>"
      ]
     },
     "execution_count": 228,
     "metadata": {},
     "output_type": "execute_result"
    },
    {
     "data": {
      "image/png": "[encoded data removed]",
      "text/plain": [
       "<Figure size 640x480 with 1 Axes>"
      ]
     },
     "metadata": {},
     "output_type": "display_data"
    }
   ],
   "source": [
    "#scatter plot with respect to prediction and residuals\n",
    "#need to get uniform distribution\n",
    "plt.scatter(reg_pred, residuals)"
   ]
  },
  {
   "cell_type": "code",
   "execution_count": 229,
   "metadata": {},
   "outputs": [
    {
     "name": "stdout",
     "output_type": "stream",
     "text": [
      "0.46012419665377013\n",
      "0.3881231373896575\n",
      "0.6783245511211946\n"
     ]
    }
   ],
   "source": [
    "from sklearn.metrics import mean_squared_error\n",
    "from sklearn.metrics import mean_absolute_error\n",
    "\n",
    "print(mean_squared_error(y_test, reg_pred))\n",
    "print(mean_absolute_error(y_test, reg_pred))\n",
    "print(np.sqrt(mean_squared_error(y_test,reg_pred)))"
   ]
  },
  {
   "cell_type": "code",
   "execution_count": 230,
   "metadata": {},
   "outputs": [
    {
     "name": "stdout",
     "output_type": "stream",
     "text": [
      "0.07803716929240279\n"
     ]
    }
   ],
   "source": [
    "#R2 score and Adjusted R square\n",
    "from sklearn.metrics import r2_score\n",
    "score=r2_score(y_test, reg_pred)\n",
    "print(score)"
   ]
  },
  {
   "cell_type": "markdown",
   "metadata": {},
   "source": [
    "Cross Validations\n"
   ]
  },
  {
   "cell_type": "markdown",
   "metadata": {},
   "source": [
    "Pickling the Model File"
   ]
  },
  {
   "cell_type": "markdown",
   "metadata": {},
   "source": [
    "# FIN"
   ]
  },
  {
   "cell_type": "markdown",
   "metadata": {},
   "source": []
  }
 ],
 "metadata": {
  "kernelspec": {
   "display_name": "Python 3.10.5 64-bit",
   "language": "python",
   "name": "python3"
  },
  "language_info": {
   "codemirror_mode": {
    "name": "ipython",
    "version": 3
   },
   "file_extension": ".py",
   "mimetype": "text/x-python",
   "name": "python",
   "nbconvert_exporter": "python",
   "pygments_lexer": "ipython3",
   "version": "3.10.5"
  },
  "orig_nbformat": 4,
  "vscode": {
   "interpreter": {
    "hash": "aee8b7b246df8f9039afb4144a1f6fd8d2ca17a180786b69acc140d282b71a49"
   }
  }
 },
 "nbformat": 4,
 "nbformat_minor": 2
}
